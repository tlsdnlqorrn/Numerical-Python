{
  "nbformat": 4,
  "nbformat_minor": 0,
  "metadata": {
    "colab": {
      "name": "Chapter 13.ipynb",
      "provenance": [],
      "collapsed_sections": []
    },
    "kernelspec": {
      "name": "python3",
      "display_name": "Python 3"
    },
    "language_info": {
      "name": "python"
    }
  },
  "cells": [
    {
      "cell_type": "markdown",
      "source": [
        "## Scipy 통계 모듈 - stats\n",
        ": 파이썬을 사용한 기본 통계\n",
        "- 기술 통계량, 랜덤 수, 확률 변수, 분포 및 가설 검정 계산"
      ],
      "metadata": {
        "id": "Gz1MSZXY16sz"
      }
    },
    {
      "cell_type": "code",
      "source": [
        ""
      ],
      "metadata": {
        "id": "M6IZ7Pk72XtB"
      },
      "execution_count": null,
      "outputs": []
    },
    {
      "cell_type": "markdown",
      "source": [
        "## 1. 모듈 임포트"
      ],
      "metadata": {
        "id": "AHPN4BIJ1qPx"
      }
    },
    {
      "cell_type": "code",
      "execution_count": null,
      "metadata": {
        "id": "YmeXIRJhzmPg"
      },
      "outputs": [],
      "source": [
        "from scipy import stats\n",
        "from scipy import optimize\n",
        "import numpy as np\n",
        "import matplotlib.pyplot as plt\n",
        "import seaborn as sns\n",
        "sns.set(style=\"whitegrid\")"
      ]
    },
    {
      "cell_type": "markdown",
      "source": [
        "## 2. 통계 및 확률 리뷰"
      ],
      "metadata": {
        "id": "XV38KO4n2sNm"
      }
    },
    {
      "cell_type": "markdown",
      "source": [
        "##### 평균"
      ],
      "metadata": {
        "id": "m8NqbIGz4qwn"
      }
    },
    {
      "cell_type": "code",
      "source": [
        "x = np.array([3.5, 1.1, 3.2, 2.8, 6.7, 4.4, 0.9, 2.2])\n",
        "np.mean(x)"
      ],
      "metadata": {
        "colab": {
          "base_uri": "https://localhost:8080/"
        },
        "id": "0ba5BXF54IpM",
        "outputId": "a1f3a129-7aba-4d4a-9998-05bebe2e07dc"
      },
      "execution_count": null,
      "outputs": [
        {
          "output_type": "execute_result",
          "data": {
            "text/plain": [
              "3.1"
            ]
          },
          "metadata": {},
          "execution_count": 2
        }
      ]
    },
    {
      "cell_type": "markdown",
      "source": [
        "##### 중앙값"
      ],
      "metadata": {
        "id": "PizfkCuU5G-v"
      }
    },
    {
      "cell_type": "code",
      "source": [
        "np.median(x)"
      ],
      "metadata": {
        "colab": {
          "base_uri": "https://localhost:8080/"
        },
        "id": "4YDrQCHm4dif",
        "outputId": "b6254be0-330e-4ff2-8412-ef217c279d2a"
      },
      "execution_count": null,
      "outputs": [
        {
          "output_type": "execute_result",
          "data": {
            "text/plain": [
              "3.0"
            ]
          },
          "metadata": {},
          "execution_count": 3
        }
      ]
    },
    {
      "cell_type": "markdown",
      "source": [
        "##### 최솟값, 최댓값"
      ],
      "metadata": {
        "id": "vzUZoqec5fZn"
      }
    },
    {
      "cell_type": "code",
      "source": [
        "x.min(), x.max()"
      ],
      "metadata": {
        "colab": {
          "base_uri": "https://localhost:8080/"
        },
        "id": "jhp2f5RQ4ZNW",
        "outputId": "c26ad41d-d8f0-4b12-a211-c302b063ac31"
      },
      "execution_count": null,
      "outputs": [
        {
          "output_type": "execute_result",
          "data": {
            "text/plain": [
              "(0.9, 6.7)"
            ]
          },
          "metadata": {},
          "execution_count": 4
        }
      ]
    },
    {
      "cell_type": "markdown",
      "source": [
        "##### 분산"
      ],
      "metadata": {
        "id": "qT8M9NZq5lLj"
      }
    },
    {
      "cell_type": "code",
      "source": [
        "x.var()"
      ],
      "metadata": {
        "colab": {
          "base_uri": "https://localhost:8080/"
        },
        "id": "ymeM8vw14kJK",
        "outputId": "3ee530d5-8dff-4e31-916a-e253d72340d0"
      },
      "execution_count": null,
      "outputs": [
        {
          "output_type": "execute_result",
          "data": {
            "text/plain": [
              "3.0700000000000007"
            ]
          },
          "metadata": {},
          "execution_count": 5
        }
      ]
    },
    {
      "cell_type": "markdown",
      "source": [
        "##### 표준편차"
      ],
      "metadata": {
        "id": "4BaQzrOv5oSN"
      }
    },
    {
      "cell_type": "code",
      "source": [
        "x.std()"
      ],
      "metadata": {
        "colab": {
          "base_uri": "https://localhost:8080/"
        },
        "id": "Rr-WZo3t4mAT",
        "outputId": "621e5efd-8d1e-4358-a646-355041261e1f"
      },
      "execution_count": null,
      "outputs": [
        {
          "output_type": "execute_result",
          "data": {
            "text/plain": [
              "1.7521415467935233"
            ]
          },
          "metadata": {},
          "execution_count": 6
        }
      ]
    },
    {
      "cell_type": "markdown",
      "source": [
        "##### ddof: 델타 자유도"
      ],
      "metadata": {
        "id": "rVJ8-Z884muz"
      }
    },
    {
      "cell_type": "code",
      "source": [
        "x.var(ddof=1)"
      ],
      "metadata": {
        "colab": {
          "base_uri": "https://localhost:8080/"
        },
        "id": "JSb9uhKF53US",
        "outputId": "94bfd2d6-64db-412c-da89-e9a021a2317c"
      },
      "execution_count": null,
      "outputs": [
        {
          "output_type": "execute_result",
          "data": {
            "text/plain": [
              "3.5085714285714293"
            ]
          },
          "metadata": {},
          "execution_count": 7
        }
      ]
    },
    {
      "cell_type": "code",
      "source": [
        "x.std(ddof=1)"
      ],
      "metadata": {
        "colab": {
          "base_uri": "https://localhost:8080/"
        },
        "id": "W3_hlAAk55vz",
        "outputId": "bd665e1e-6067-4173-b5a0-b941c2ebb900"
      },
      "execution_count": null,
      "outputs": [
        {
          "output_type": "execute_result",
          "data": {
            "text/plain": [
              "1.8731181032095732"
            ]
          },
          "metadata": {},
          "execution_count": 8
        }
      ]
    },
    {
      "cell_type": "markdown",
      "source": [
        "## 3. 랜덤 수 \n",
        "- rand\n",
        "- randn: 표준 정규분포를 따르는 랜덤 수\n",
        "- randint: 주어진 최저와 최대 사이에서 균등 분포하는 랜덤 정수"
      ],
      "metadata": {
        "id": "XdFyj3ew57fI"
      }
    },
    {
      "cell_type": "code",
      "source": [
        "np.random.rand()"
      ],
      "metadata": {
        "colab": {
          "base_uri": "https://localhost:8080/"
        },
        "id": "ksqMwShv6K43",
        "outputId": "bf492ca7-b986-4282-bacc-dbe8859b1122"
      },
      "execution_count": null,
      "outputs": [
        {
          "output_type": "execute_result",
          "data": {
            "text/plain": [
              "0.9257936495576936"
            ]
          },
          "metadata": {},
          "execution_count": 9
        }
      ]
    },
    {
      "cell_type": "code",
      "source": [
        "np.random.randn()"
      ],
      "metadata": {
        "colab": {
          "base_uri": "https://localhost:8080/"
        },
        "id": "opt8pAZr6R5s",
        "outputId": "fe0e4c0d-02f7-4ff7-b420-7b0570f82238"
      },
      "execution_count": null,
      "outputs": [
        {
          "output_type": "execute_result",
          "data": {
            "text/plain": [
              "1.2364281581166552"
            ]
          },
          "metadata": {},
          "execution_count": 10
        }
      ]
    },
    {
      "cell_type": "markdown",
      "source": [
        "### 랜덤 배열 "
      ],
      "metadata": {
        "id": "ofctD66l6S30"
      }
    },
    {
      "cell_type": "code",
      "source": [
        "np.random.rand(5)"
      ],
      "metadata": {
        "colab": {
          "base_uri": "https://localhost:8080/"
        },
        "id": "EmSrxQOk6v2X",
        "outputId": "6d43894f-cfb4-46db-edd2-7dc02b79c55a"
      },
      "execution_count": null,
      "outputs": [
        {
          "output_type": "execute_result",
          "data": {
            "text/plain": [
              "array([0.66144809, 0.36796331, 0.69257675, 0.18922859, 0.97011494])"
            ]
          },
          "metadata": {},
          "execution_count": 11
        }
      ]
    },
    {
      "cell_type": "code",
      "source": [
        "np.random.randn(2, 4)   # 2x4 배열 생성"
      ],
      "metadata": {
        "colab": {
          "base_uri": "https://localhost:8080/"
        },
        "id": "wodl_Gnb61SO",
        "outputId": "50695796-e27a-44e3-dc91-8d031b1e8799"
      },
      "execution_count": null,
      "outputs": [
        {
          "output_type": "execute_result",
          "data": {
            "text/plain": [
              "array([[-0.95396491,  0.22690127, -0.54034511, -1.12278039],\n",
              "       [-1.04979909,  0.17219181, -0.91246167,  0.60904405]])"
            ]
          },
          "metadata": {},
          "execution_count": 12
        }
      ]
    },
    {
      "cell_type": "code",
      "source": [
        "np.random.randint(10, size=10)  # 배열 길이 10, 10 이하의 랜덤 정수 배열 생성\n",
        "# 상한선 또는 상한선과 하한선을 모두 인수로 제공해야  함\n"
      ],
      "metadata": {
        "colab": {
          "base_uri": "https://localhost:8080/"
        },
        "id": "dm2acwfJ7F66",
        "outputId": "c4882c38-e50a-4a4c-eb8b-9007f7bdd2ae"
      },
      "execution_count": null,
      "outputs": [
        {
          "output_type": "execute_result",
          "data": {
            "text/plain": [
              "array([8, 1, 1, 7, 2, 1, 6, 1, 8, 7])"
            ]
          },
          "metadata": {},
          "execution_count": 13
        }
      ]
    },
    {
      "cell_type": "code",
      "source": [
        "np.random.randint(low=10, high=20, size=(2, 10)) # 10~20 으로 구성된 2x10 랜덤 정수 배열 생성"
      ],
      "metadata": {
        "colab": {
          "base_uri": "https://localhost:8080/"
        },
        "id": "46zu2Xne7N7Z",
        "outputId": "c90efbe9-4897-4099-933e-383004aabc7b"
      },
      "execution_count": null,
      "outputs": [
        {
          "output_type": "execute_result",
          "data": {
            "text/plain": [
              "array([[18, 11, 18, 13, 19, 19, 10, 16, 11, 16],\n",
              "       [11, 18, 17, 11, 16, 16, 10, 13, 15, 17]])"
            ]
          },
          "metadata": {},
          "execution_count": 14
        }
      ]
    },
    {
      "cell_type": "code",
      "source": [
        "fig, axes = plt.subplots(1, 3, figsize=(12, 3))\n",
        "axes[0].hist(np.random.rand(10000))\n",
        "axes[0].set_title(\"rand\")\n",
        "axes[1].hist(np.random.randn(10000))\n",
        "axes[1].set_title(\"randn\")\n",
        "axes[2].hist(np.random.randint(low=1, high=10, size=10000), bins=9, align='left')\n",
        "axes[2].set_title(\"randint(low=1, high=10\")"
      ],
      "metadata": {
        "colab": {
          "base_uri": "https://localhost:8080/",
          "height": 247
        },
        "id": "sFOQ2_HO6JVE",
        "outputId": "332d1b44-9f11-45a8-98e2-a9edf6f9b4e9"
      },
      "execution_count": null,
      "outputs": [
        {
          "output_type": "execute_result",
          "data": {
            "text/plain": [
              "Text(0.5, 1.0, 'randint(low=1, high=10')"
            ]
          },
          "metadata": {},
          "execution_count": 15
        },
        {
          "output_type": "display_data",
          "data": {
            "text/plain": [
              "<Figure size 864x216 with 3 Axes>"
            ],
            "image/png": "[encoded data removed]"
          },
          "metadata": {
            "needs_background": "light"
          }
        }
      ]
    },
    {
      "cell_type": "markdown",
      "source": [
        "↑ rand와 randint의 분포는 균일해보이지만 다른 범위와 유형을 갖고 있는 반면,  \n",
        "randn으로 생성한 숫자의 분포는 예상대로 0을 중심으로 한 가우스 곡선과 유사하다. (정규분포)"
      ],
      "metadata": {
        "id": "NNFO6hKo9HG2"
      }
    },
    {
      "cell_type": "code",
      "source": [
        ""
      ],
      "metadata": {
        "id": "pjo3MnMwSS3K"
      },
      "execution_count": null,
      "outputs": []
    },
    {
      "cell_type": "markdown",
      "source": [
        "##### choice: 모집단에서 원소를 랜덤으로 추출 (복원 or 비복원) "
      ],
      "metadata": {
        "id": "sWxM6lWI-GzG"
      }
    },
    {
      "cell_type": "code",
      "source": [
        "np.random.choice(10, 5, replace=False)  # (모집단의 원소 개수, 추출할 원소 개수, 복원 여부)"
      ],
      "metadata": {
        "colab": {
          "base_uri": "https://localhost:8080/"
        },
        "id": "PGQcN4-V-iAX",
        "outputId": "0a758c19-6696-4975-e2ec-0477204b195f"
      },
      "execution_count": null,
      "outputs": [
        {
          "output_type": "execute_result",
          "data": {
            "text/plain": [
              "array([0, 1, 8, 3, 5])"
            ]
          },
          "metadata": {},
          "execution_count": 16
        }
      ]
    },
    {
      "cell_type": "markdown",
      "source": [
        "##### seed: 랜덤 수 발생기를 특정 상태(항상 동일한 램덤 수)로 초기화하는 숫자"
      ],
      "metadata": {
        "id": "WkGbDBf4-ndZ"
      }
    },
    {
      "cell_type": "code",
      "source": [
        "np.random.seed(123456789)\n",
        "np.random.rand()"
      ],
      "metadata": {
        "colab": {
          "base_uri": "https://localhost:8080/"
        },
        "id": "jNjxk8iM_Lrc",
        "outputId": "177fbe54-51fb-4d4a-ac3b-ad9e206a1cc2"
      },
      "execution_count": null,
      "outputs": [
        {
          "output_type": "execute_result",
          "data": {
            "text/plain": [
              "0.532833024789759"
            ]
          },
          "metadata": {},
          "execution_count": 17
        }
      ]
    },
    {
      "cell_type": "markdown",
      "source": [
        "#### RandomState 클래스\n",
        ": np.random 모듈의 함수를 직접 사용하지 않고 randomState 인스턴스를 사용하면  \n",
        "랜덤 수 발생기의 상태에 대한 보다 미세한 수준의 제어가 가능하고, 전역 상태 변수에 의존하지 않으며 코드의 독립성을 개선한다.\n",
        "- x^2 (chisqure)\n",
        "- 스튜던트-t 분포 (standard_t)\n",
        "- F 분포 (f)\n",
        "- 이산 이항 분포\n",
        "- 푸아송 분포"
      ],
      "metadata": {
        "id": "F6kTreAT-FaQ"
      }
    },
    {
      "cell_type": "code",
      "source": [
        "prng = np.random.RandomState(123456789)\n",
        "prng.randn(2, 4)"
      ],
      "metadata": {
        "colab": {
          "base_uri": "https://localhost:8080/"
        },
        "id": "JcE616VFAM0s",
        "outputId": "8e36529f-2f4b-4a87-95fa-9b513579672f"
      },
      "execution_count": null,
      "outputs": [
        {
          "output_type": "execute_result",
          "data": {
            "text/plain": [
              "array([[ 2.212902  ,  2.1283978 ,  1.8417114 ,  0.08238248],\n",
              "       [ 0.85896368, -0.82601643,  1.15727052,  1.37591514]])"
            ]
          },
          "metadata": {},
          "execution_count": 18
        }
      ]
    },
    {
      "cell_type": "code",
      "source": [
        "prng.chisquare(1, size=(2, 2))"
      ],
      "metadata": {
        "colab": {
          "base_uri": "https://localhost:8080/"
        },
        "id": "VOf7KwbiAU9Z",
        "outputId": "1ceae162-f426-4887-9463-7611d2275428"
      },
      "execution_count": null,
      "outputs": [
        {
          "output_type": "execute_result",
          "data": {
            "text/plain": [
              "array([[1.26859720e+00, 2.02731988e+00],\n",
              "       [2.52605129e-05, 3.00376585e-04]])"
            ]
          },
          "metadata": {},
          "execution_count": 19
        }
      ]
    },
    {
      "cell_type": "code",
      "source": [
        "prng.standard_t(1, size=(2, 3))"
      ],
      "metadata": {
        "colab": {
          "base_uri": "https://localhost:8080/"
        },
        "id": "44XMYSBNC6YC",
        "outputId": "22c1239e-cdba-48a9-e932-46e36635811a"
      },
      "execution_count": null,
      "outputs": [
        {
          "output_type": "execute_result",
          "data": {
            "text/plain": [
              "array([[ 0.59734384, -1.27669959,  0.09724793],\n",
              "       [ 0.22451466,  0.39697518, -0.19469463]])"
            ]
          },
          "metadata": {},
          "execution_count": 20
        }
      ]
    },
    {
      "cell_type": "code",
      "source": [
        "prng.f(5, 2, size=(2, 4))"
      ],
      "metadata": {
        "colab": {
          "base_uri": "https://localhost:8080/"
        },
        "id": "DrQoPfnfDBRf",
        "outputId": "4616a94f-cfc3-42b8-c814-8fb383d6f203"
      },
      "execution_count": null,
      "outputs": [
        {
          "output_type": "execute_result",
          "data": {
            "text/plain": [
              "array([[ 0.77372119,  0.1213796 ,  1.64779052,  1.21399831],\n",
              "       [ 0.45471421, 17.64891848,  1.48620557,  2.55433261]])"
            ]
          },
          "metadata": {},
          "execution_count": 21
        }
      ]
    },
    {
      "cell_type": "code",
      "source": [
        "prng.binomial(10, 0.5, size=10)"
      ],
      "metadata": {
        "colab": {
          "base_uri": "https://localhost:8080/"
        },
        "id": "oXi2FWU9DFFL",
        "outputId": "751d78c4-9a3f-492d-b39a-85949fd53d06"
      },
      "execution_count": null,
      "outputs": [
        {
          "output_type": "execute_result",
          "data": {
            "text/plain": [
              "array([8, 3, 4, 2, 4, 5, 4, 4, 7, 5])"
            ]
          },
          "metadata": {},
          "execution_count": 22
        }
      ]
    },
    {
      "cell_type": "code",
      "source": [
        "prng.poisson(5, size=10)"
      ],
      "metadata": {
        "colab": {
          "base_uri": "https://localhost:8080/"
        },
        "id": "KwG-vWksDYGS",
        "outputId": "40765ece-e17b-4206-906a-ba71bf301b37"
      },
      "execution_count": null,
      "outputs": [
        {
          "output_type": "execute_result",
          "data": {
            "text/plain": [
              "array([7, 1, 3, 4, 6, 4, 9, 7, 3, 6])"
            ]
          },
          "metadata": {},
          "execution_count": 23
        }
      ]
    },
    {
      "cell_type": "markdown",
      "source": [
        "## 4. 확률 변수 및 분포 "
      ],
      "metadata": {
        "id": "9ugmn7QtDlbV"
      }
    },
    {
      "cell_type": "markdown",
      "source": [
        "### Scipy stats의 확률 변수 클래스"
      ],
      "metadata": {
        "id": "WnR5niuKRGvZ"
      }
    },
    {
      "cell_type": "code",
      "source": [
        "X = stats.norm(1, 0.5)  # 평균 = 1, 표준편차 = 0.5인 정규분포 생성"
      ],
      "metadata": {
        "id": "ShhrxrWuEC6r"
      },
      "execution_count": null,
      "outputs": []
    },
    {
      "cell_type": "markdown",
      "source": [
        "##### 기술 통계량"
      ],
      "metadata": {
        "id": "WWn5MlG44FGB"
      }
    },
    {
      "cell_type": "code",
      "source": [
        "X.mean()  # 평균"
      ],
      "metadata": {
        "colab": {
          "base_uri": "https://localhost:8080/"
        },
        "id": "wjnv9g9kQXnr",
        "outputId": "f447f4e8-70b4-41bc-e530-f39b85bb7980"
      },
      "execution_count": null,
      "outputs": [
        {
          "output_type": "execute_result",
          "data": {
            "text/plain": [
              "1.0"
            ]
          },
          "metadata": {},
          "execution_count": 25
        }
      ]
    },
    {
      "cell_type": "code",
      "source": [
        "X.median()  # 중앙값"
      ],
      "metadata": {
        "colab": {
          "base_uri": "https://localhost:8080/"
        },
        "id": "G_KqNmVsQmlG",
        "outputId": "73937897-e8d3-45c8-d0e0-78d556a23632"
      },
      "execution_count": null,
      "outputs": [
        {
          "output_type": "execute_result",
          "data": {
            "text/plain": [
              "1.0"
            ]
          },
          "metadata": {},
          "execution_count": 26
        }
      ]
    },
    {
      "cell_type": "code",
      "source": [
        "X.std()  # 표준편차"
      ],
      "metadata": {
        "colab": {
          "base_uri": "https://localhost:8080/"
        },
        "id": "aT4mNJE6Ql2o",
        "outputId": "644f2068-0d89-4105-bdc8-e26256877ec8"
      },
      "execution_count": null,
      "outputs": [
        {
          "output_type": "execute_result",
          "data": {
            "text/plain": [
              "0.5"
            ]
          },
          "metadata": {},
          "execution_count": 27
        }
      ]
    },
    {
      "cell_type": "code",
      "source": [
        "X.var()  # 분산"
      ],
      "metadata": {
        "colab": {
          "base_uri": "https://localhost:8080/"
        },
        "id": "Ucm3eWf0Qkdk",
        "outputId": "ed38b546-18fd-4222-ae38-4e8643213482"
      },
      "execution_count": null,
      "outputs": [
        {
          "output_type": "execute_result",
          "data": {
            "text/plain": [
              "0.25"
            ]
          },
          "metadata": {},
          "execution_count": 28
        }
      ]
    },
    {
      "cell_type": "markdown",
      "source": [
        "##### 임의 차수의 비중심 모멘트 "
      ],
      "metadata": {
        "id": "akxV8JwPQuHU"
      }
    },
    {
      "cell_type": "code",
      "source": [
        "[X.moment(n) for n in range(5)]"
      ],
      "metadata": {
        "colab": {
          "base_uri": "https://localhost:8080/"
        },
        "id": "3yt5Z44zQ4gZ",
        "outputId": "9ae09e41-6fb3-46ff-909d-8a556c59aee3"
      },
      "execution_count": null,
      "outputs": [
        {
          "output_type": "execute_result",
          "data": {
            "text/plain": [
              "[1.0, 1.0, 1.25, 1.75, 2.6875]"
            ]
          },
          "metadata": {},
          "execution_count": 29
        }
      ]
    },
    {
      "cell_type": "markdown",
      "source": [
        "##### stats 메서드\n",
        ": 분포-종속 통계량 리스트 (정규분포 확률변수에 대한 평균과 분산)"
      ],
      "metadata": {
        "id": "NZK5kacLQ-rU"
      }
    },
    {
      "cell_type": "code",
      "source": [
        "X.stats()"
      ],
      "metadata": {
        "colab": {
          "base_uri": "https://localhost:8080/"
        },
        "id": "GWN3ChCeRg9q",
        "outputId": "22b72a27-9b43-4dd1-df64-7744f3af85f4"
      },
      "execution_count": null,
      "outputs": [
        {
          "output_type": "execute_result",
          "data": {
            "text/plain": [
              "(array(1.), array(0.25))"
            ]
          },
          "metadata": {},
          "execution_count": 30
        }
      ]
    },
    {
      "cell_type": "markdown",
      "source": [
        "##### 확률 분포 함수"
      ],
      "metadata": {
        "id": "kHJn9b6tRiv7"
      }
    },
    {
      "cell_type": "code",
      "source": [
        "X.pdf([0, 1, 2])"
      ],
      "metadata": {
        "colab": {
          "base_uri": "https://localhost:8080/"
        },
        "id": "iExgnyFzRqaf",
        "outputId": "38f79673-24b0-4ea5-fec8-98cde04ecf61"
      },
      "execution_count": null,
      "outputs": [
        {
          "output_type": "execute_result",
          "data": {
            "text/plain": [
              "array([0.10798193, 0.79788456, 0.10798193])"
            ]
          },
          "metadata": {},
          "execution_count": 31
        }
      ]
    },
    {
      "cell_type": "markdown",
      "source": [
        "##### 누적 분포 함수"
      ],
      "metadata": {
        "id": "HyzLEQFuRwvo"
      }
    },
    {
      "cell_type": "code",
      "source": [
        "X.cdf([0, 1, 2])"
      ],
      "metadata": {
        "colab": {
          "base_uri": "https://localhost:8080/"
        },
        "id": "llzDLZ6JR1Gu",
        "outputId": "843dee5c-dc76-4973-f76a-62df79c7ded8"
      },
      "execution_count": null,
      "outputs": [
        {
          "output_type": "execute_result",
          "data": {
            "text/plain": [
              "array([0.02275013, 0.5       , 0.97724987])"
            ]
          },
          "metadata": {},
          "execution_count": 32
        }
      ]
    },
    {
      "cell_type": "markdown",
      "source": [
        "##### 신뢰 구간"
      ],
      "metadata": {
        "id": "4WKZtpOdR4oO"
      }
    },
    {
      "cell_type": "code",
      "source": [
        "X.interval(0.95)"
      ],
      "metadata": {
        "colab": {
          "base_uri": "https://localhost:8080/"
        },
        "id": "DYsgHrXGR7mv",
        "outputId": "f4fe8b1c-7a56-4978-c077-e9c4561d3ff1"
      },
      "execution_count": null,
      "outputs": [
        {
          "output_type": "execute_result",
          "data": {
            "text/plain": [
              "(0.020018007729972975, 1.979981992270027)"
            ]
          },
          "metadata": {},
          "execution_count": 33
        }
      ]
    },
    {
      "cell_type": "code",
      "source": [
        "X.interval(0.99)"
      ],
      "metadata": {
        "colab": {
          "base_uri": "https://localhost:8080/"
        },
        "id": "6_FFln_ASe2R",
        "outputId": "0759d5bc-1a1d-4bd4-929a-92dbd60e4400"
      },
      "execution_count": null,
      "outputs": [
        {
          "output_type": "execute_result",
          "data": {
            "text/plain": [
              "(-0.2879146517744502, 2.28791465177445)"
            ]
          },
          "metadata": {},
          "execution_count": 34
        }
      ]
    },
    {
      "cell_type": "markdown",
      "source": [
        "##### 도식화 "
      ],
      "metadata": {
        "id": "mGG2YHnRSj3v"
      }
    },
    {
      "cell_type": "code",
      "source": [
        "def plot_rv_distribution(X, axes=None):\n",
        "  if axes is None:\n",
        "    fig, axes = plt.subplots(1, 3, figsize=(12, 3))\n",
        "\n",
        "  x_min_999, x_max_999 = X.interval(0.999)\n",
        "  x999 = np.linspace(x_min_999, x_max_999, 1000)\n",
        "  x_min_95, x_max_95 = X.interval(0.95)\n",
        "  x95 = np.linspace(x_min_95, x_max_95, 1000)\n",
        "\n",
        "  if hasattr(X.dist, \"pdf\"):\n",
        "    axes[0].plot(x999, X.pdf(x999), label = \"PDF\")\n",
        "    axes[0].fill_between(x95, X.pdf(x95), alpha=0.25)\n",
        "\n",
        "  else:\n",
        "    x999_int = np.unique(x999.astype(int))\n",
        "    axes[0].bar(x999_int, X.pmf(x999_int), label = \"PMF\")\n",
        "    \n",
        "  axes[1].plot(x999, X.cdf(x999), label=\"CDF\")\n",
        "  axes[1].plot(x999, X.sf(x999), label=\"SF\")\n",
        "  axes[2].plot(x999, X.ppf(x999), label=\"PPF\")\n",
        "\n",
        "  for ax in axes:\n",
        "    ax.legend()"
      ],
      "metadata": {
        "id": "Nfz5jTz7TY2l"
      },
      "execution_count": null,
      "outputs": []
    },
    {
      "cell_type": "code",
      "source": [
        "fig, axes = plt.subplots(3, 3, figsize=(12, 9))\n",
        "X = stats.norm()\n",
        "plot_rv_distribution(X, axes=axes[0, :])\n",
        "axes[0, 0].set_ylabel(\"Normal dist.\")\n",
        "X = stats.f(2, 50)\n",
        "plot_rv_distribution(X, axes=axes[1, :])\n",
        "axes[1, 0].set_ylabel(\"F dist.\")\n",
        "X = stats.poisson(5)\n",
        "plot_rv_distribution(X, axes=axes[2, :])\n",
        "axes[2, 0].set_ylabel(\"Poisson dist.\")"
      ],
      "metadata": {
        "colab": {
          "base_uri": "https://localhost:8080/",
          "height": 553
        },
        "id": "oVGeMHt2TXt8",
        "outputId": "06deed9f-9ff8-4a82-8fd4-3835aa845432"
      },
      "execution_count": null,
      "outputs": [
        {
          "output_type": "execute_result",
          "data": {
            "text/plain": [
              "Text(0, 0.5, 'Poisson dist.')"
            ]
          },
          "metadata": {},
          "execution_count": 36
        },
        {
          "output_type": "display_data",
          "data": {
            "text/plain": [
              "<Figure size 864x648 with 9 Axes>"
            ],
            "image/png": "[encoded data removed]"
          },
          "metadata": {
            "needs_background": "light"
          }
        }
      ]
    },
    {
      "cell_type": "markdown",
      "source": [
        "- 클래스 메서드에 매개변수를 인수로 전달"
      ],
      "metadata": {
        "id": "ew-bFadZTUE6"
      }
    },
    {
      "cell_type": "code",
      "source": [
        "stats.norm.stats(loc=2, scale=0.5)"
      ],
      "metadata": {
        "colab": {
          "base_uri": "https://localhost:8080/"
        },
        "id": "L7rNYebyWOQp",
        "outputId": "6482eefd-31a5-490c-dec1-bcc15f1558da"
      },
      "execution_count": null,
      "outputs": [
        {
          "output_type": "execute_result",
          "data": {
            "text/plain": [
              "(array(2.), array(0.25))"
            ]
          },
          "metadata": {},
          "execution_count": 37
        }
      ]
    },
    {
      "cell_type": "markdown",
      "source": [
        "- 클래스 인스턴스를 만든 후 메서드 호출"
      ],
      "metadata": {
        "id": "ylD0AcAlWxKw"
      }
    },
    {
      "cell_type": "code",
      "source": [
        "stats.norm(loc=1, scale=0.5).stats()"
      ],
      "metadata": {
        "colab": {
          "base_uri": "https://localhost:8080/"
        },
        "id": "ZjgxNznUWSz1",
        "outputId": "33463634-e725-4f5f-9c1f-2ff3c1ac8a79"
      },
      "execution_count": null,
      "outputs": [
        {
          "output_type": "execute_result",
          "data": {
            "text/plain": [
              "(array(1.), array(0.25))"
            ]
          },
          "metadata": {},
          "execution_count": 38
        }
      ]
    },
    {
      "cell_type": "markdown",
      "source": [
        "##### rvs: 확률분포에 따라 분포하는 랜덤 수 추출"
      ],
      "metadata": {
        "id": "rCnQMiesWYXs"
      }
    },
    {
      "cell_type": "code",
      "source": [
        "X = stats.norm(1, 0.5)  # 정규분포 생성\n",
        "X.rvs(10)"
      ],
      "metadata": {
        "colab": {
          "base_uri": "https://localhost:8080/"
        },
        "id": "UZO_jp92XO9T",
        "outputId": "0677c33d-056a-4edd-df7e-3f2af27bd974"
      },
      "execution_count": null,
      "outputs": [
        {
          "output_type": "execute_result",
          "data": {
            "text/plain": [
              "array([1.43841711, 2.56662976, 0.50437638, 1.43558405, 1.24249875,\n",
              "       1.15962805, 1.2265658 , 0.54154384, 1.66932021, 1.42933398])"
            ]
          },
          "metadata": {},
          "execution_count": 39
        }
      ]
    },
    {
      "cell_type": "markdown",
      "source": [
        "##### 도식화: 실제 해당 확률 분포 함수 확인"
      ],
      "metadata": {
        "id": "KNhgCB0OZF-b"
      }
    },
    {
      "cell_type": "code",
      "source": [
        "def plot_dist_samples(X, X_samples, title=None, ax=None):\n",
        "  if ax is None:\n",
        "    fig, ax = plt.subplots(1, 1, figsize=(8, 4))\n",
        "\n",
        "  x_lim = X.interval(.99)\n",
        "  x = np.linspace(*x_lim, num=100)\n",
        "  ax.plot(x, X.pdf(x), label = \"PDF\", lw=3)\n",
        "  ax.hist(X_samples, label=\"samples\", density=1, bins=75)\n",
        "  ax.set_xlim(*x_lim)\n",
        "  ax.legend()\n",
        "\n",
        "  if title:\n",
        "    ax.set_title(title)\n",
        "  return ax"
      ],
      "metadata": {
        "id": "1NCga-0AXVtV"
      },
      "execution_count": null,
      "outputs": []
    },
    {
      "cell_type": "code",
      "source": [
        "fig, axes = plt.subplots(1, 3, figsize=(12, 3))\n",
        "N = 2000\n",
        "X = stats.t(7.0)  # 스튜던트-t 분포\n",
        "plot_dist_samples(X, X.rvs(N), \"Student's t dist.\", ax=axes[0])\n",
        "X = stats.chi2(5.0)  # 카이-제곱 분포\n",
        "plot_dist_samples(X, X.rvs(N), r\"$\\chi^2$ dist.\", ax=axes[1])\n",
        "X = stats.expon(0.5)  # 지수 분포\n",
        "plot_dist_samples(X, X.rvs(N), \"exponential dist.\", ax=axes[2])"
      ],
      "metadata": {
        "colab": {
          "base_uri": "https://localhost:8080/",
          "height": 251
        },
        "id": "cn2tSqM-YPAv",
        "outputId": "1bfca010-66de-4e44-f34b-e7d8806f3e58"
      },
      "execution_count": null,
      "outputs": [
        {
          "output_type": "execute_result",
          "data": {
            "text/plain": [
              "<matplotlib.axes._subplots.AxesSubplot at 0x7f957cceb0d0>"
            ]
          },
          "metadata": {},
          "execution_count": 41
        },
        {
          "output_type": "display_data",
          "data": {
            "text/plain": [
              "<Figure size 864x216 with 3 Axes>"
            ],
            "image/png": "[encoded data removed]"
          },
          "metadata": {
            "needs_background": "light"
          }
        }
      ]
    },
    {
      "cell_type": "code",
      "source": [
        ""
      ],
      "metadata": {
        "id": "pMCw5G82XTOj"
      },
      "execution_count": null,
      "outputs": []
    },
    {
      "cell_type": "markdown",
      "source": [
        "#### 최대 우도 적합화\n",
        ": 주어진 데이터를 관찰할 우도를 최대화할 수 있는 미지의 매개변수 탐색"
      ],
      "metadata": {
        "id": "jSxjgXo3ZObD"
      }
    },
    {
      "cell_type": "code",
      "source": [
        "X = stats.chi2(df=5)  # 자유도가 5인 카이-제곱 분포 생성\n",
        "X_samples = X.rvs(500)  # 랜덤 표본 추출\n",
        "df, loc, scale = stats.chi2.fit(X_samples)  # 재적합화\n",
        "df, loc, scale"
      ],
      "metadata": {
        "colab": {
          "base_uri": "https://localhost:8080/"
        },
        "id": "tYzOrd-lats1",
        "outputId": "c2b2919b-ef36-4e84-b6e5-6b7ba2e7f05f"
      },
      "execution_count": null,
      "outputs": [
        {
          "output_type": "execute_result",
          "data": {
            "text/plain": [
              "(4.528531755581526, 0.1453941955212967, 1.1094036952339144)"
            ]
          },
          "metadata": {},
          "execution_count": 42
        }
      ]
    },
    {
      "cell_type": "code",
      "source": [
        "Y = stats.chi2(df=df, loc=loc, scale=scale)"
      ],
      "metadata": {
        "id": "uS0KoNbha9Hn"
      },
      "execution_count": null,
      "outputs": []
    },
    {
      "cell_type": "markdown",
      "source": [
        "##### 도식화"
      ],
      "metadata": {
        "id": "9mh739_qBGy9"
      }
    },
    {
      "cell_type": "code",
      "source": [
        "fig, axes = plt.subplots(1, 2, figsize=(12, 4))\n",
        "x_lim = X.interval(0.99)\n",
        "x = np.linspace(*x_lim, num=100)\n",
        "\n",
        "axes[0].plot(x, X.pdf(x), label=\"original\")\n",
        "axes[0].plot(x, Y.pdf(x), label=\"recreatedl\")\n",
        "axes[0].legend()\n",
        "axes[1].plot(x, X.pdf(x) - Y.pdf(x), label=\"error\")\n",
        "axes[1].legend()"
      ],
      "metadata": {
        "colab": {
          "base_uri": "https://localhost:8080/",
          "height": 288
        },
        "id": "1tXOaAtQbBVv",
        "outputId": "f7aad980-fd02-4f19-c743-8f237fc31139"
      },
      "execution_count": null,
      "outputs": [
        {
          "output_type": "execute_result",
          "data": {
            "text/plain": [
              "<matplotlib.legend.Legend at 0x7f957c83ff50>"
            ]
          },
          "metadata": {},
          "execution_count": 44
        },
        {
          "output_type": "display_data",
          "data": {
            "text/plain": [
              "<Figure size 864x288 with 2 Axes>"
            ],
            "image/png": "[encoded data removed]"
          },
          "metadata": {
            "needs_background": "light"
          }
        }
      ]
    },
    {
      "cell_type": "code",
      "source": [
        ""
      ],
      "metadata": {
        "id": "rs2hVi04cgRn"
      },
      "execution_count": null,
      "outputs": []
    },
    {
      "cell_type": "markdown",
      "source": [
        "## 5. 가설 검정 \n",
        ": 주장(가설)의 타당성 여부를 데이터에 기초해 평가하는 체계적인 방법론.\n",
        "\n",
        "- 귀무가설: 현재 인정되고 있는 지식의 상태.\n",
        "- 대립가설: 현재 지식 상태에 도전하는 새로운 주장.  \n",
        "  \n",
        "\n",
        "1. 귀무 가설과 대립 가설을 유형화한다.  \n",
        "2. 귀무 가설이 속해 있는 것으로 알려진 표본 분포에 따라 검정 통계량을 선택한다. (정확하거나 근사)  \n",
        "3. 자료를 수집한다.\n",
        "4. 데이터에서 검정 통계량을 계산하고 귀무 가설하에서 p-값을 계산한다.\n",
        "5. p-값이 사전에 정한 유의 수준 alpha 보다 작을 경우, 귀무 가설을 기각한다.  \n",
        "p-값이 크면 귀무 가설을 기각하지 못한다."
      ],
      "metadata": {
        "id": "1xllHT-wHh5j"
      }
    },
    {
      "cell_type": "markdown",
      "source": [
        "두 가지 오류\n",
        "- 제1형 오류: 실제로 기각돼서는 안 되는 귀무 가설을 잘못으로 기각할 수 있다.\n",
        "- 제2형 오류: 귀무 가설이 기각돼야 하지만 오류로 인해 기각하지 않을 수 있다."
      ],
      "metadata": {
        "id": "t-L_3ZbFLm8z"
      }
    },
    {
      "cell_type": "markdown",
      "source": [
        "### 예1"
      ],
      "metadata": {
        "id": "JopKx-9jbDoI"
      }
    },
    {
      "cell_type": "markdown",
      "source": [
        "#### 정규표본화"
      ],
      "metadata": {
        "id": "zyNtxD_mVu-S"
      }
    },
    {
      "cell_type": "code",
      "source": [
        "mu0, mu, sigma = 1.0, 0.8, 0.5\n",
        "X = stats.norm(mu, sigma)\n",
        "n = 100\n",
        "X_samples = X.rvs(n)  # 100개의 랜덤 표본 추출"
      ],
      "metadata": {
        "id": "2tW6kkwmKHJD"
      },
      "execution_count": null,
      "outputs": []
    },
    {
      "cell_type": "code",
      "source": [
        "z = (X_samples.mean() - mu0)/(sigma/np.sqrt(n))  # 정규화\n",
        "z"
      ],
      "metadata": {
        "colab": {
          "base_uri": "https://localhost:8080/"
        },
        "id": "FHroYi4eHmdu",
        "outputId": "38f00ca3-ec64-4f10-bae2-5700c69bfe32"
      },
      "execution_count": null,
      "outputs": [
        {
          "output_type": "execute_result",
          "data": {
            "text/plain": [
              "-3.4854895810383546"
            ]
          },
          "metadata": {},
          "execution_count": 55
        }
      ]
    },
    {
      "cell_type": "markdown",
      "source": [
        "모집단의 분산 --> 표본 표준편차 대체 *가능*"
      ],
      "metadata": {
        "id": "1xClQQ-1V0xu"
      }
    },
    {
      "cell_type": "code",
      "source": [
        "t = (X_samples.mean() - mu0)/(X_samples.std(ddof=1)/np.sqrt(n))  # 정규화\n",
        "t"
      ],
      "metadata": {
        "colab": {
          "base_uri": "https://localhost:8080/"
        },
        "id": "y1c3L6HvHlMl",
        "outputId": "6df76c15-081c-445a-8eff-1498b49156ab"
      },
      "execution_count": null,
      "outputs": [
        {
          "output_type": "execute_result",
          "data": {
            "text/plain": [
              "-3.6398958318358803"
            ]
          },
          "metadata": {},
          "execution_count": 56
        }
      ]
    },
    {
      "cell_type": "markdown",
      "source": [
        "#### 통계량 검정"
      ],
      "metadata": {
        "id": "ewpZxeTrYaZp"
      }
    },
    {
      "cell_type": "markdown",
      "source": [
        "##### ppf: 특정 유의 수준에 해당하는 통계량 값 조회"
      ],
      "metadata": {
        "id": "GBW3Bsl7WiGs"
      }
    },
    {
      "cell_type": "code",
      "source": [
        "stats.norm().ppf(0.025)  # 유의 수준 5% (각 측면에서 2.5%)에 대한 양측 가설 검정"
      ],
      "metadata": {
        "colab": {
          "base_uri": "https://localhost:8080/"
        },
        "id": "mtvM_eGyWPhM",
        "outputId": "c482bdb1-fa8c-47bc-9cf0-19cf022e3c80"
      },
      "execution_count": null,
      "outputs": [
        {
          "output_type": "execute_result",
          "data": {
            "text/plain": [
              "-1.9599639845400545"
            ]
          },
          "metadata": {},
          "execution_count": 57
        }
      ]
    },
    {
      "cell_type": "markdown",
      "source": [
        ": 관측 통계량은 약 -4.58이고, 유의 수준 5% 양측 검정의 임계값 -1.95보다 작으므로 이 경우는 귀무 가설을 기가할 만한 충분한 근거가 된다."
      ],
      "metadata": {
        "id": "_Xr4F9-8WEOs"
      }
    },
    {
      "cell_type": "markdown",
      "source": [
        "##### cdf: 관측 검정 통계량의 p-값을 명시적으로 계산"
      ],
      "metadata": {
        "id": "7tFZOjdcXnGe"
      }
    },
    {
      "cell_type": "code",
      "source": [
        "2 * stats.norm().cdf(-abs(z))"
      ],
      "metadata": {
        "colab": {
          "base_uri": "https://localhost:8080/"
        },
        "id": "aiCmAhAMHhiw",
        "outputId": "b5391a3b-8f1c-4acc-fd0d-9a6adc335a44"
      },
      "execution_count": null,
      "outputs": [
        {
          "output_type": "execute_result",
          "data": {
            "text/plain": [
              "0.0004912373531708969"
            ]
          },
          "metadata": {},
          "execution_count": 58
        }
      ]
    },
    {
      "cell_type": "markdown",
      "source": [
        ": p-값이 실제로 작아 귀무 가설의 기각을 뒷받침한다."
      ],
      "metadata": {
        "id": "dfmLoFEKXvTh"
      }
    },
    {
      "cell_type": "markdown",
      "source": [
        "##### t 분포"
      ],
      "metadata": {
        "id": "J0Zm09f8X8fL"
      }
    },
    {
      "cell_type": "code",
      "source": [
        "2 * stats.t(df=(n-1)).cdf(-abs(t))"
      ],
      "metadata": {
        "colab": {
          "base_uri": "https://localhost:8080/"
        },
        "id": "6fRdlDtsXQMG",
        "outputId": "a339ff48-0f44-4765-eed8-7ea119619f26"
      },
      "execution_count": null,
      "outputs": [
        {
          "output_type": "execute_result",
          "data": {
            "text/plain": [
              "0.00043576106092704385"
            ]
          },
          "metadata": {},
          "execution_count": 59
        }
      ]
    },
    {
      "cell_type": "markdown",
      "source": [
        ": 이번에도 p-값이 매우 작아, 귀무 가설을 기각해야 한다는 것을 시사한다."
      ],
      "metadata": {
        "id": "rdN2EcgyYEf0"
      }
    },
    {
      "cell_type": "markdown",
      "source": [
        "##### stats.ttest_1samp function: 검정 통계량과 p-값을 바로 계산."
      ],
      "metadata": {
        "id": "j_frx6n8YlbX"
      }
    },
    {
      "cell_type": "code",
      "source": [
        "t, p = stats.ttest_1samp(X_samples, mu)\n",
        "t"
      ],
      "metadata": {
        "colab": {
          "base_uri": "https://localhost:8080/"
        },
        "id": "Pj5lJSE_YSjT",
        "outputId": "a317e7e8-5c37-4cee-bb74-57bb956099f9"
      },
      "execution_count": null,
      "outputs": [
        {
          "output_type": "execute_result",
          "data": {
            "text/plain": [
              "0.5373030921115854"
            ]
          },
          "metadata": {},
          "execution_count": 60
        }
      ]
    },
    {
      "cell_type": "code",
      "source": [
        "p"
      ],
      "metadata": {
        "colab": {
          "base_uri": "https://localhost:8080/"
        },
        "id": "30KukLneYPsJ",
        "outputId": "b8c309fb-91d1-4d9b-eee0-acb8c53049ae"
      },
      "execution_count": null,
      "outputs": [
        {
          "output_type": "execute_result",
          "data": {
            "text/plain": [
              "0.5922639060659387"
            ]
          },
          "metadata": {},
          "execution_count": 61
        }
      ]
    },
    {
      "cell_type": "markdown",
      "source": [
        ": p-값이 매우 작다는 것을 알 수 있으므로 귀무 가설을 기가해야 한다."
      ],
      "metadata": {
        "id": "-DR7fBeKY7qG"
      }
    },
    {
      "cell_type": "markdown",
      "source": [
        "##### 도식화"
      ],
      "metadata": {
        "id": "HwVjQ8--ZCkr"
      }
    },
    {
      "cell_type": "code",
      "source": [
        "fig, ax = plt.subplots(figsize=(8, 3))\n",
        "sns.displot(X_samples, ax=ax)\n",
        "x = np.linspace(*X.interval(0.999), num=100)\n",
        "ax.plot(x, stats.norm(loc=mu, scale=sigma).pdf(x))"
      ],
      "metadata": {
        "colab": {
          "base_uri": "https://localhost:8080/",
          "height": 640
        },
        "id": "DsMdtgoEYxp1",
        "outputId": "4e69c6e6-2b66-41f0-94cc-86f1b2e7cb65"
      },
      "execution_count": null,
      "outputs": [
        {
          "output_type": "stream",
          "name": "stderr",
          "text": [
            "/usr/local/lib/python3.7/dist-packages/seaborn/distributions.py:2211: UserWarning: `displot` is a figure-level function and does not accept the ax= paramter. You may wish to try histplot.\n",
            "  warnings.warn(msg, UserWarning)\n"
          ]
        },
        {
          "output_type": "execute_result",
          "data": {
            "text/plain": [
              "[<matplotlib.lines.Line2D at 0x7f95793f3810>]"
            ]
          },
          "metadata": {},
          "execution_count": 64
        },
        {
          "output_type": "display_data",
          "data": {
            "text/plain": [
              "<Figure size 576x216 with 1 Axes>"
            ],
            "image/png": "[encoded data removed]"
          },
          "metadata": {
            "needs_background": "light"
          }
        },
        {
          "output_type": "display_data",
          "data": {
            "text/plain": [
              "<Figure size 360x360 with 1 Axes>"
            ],
            "image/png": "[encoded data removed]"
          },
          "metadata": {
            "needs_background": "light"
          }
        }
      ]
    },
    {
      "cell_type": "code",
      "source": [
        ""
      ],
      "metadata": {
        "id": "hgsuQIJKZVxE"
      },
      "execution_count": null,
      "outputs": []
    },
    {
      "cell_type": "markdown",
      "source": [
        "### 예2"
      ],
      "metadata": {
        "id": "XUbFwtuxbPlg"
      }
    },
    {
      "cell_type": "code",
      "source": [
        "n, sigma = 50, 1.0\n",
        "# 각 확률 변수별로 50개의 표본 선택\n",
        "mu1, mu2 = np.random.rand(2)\n",
        "X1 = stats.norm(mu1, sigma)\n",
        "X1_sample = X1.rvs(n)\n",
        "X2 = stats.norm(mu2, sigma)\n",
        "X2_sample = X2.rvs(n)"
      ],
      "metadata": {
        "id": "NqEtpqaDZ3dO"
      },
      "execution_count": null,
      "outputs": []
    },
    {
      "cell_type": "code",
      "source": [
        "t, p = stats.ttest_ind(X1_sample, X2_sample) \n",
        "t"
      ],
      "metadata": {
        "colab": {
          "base_uri": "https://localhost:8080/"
        },
        "id": "z2AgYFpXaNVS",
        "outputId": "555ae466-bb01-4605-d921-fa5c927b70f5"
      },
      "execution_count": null,
      "outputs": [
        {
          "output_type": "execute_result",
          "data": {
            "text/plain": [
              "-0.47308827445643464"
            ]
          },
          "metadata": {},
          "execution_count": 72
        }
      ]
    },
    {
      "cell_type": "code",
      "source": [
        "p"
      ],
      "metadata": {
        "colab": {
          "base_uri": "https://localhost:8080/"
        },
        "id": "F5QwGXaUaUM4",
        "outputId": "b72f8195-0871-4a12-a934-36a529425b16"
      },
      "execution_count": null,
      "outputs": [
        {
          "output_type": "execute_result",
          "data": {
            "text/plain": [
              "0.6372022488207805"
            ]
          },
          "metadata": {},
          "execution_count": 73
        }
      ]
    },
    {
      "cell_type": "markdown",
      "source": [
        ": p-값은 0.6으로 귀무 가설을 기각하고 두 모집단 평균이 다르다고 판단할 수 있을 만큼 작지 않다."
      ],
      "metadata": {
        "id": "twfLa61qbmUU"
      }
    },
    {
      "cell_type": "code",
      "source": [
        "mu1, mu2  # 두 모집단의 평균이 다름"
      ],
      "metadata": {
        "colab": {
          "base_uri": "https://localhost:8080/"
        },
        "id": "3zqE4PbGaUgT",
        "outputId": "d2680680-d92c-4c7e-fef6-b64fbab9c5b2"
      },
      "execution_count": null,
      "outputs": [
        {
          "output_type": "execute_result",
          "data": {
            "text/plain": [
              "(0.6037385944044388, 0.7820692519785486)"
            ]
          },
          "metadata": {},
          "execution_count": 74
        }
      ]
    },
    {
      "cell_type": "code",
      "source": [
        ""
      ],
      "metadata": {
        "id": "7ub5fQJjbx9G"
      },
      "execution_count": null,
      "outputs": []
    },
    {
      "cell_type": "markdown",
      "source": [
        "## 6. 비매개변수 기법"
      ],
      "metadata": {
        "id": "CA_HriIsb65p"
      }
    },
    {
      "cell_type": "code",
      "source": [
        "X = stats.chi2(df=5)\n",
        "X_sample = X.rvs(100)"
      ],
      "metadata": {
        "id": "V2uzlwdbb8gd"
      },
      "execution_count": null,
      "outputs": []
    },
    {
      "cell_type": "code",
      "source": [
        "kde = stats.kde.gaussian_kde(X_samples)"
      ],
      "metadata": {
        "id": "AMxh9d7ncwxJ"
      },
      "execution_count": null,
      "outputs": []
    },
    {
      "cell_type": "code",
      "source": [
        "kde_low_bw = stats.kde.gaussian_kde(X_samples, bw_method=0.25)"
      ],
      "metadata": {
        "id": "lDqFm1BFc2ch"
      },
      "execution_count": null,
      "outputs": []
    },
    {
      "cell_type": "code",
      "source": [
        "x = np.linspace(0, 20, 100)\n",
        "fig, axes = plt.subplots(1, 3, figsize=(12, 3))\n",
        "axes[0].hist(X_samples, density=True, alpha=0.5, bins=25)\n",
        "axes[1].plot(x, kde(x), label=\"KDE\")\n",
        "axes[1].plot(kde_low_bw(x), label=\"KDE (low bw)\")\n",
        "axes[1].plot(x, X.pdf(x), label=\"True PDF\")\n",
        "axes[1].legend()\n",
        "sns.distplot(X_samples, bins=25, ax=axes[2])"
      ],
      "metadata": {
        "colab": {
          "base_uri": "https://localhost:8080/",
          "height": 291
        },
        "id": "ySrwOe6tc-Zk",
        "outputId": "9b6bf067-e736-4711-d31c-94c90227f733"
      },
      "execution_count": null,
      "outputs": [
        {
          "output_type": "stream",
          "name": "stderr",
          "text": [
            "/usr/local/lib/python3.7/dist-packages/seaborn/distributions.py:2619: FutureWarning: `distplot` is a deprecated function and will be removed in a future version. Please adapt your code to use either `displot` (a figure-level function with similar flexibility) or `histplot` (an axes-level function for histograms).\n",
            "  warnings.warn(msg, FutureWarning)\n"
          ]
        },
        {
          "output_type": "execute_result",
          "data": {
            "text/plain": [
              "<matplotlib.axes._subplots.AxesSubplot at 0x7f957734bf10>"
            ]
          },
          "metadata": {},
          "execution_count": 82
        },
        {
          "output_type": "display_data",
          "data": {
            "text/plain": [
              "<Figure size 864x216 with 3 Axes>"
            ],
            "image/png": "[encoded data removed]"
          },
          "metadata": {
            "needs_background": "light"
          }
        }
      ]
    },
    {
      "cell_type": "code",
      "source": [
        ""
      ],
      "metadata": {
        "id": "iZGZmDUVdxvv"
      },
      "execution_count": null,
      "outputs": []
    },
    {
      "cell_type": "markdown",
      "source": [
        "#### KDE값에 대한 CDF, PPF를 사용한 통계 가설 검정"
      ],
      "metadata": {
        "id": "jmghP1l-flMz"
      }
    },
    {
      "cell_type": "code",
      "source": [
        "kde.resample(10)"
      ],
      "metadata": {
        "colab": {
          "base_uri": "https://localhost:8080/"
        },
        "id": "iOzN9A1beRVD",
        "outputId": "5c23236a-d2ad-429c-b557-7db07c10238d"
      },
      "execution_count": null,
      "outputs": [
        {
          "output_type": "execute_result",
          "data": {
            "text/plain": [
              "array([[0.80313835, 1.19555336, 1.18097579, 0.84642182, 0.91481138,\n",
              "        1.09340712, 0.54399788, 0.67089135, 0.11964878, 0.95740741]])"
            ]
          },
          "metadata": {},
          "execution_count": 87
        }
      ]
    },
    {
      "cell_type": "code",
      "source": [
        "def _kde_cdf(x):\n",
        "  return kde.integrate_box_1d(-np.inf, x)  # 1차원 KDE\n",
        "kde_cdf = np.vectorize(_kde_cdf)"
      ],
      "metadata": {
        "id": "SHimtnxeecPU"
      },
      "execution_count": null,
      "outputs": []
    },
    {
      "cell_type": "code",
      "source": [
        "def _kde_ppf(q):\n",
        "  return optimize.fsolve(lambda x, q: kde_cdf(x) - q, kde.\n",
        "                         dataset.mean(), args=(q,))[0]  # 그 역 ppf 찾기\n",
        "\n",
        "kde_ppf = np.vectorize(_kde_ppf)"
      ],
      "metadata": {
        "id": "Gcoz2k2DemFm"
      },
      "execution_count": null,
      "outputs": []
    },
    {
      "cell_type": "markdown",
      "source": [
        "#### 신뢰 구간 계산"
      ],
      "metadata": {
        "id": "wh86vfUKfg88"
      }
    },
    {
      "cell_type": "code",
      "source": [
        "kde_ppf([0.05, 0.95])  # 90%의 신뢰 구간 계산"
      ],
      "metadata": {
        "colab": {
          "base_uri": "https://localhost:8080/"
        },
        "id": "qNpfiA1xfLEh",
        "outputId": "17e77937-55b3-4283-c6ae-4d2e5b1e7804"
      },
      "execution_count": null,
      "outputs": [
        {
          "output_type": "execute_result",
          "data": {
            "text/plain": [
              "array([-0.03585262,  1.62044755])"
            ]
          },
          "metadata": {},
          "execution_count": 90
        }
      ]
    },
    {
      "cell_type": "code",
      "source": [
        ""
      ],
      "metadata": {
        "id": "wqD75CdJfNob"
      },
      "execution_count": null,
      "outputs": []
    }
  ]
}
