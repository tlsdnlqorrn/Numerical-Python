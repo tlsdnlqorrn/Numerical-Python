{
 "cells": [
  {
   "cell_type": "markdown",
   "id": "8eafdb2c",
   "metadata": {},
   "source": [
    "# Pandas Library\n",
    ": Python 을 이용한 데이터 처리와 분석을 위한 프레임워크\n",
    "\n",
    "- 데이터의 계열과 표를 나타내기 편리한 데이터 구조 제공\n",
    "- 데이터의 변환, 분할, 병합 및 변환에 용이\n",
    "- Numpy 위에 구축됨\n",
    "- 통계적 모델링 (선형 회귀 분석)에 대한 제한된 기능만 지원"
   ]
  },
  {
   "cell_type": "code",
   "execution_count": null,
   "id": "733611ed",
   "metadata": {},
   "outputs": [],
   "source": []
  },
  {
   "cell_type": "markdown",
   "id": "b1a201b6",
   "metadata": {},
   "source": [
    "## 1. 모듈 임포트"
   ]
  },
  {
   "cell_type": "code",
   "execution_count": 1,
   "id": "39253aaf",
   "metadata": {},
   "outputs": [],
   "source": [
    "import pandas as pd\n",
    "import numpy as np\n",
    "import matplotlib.pyplot as plt\n",
    "import matplotlib as mpl\n",
    "mpl.style.use('ggplot')"
   ]
  },
  {
   "cell_type": "code",
   "execution_count": 2,
   "id": "fd32bfb7",
   "metadata": {},
   "outputs": [],
   "source": [
    "import seaborn as sns\n",
    "# Matplot 위에 구현되는 통계적 시각화 라이브러리 (그래프 표현)"
   ]
  },
  {
   "cell_type": "markdown",
   "id": "882e7163",
   "metadata": {},
   "source": [
    "## 2. Series\n",
    ": 1차원 배열을 위한 컨테이너 제공,  \n",
    "데이터 계열을 정수가 아닌 레이블로 색인할 수 있다."
   ]
  },
  {
   "cell_type": "markdown",
   "id": "85f76d0c",
   "metadata": {},
   "source": [
    "### 객체 생성"
   ]
  },
  {
   "cell_type": "code",
   "execution_count": 3,
   "id": "4af4992d",
   "metadata": {},
   "outputs": [
    {
     "data": {
      "text/plain": [
       "0     909976\n",
       "1    8615246\n",
       "2    2872086\n",
       "3    2273305\n",
       "dtype: int64"
      ]
     },
     "execution_count": 3,
     "metadata": {},
     "output_type": "execute_result"
    }
   ],
   "source": [
    "s = pd.Series([909976, 8615246, 2872086, 2273305])\n",
    "s"
   ]
  },
  {
   "cell_type": "markdown",
   "id": "8bdd34ef",
   "metadata": {},
   "source": [
    "#### ↑  \n",
    "그결과 객체는 데이터 유형이 int64인 Series 인스턴스, 그 구성 원소는 정수 0, 1, 2, 3으로 인덱스된다."
   ]
  },
  {
   "cell_type": "markdown",
   "id": "36ca25a0",
   "metadata": {},
   "source": [
    "### 데이터 추출"
   ]
  },
  {
   "cell_type": "code",
   "execution_count": 4,
   "id": "589dd668",
   "metadata": {},
   "outputs": [
    {
     "data": {
      "text/plain": [
       "[0, 1, 2, 3]"
      ]
     },
     "execution_count": 4,
     "metadata": {},
     "output_type": "execute_result"
    }
   ],
   "source": [
    "list(s.index)  # index: 인덱스 추출"
   ]
  },
  {
   "cell_type": "code",
   "execution_count": 5,
   "id": "d51e752f",
   "metadata": {},
   "outputs": [
    {
     "data": {
      "text/plain": [
       "array([ 909976, 8615246, 2872086, 2273305], dtype=int64)"
      ]
     },
     "execution_count": 5,
     "metadata": {},
     "output_type": "execute_result"
    }
   ],
   "source": [
    "s.values  # values: 값의 기저 데이터 추출"
   ]
  },
  {
   "cell_type": "markdown",
   "id": "03a9dc8b",
   "metadata": {},
   "source": [
    "### 레이블 인덱싱"
   ]
  },
  {
   "cell_type": "code",
   "execution_count": 6,
   "id": "393efe49",
   "metadata": {},
   "outputs": [
    {
     "data": {
      "text/plain": [
       "Stockholm     909976\n",
       "London       8615246\n",
       "Rome         2872086\n",
       "Paris        2273305\n",
       "Name: Population, dtype: int64"
      ]
     },
     "execution_count": 6,
     "metadata": {},
     "output_type": "execute_result"
    }
   ],
   "source": [
    "s.index = [\"Stockholm\", \"London\", \"Rome\", \"Paris\"]\n",
    "s.name = \"Population\"  # name: 리스트 이름 부여\n",
    "s"
   ]
  },
  {
   "cell_type": "markdown",
   "id": "bbfc41d9",
   "metadata": {},
   "source": [
    "###  키워드 인수로 설정"
   ]
  },
  {
   "cell_type": "code",
   "execution_count": 7,
   "id": "c1ac1e28",
   "metadata": {},
   "outputs": [],
   "source": [
    "s = pd.Series([909976, 8615246, 2872086, 2273305], name = \"Population\", index = [\"Stockholm\", \"London\", \"Rome\", \"Paris\"])"
   ]
  },
  {
   "cell_type": "code",
   "execution_count": 8,
   "id": "9e22fd6a",
   "metadata": {},
   "outputs": [
    {
     "data": {
      "text/plain": [
       "8615246"
      ]
     },
     "execution_count": 8,
     "metadata": {},
     "output_type": "execute_result"
    }
   ],
   "source": [
    "s[\"London\"]"
   ]
  },
  {
   "cell_type": "code",
   "execution_count": 9,
   "id": "05ecd91a",
   "metadata": {
    "scrolled": true
   },
   "outputs": [
    {
     "data": {
      "text/plain": [
       "909976"
      ]
     },
     "execution_count": 9,
     "metadata": {},
     "output_type": "execute_result"
    }
   ],
   "source": [
    "s.Stockholm"
   ]
  },
  {
   "cell_type": "code",
   "execution_count": 10,
   "id": "ebe8f182",
   "metadata": {},
   "outputs": [
    {
     "data": {
      "text/plain": [
       "Paris    2273305\n",
       "Rome     2872086\n",
       "Name: Population, dtype: int64"
      ]
     },
     "execution_count": 10,
     "metadata": {},
     "output_type": "execute_result"
    }
   ],
   "source": [
    "s[[\"Paris\", \"Rome\"]]"
   ]
  },
  {
   "cell_type": "markdown",
   "id": "13cc2878",
   "metadata": {},
   "source": [
    "### 통계량 계산\n",
    "- median: 중앙값\n",
    "- mean: 평균값\n",
    "- std: 표준편차\n",
    "- min: 최솟값\n",
    "- max: 최댓값\n",
    "- quantile: 분위수"
   ]
  },
  {
   "cell_type": "code",
   "execution_count": 11,
   "id": "7b784a02",
   "metadata": {},
   "outputs": [
    {
     "data": {
      "text/plain": [
       "(2572695.5, 3667653.25, 3399048.5005155364)"
      ]
     },
     "execution_count": 11,
     "metadata": {},
     "output_type": "execute_result"
    }
   ],
   "source": [
    "s.median(), s.mean(), s.std()"
   ]
  },
  {
   "cell_type": "code",
   "execution_count": 12,
   "id": "c7907614",
   "metadata": {},
   "outputs": [
    {
     "data": {
      "text/plain": [
       "(909976, 8615246)"
      ]
     },
     "execution_count": 12,
     "metadata": {},
     "output_type": "execute_result"
    }
   ],
   "source": [
    "s.min(), s.max()"
   ]
  },
  {
   "cell_type": "code",
   "execution_count": 13,
   "id": "d72f261f",
   "metadata": {},
   "outputs": [
    {
     "data": {
      "text/plain": [
       "(1932472.75, 2572695.5, 4307876.0)"
      ]
     },
     "execution_count": 13,
     "metadata": {},
     "output_type": "execute_result"
    }
   ],
   "source": [
    "s.quantile(q=0.25), s.quantile(q=0.5), s.quantile(q=0.75)"
   ]
  },
  {
   "cell_type": "markdown",
   "id": "b8073526",
   "metadata": {},
   "source": [
    "#### - describe: 데이터 요약"
   ]
  },
  {
   "cell_type": "code",
   "execution_count": 14,
   "id": "72d459e8",
   "metadata": {
    "scrolled": true
   },
   "outputs": [
    {
     "data": {
      "text/plain": [
       "count    4.000000e+00\n",
       "mean     3.667653e+06\n",
       "std      3.399049e+06\n",
       "min      9.099760e+05\n",
       "25%      1.932473e+06\n",
       "50%      2.572696e+06\n",
       "75%      4.307876e+06\n",
       "max      8.615246e+06\n",
       "Name: Population, dtype: float64"
      ]
     },
     "execution_count": 14,
     "metadata": {},
     "output_type": "execute_result"
    }
   ],
   "source": [
    "s.describe()"
   ]
  },
  {
   "cell_type": "markdown",
   "id": "56dcdf0b",
   "metadata": {},
   "source": [
    "###  plot: 데이터 시각화"
   ]
  },
  {
   "cell_type": "code",
   "execution_count": 15,
   "id": "67974c04",
   "metadata": {
    "scrolled": true
   },
   "outputs": [
    {
     "data": {
      "text/plain": [
       "<AxesSubplot:title={'center':'pie'}, ylabel='Population'>"
      ]
     },
     "execution_count": 15,
     "metadata": {},
     "output_type": "execute_result"
    },
    {
     "data": {
      "image/png": "[encoded data removed]",
      "text/plain": [
       "<Figure size 864x216 with 4 Axes>"
      ]
     },
     "metadata": {},
     "output_type": "display_data"
    }
   ],
   "source": [
    "fig, axes = plt.subplots(1, 4, figsize=(12, 3))\n",
    "s.plot(ax=axes[0], kind= 'line', title='line')\n",
    "s.plot(ax=axes[1], kind='bar', title='bar')\n",
    "s.plot(ax=axes[2], kind='box', title='box')\n",
    "s.plot(ax=axes[3], kind='pie', title='pie')"
   ]
  },
  {
   "cell_type": "markdown",
   "id": "40224551",
   "metadata": {},
   "source": [
    "## 3. DataFrame\n",
    ": Series 객체의 집합으로 볼 수 있는 고차원 배열을 위한 컨테이너 제공"
   ]
  },
  {
   "cell_type": "markdown",
   "id": "3de9da77",
   "metadata": {},
   "source": [
    "### 객체 생성"
   ]
  },
  {
   "cell_type": "code",
   "execution_count": 16,
   "id": "9f02bf14",
   "metadata": {},
   "outputs": [
    {
     "data": {
      "text/html": [
       "<div>\n",
       "<style scoped>\n",
       "    .dataframe tbody tr th:only-of-type {\n",
       "        vertical-align: middle;\n",
       "    }\n",
       "\n",
       "    .dataframe tbody tr th {\n",
       "        vertical-align: top;\n",
       "    }\n",
       "\n",
       "    .dataframe thead th {\n",
       "        text-align: right;\n",
       "    }\n",
       "</style>\n",
       "<table border=\"1\" class=\"dataframe\">\n",
       "  <thead>\n",
       "    <tr style=\"text-align: right;\">\n",
       "      <th></th>\n",
       "      <th>0</th>\n",
       "      <th>1</th>\n",
       "    </tr>\n",
       "  </thead>\n",
       "  <tbody>\n",
       "    <tr>\n",
       "      <th>0</th>\n",
       "      <td>909976</td>\n",
       "      <td>Sweden</td>\n",
       "    </tr>\n",
       "    <tr>\n",
       "      <th>1</th>\n",
       "      <td>8615246</td>\n",
       "      <td>United Kingdom</td>\n",
       "    </tr>\n",
       "    <tr>\n",
       "      <th>2</th>\n",
       "      <td>2872086</td>\n",
       "      <td>Italy</td>\n",
       "    </tr>\n",
       "    <tr>\n",
       "      <th>3</th>\n",
       "      <td>2273305</td>\n",
       "      <td>France</td>\n",
       "    </tr>\n",
       "  </tbody>\n",
       "</table>\n",
       "</div>"
      ],
      "text/plain": [
       "         0               1\n",
       "0   909976          Sweden\n",
       "1  8615246  United Kingdom\n",
       "2  2872086           Italy\n",
       "3  2273305          France"
      ]
     },
     "execution_count": 16,
     "metadata": {},
     "output_type": "execute_result"
    }
   ],
   "source": [
    "df = pd.DataFrame([[909976, \"Sweden\"],\n",
    "                  [8615246, \"United Kingdom\"],\n",
    "                  [2872086, \"Italy\"],\n",
    "                  [2273305, \"France\"]])\n",
    "df"
   ]
  },
  {
   "cell_type": "markdown",
   "id": "77c5fbf1",
   "metadata": {},
   "source": [
    "###  레이블 인덱싱"
   ]
  },
  {
   "cell_type": "code",
   "execution_count": 17,
   "id": "a1f46cf3",
   "metadata": {},
   "outputs": [
    {
     "data": {
      "text/html": [
       "<div>\n",
       "<style scoped>\n",
       "    .dataframe tbody tr th:only-of-type {\n",
       "        vertical-align: middle;\n",
       "    }\n",
       "\n",
       "    .dataframe tbody tr th {\n",
       "        vertical-align: top;\n",
       "    }\n",
       "\n",
       "    .dataframe thead th {\n",
       "        text-align: right;\n",
       "    }\n",
       "</style>\n",
       "<table border=\"1\" class=\"dataframe\">\n",
       "  <thead>\n",
       "    <tr style=\"text-align: right;\">\n",
       "      <th></th>\n",
       "      <th>Population</th>\n",
       "      <th>State</th>\n",
       "    </tr>\n",
       "  </thead>\n",
       "  <tbody>\n",
       "    <tr>\n",
       "      <th>Stockholm</th>\n",
       "      <td>909976</td>\n",
       "      <td>Sweden</td>\n",
       "    </tr>\n",
       "    <tr>\n",
       "      <th>London</th>\n",
       "      <td>8615246</td>\n",
       "      <td>United Kingdom</td>\n",
       "    </tr>\n",
       "    <tr>\n",
       "      <th>Rome</th>\n",
       "      <td>2872086</td>\n",
       "      <td>Italy</td>\n",
       "    </tr>\n",
       "    <tr>\n",
       "      <th>Paris</th>\n",
       "      <td>2273305</td>\n",
       "      <td>France</td>\n",
       "    </tr>\n",
       "  </tbody>\n",
       "</table>\n",
       "</div>"
      ],
      "text/plain": [
       "           Population           State\n",
       "Stockholm      909976          Sweden\n",
       "London        8615246  United Kingdom\n",
       "Rome          2872086           Italy\n",
       "Paris         2273305          France"
      ]
     },
     "execution_count": 17,
     "metadata": {},
     "output_type": "execute_result"
    }
   ],
   "source": [
    "df.index = [\"Stockholm\", \"London\", \"Rome\", \"Paris\"] # 행에 대한 레이블 인덱싱\n",
    "df.columns = [\"Population\", \"State\"]\n",
    "df"
   ]
  },
  {
   "cell_type": "markdown",
   "id": "6d207d8c",
   "metadata": {},
   "source": [
    "###  키워드 인수로 설정"
   ]
  },
  {
   "cell_type": "code",
   "execution_count": 18,
   "id": "08fe13be",
   "metadata": {},
   "outputs": [],
   "source": [
    "df = pd.DataFrame([[909976, \"Sweden\"],\n",
    "                  [8615246, \"United Kingdom\"],\n",
    "                  [2872086, \"Italy\"],\n",
    "                  [2273305, \"France\"]],\n",
    "                 index=[\"Stockholm\", \"London\", \"Rome\", \"Paris\"],\n",
    "                 columns = [\"Population\", \"State\"])"
   ]
  },
  {
   "cell_type": "code",
   "execution_count": 19,
   "id": "7c3edd40",
   "metadata": {},
   "outputs": [
    {
     "data": {
      "text/plain": [
       "Stockholm     909976\n",
       "London       8615246\n",
       "Rome         2872086\n",
       "Paris        2273305\n",
       "Name: Population, dtype: int64"
      ]
     },
     "execution_count": 19,
     "metadata": {},
     "output_type": "execute_result"
    }
   ],
   "source": [
    "df.Population"
   ]
  },
  {
   "cell_type": "markdown",
   "id": "d8f6171d",
   "metadata": {},
   "source": [
    "###  키, 값을 사용한 딕셔너리 전달 {}"
   ]
  },
  {
   "cell_type": "code",
   "execution_count": 20,
   "id": "0983800d",
   "metadata": {},
   "outputs": [],
   "source": [
    "df = pd.DataFrame({\"Population\": [909976, 8615246, 2872086, 2273305],\n",
    "                  \"State\": [\"Sweden\", \"United Kingdom\", \"Italy\", \"France\"]},\n",
    "                 index=[\"Stockholm\", \"London\", \"Rome\", \"Paris\"])"
   ]
  },
  {
   "cell_type": "code",
   "execution_count": 21,
   "id": "293bfcf4",
   "metadata": {},
   "outputs": [
    {
     "data": {
      "text/plain": [
       "Stockholm     909976\n",
       "London       8615246\n",
       "Rome         2872086\n",
       "Paris        2273305\n",
       "Name: Population, dtype: int64"
      ]
     },
     "execution_count": 21,
     "metadata": {},
     "output_type": "execute_result"
    }
   ],
   "source": [
    "df.Population"
   ]
  },
  {
   "cell_type": "markdown",
   "id": "443584b0",
   "metadata": {},
   "source": [
    "### loc 인덱서: 특정 행이나 열에 접근\n",
    "#### - 행에 접근"
   ]
  },
  {
   "cell_type": "code",
   "execution_count": 22,
   "id": "9dc231c2",
   "metadata": {},
   "outputs": [
    {
     "data": {
      "text/plain": [
       "Population    909976\n",
       "State         Sweden\n",
       "Name: Stockholm, dtype: object"
      ]
     },
     "execution_count": 22,
     "metadata": {},
     "output_type": "execute_result"
    }
   ],
   "source": [
    "df.loc[\"Stockholm\"]  # 특정 행을 전달 --> 새로운 Series 객체 생성"
   ]
  },
  {
   "cell_type": "code",
   "execution_count": 23,
   "id": "ff8c0d80",
   "metadata": {},
   "outputs": [
    {
     "data": {
      "text/html": [
       "<div>\n",
       "<style scoped>\n",
       "    .dataframe tbody tr th:only-of-type {\n",
       "        vertical-align: middle;\n",
       "    }\n",
       "\n",
       "    .dataframe tbody tr th {\n",
       "        vertical-align: top;\n",
       "    }\n",
       "\n",
       "    .dataframe thead th {\n",
       "        text-align: right;\n",
       "    }\n",
       "</style>\n",
       "<table border=\"1\" class=\"dataframe\">\n",
       "  <thead>\n",
       "    <tr style=\"text-align: right;\">\n",
       "      <th></th>\n",
       "      <th>Population</th>\n",
       "      <th>State</th>\n",
       "    </tr>\n",
       "  </thead>\n",
       "  <tbody>\n",
       "    <tr>\n",
       "      <th>Paris</th>\n",
       "      <td>2273305</td>\n",
       "      <td>France</td>\n",
       "    </tr>\n",
       "    <tr>\n",
       "      <th>Rome</th>\n",
       "      <td>2872086</td>\n",
       "      <td>Italy</td>\n",
       "    </tr>\n",
       "  </tbody>\n",
       "</table>\n",
       "</div>"
      ],
      "text/plain": [
       "       Population   State\n",
       "Paris     2273305  France\n",
       "Rome      2872086   Italy"
      ]
     },
     "execution_count": 23,
     "metadata": {},
     "output_type": "execute_result"
    }
   ],
   "source": [
    "df.loc[['Paris', \"Rome\"]]  # 특정 행 리스트를 전달 --> 새로운 DataFrame 객체 생성"
   ]
  },
  {
   "cell_type": "markdown",
   "id": "c3125940",
   "metadata": {},
   "source": [
    "#### - 행과 열에 동시 접근 "
   ]
  },
  {
   "cell_type": "code",
   "execution_count": 24,
   "id": "aaf9a93a",
   "metadata": {},
   "outputs": [
    {
     "data": {
      "text/plain": [
       "Paris    2273305\n",
       "Rome     2872086\n",
       "Name: Population, dtype: int64"
      ]
     },
     "execution_count": 24,
     "metadata": {},
     "output_type": "execute_result"
    }
   ],
   "source": [
    "df.loc[[\"Paris\", \"Rome\"], \"Population\"]"
   ]
  },
  {
   "cell_type": "markdown",
   "id": "bda9b174",
   "metadata": {},
   "source": [
    "### 통계량 계산 (Series와 동일)\n",
    "- median: 중앙값\n",
    "- mean: 평균값\n",
    "- std: 표준편차\n",
    "- min: 최솟값\n",
    "- max: 최댓값\n",
    "- quantile: 분위수"
   ]
  },
  {
   "cell_type": "code",
   "execution_count": 25,
   "id": "b9a48a24",
   "metadata": {},
   "outputs": [
    {
     "name": "stderr",
     "output_type": "stream",
     "text": [
      "C:\\Users\\shinwi\\AppData\\Local\\Temp\\ipykernel_12564\\3698961737.py:1: FutureWarning: Dropping of nuisance columns in DataFrame reductions (with 'numeric_only=None') is deprecated; in a future version this will raise TypeError.  Select only valid columns before calling the reduction.\n",
      "  df.mean()\n"
     ]
    },
    {
     "data": {
      "text/plain": [
       "Population    3667653.25\n",
       "dtype: float64"
      ]
     },
     "execution_count": 25,
     "metadata": {},
     "output_type": "execute_result"
    }
   ],
   "source": [
    "df.mean()"
   ]
  },
  {
   "cell_type": "markdown",
   "id": "3f4179f4",
   "metadata": {},
   "source": [
    "##### ↑ \n",
    "두 열 중 하나만 수치 데이터 유형을 갖는다."
   ]
  },
  {
   "cell_type": "markdown",
   "id": "a5bb616a",
   "metadata": {},
   "source": [
    "###  DataFrame 내용 요약"
   ]
  },
  {
   "cell_type": "code",
   "execution_count": 26,
   "id": "6fcb45b2",
   "metadata": {},
   "outputs": [
    {
     "name": "stdout",
     "output_type": "stream",
     "text": [
      "<class 'pandas.core.frame.DataFrame'>\n",
      "Index: 4 entries, Stockholm to Paris\n",
      "Data columns (total 2 columns):\n",
      " #   Column      Non-Null Count  Dtype \n",
      "---  ------      --------------  ----- \n",
      " 0   Population  4 non-null      int64 \n",
      " 1   State       4 non-null      object\n",
      "dtypes: int64(1), object(1)\n",
      "memory usage: 268.0+ bytes\n"
     ]
    }
   ],
   "source": [
    "df.info()"
   ]
  },
  {
   "cell_type": "code",
   "execution_count": 27,
   "id": "2f63c893",
   "metadata": {},
   "outputs": [
    {
     "data": {
      "text/plain": [
       "Population     int64\n",
       "State         object\n",
       "dtype: object"
      ]
     },
     "execution_count": 27,
     "metadata": {},
     "output_type": "execute_result"
    }
   ],
   "source": [
    "df.dtypes  # 데이터 유형 요약"
   ]
  },
  {
   "cell_type": "code",
   "execution_count": 28,
   "id": "3078f685",
   "metadata": {},
   "outputs": [
    {
     "name": "stderr",
     "output_type": "stream",
     "text": [
      "'head'은(는) 내부 또는 외부 명령, 실행할 수 있는 프로그램, 또는\n",
      "배치 파일이 아닙니다.\n"
     ]
    }
   ],
   "source": [
    "!head -n 5 european_cities.csv"
   ]
  },
  {
   "cell_type": "code",
   "execution_count": null,
   "id": "cb537715",
   "metadata": {},
   "outputs": [],
   "source": []
  },
  {
   "cell_type": "code",
   "execution_count": null,
   "id": "b3312d44",
   "metadata": {},
   "outputs": [],
   "source": []
  },
  {
   "cell_type": "code",
   "execution_count": null,
   "id": "a69e2142",
   "metadata": {},
   "outputs": [],
   "source": []
  },
  {
   "cell_type": "code",
   "execution_count": null,
   "id": "11c3fe71",
   "metadata": {},
   "outputs": [],
   "source": []
  },
  {
   "cell_type": "code",
   "execution_count": null,
   "id": "f3948112",
   "metadata": {},
   "outputs": [],
   "source": []
  },
  {
   "cell_type": "markdown",
   "id": "77d95d43",
   "metadata": {},
   "source": [
    "## 4. 시계열\n",
    ": 일정 시간 간격으로 주어지는 데이터 유형\n",
    "- 일반적인 날짜, 시간, 주기 및 캘린더 작업 수행 가능"
   ]
  },
  {
   "cell_type": "markdown",
   "id": "c18cc203",
   "metadata": {},
   "source": [
    "### DatetimeIndex \n",
    "- date_range"
   ]
  },
  {
   "cell_type": "code",
   "execution_count": 29,
   "id": "87460c9e",
   "metadata": {},
   "outputs": [
    {
     "data": {
      "text/plain": [
       "DatetimeIndex(['2015-01-01', '2015-01-02', '2015-01-03', '2015-01-04',\n",
       "               '2015-01-05', '2015-01-06', '2015-01-07', '2015-01-08',\n",
       "               '2015-01-09', '2015-01-10', '2015-01-11', '2015-01-12',\n",
       "               '2015-01-13', '2015-01-14', '2015-01-15', '2015-01-16',\n",
       "               '2015-01-17', '2015-01-18', '2015-01-19', '2015-01-20',\n",
       "               '2015-01-21', '2015-01-22', '2015-01-23', '2015-01-24',\n",
       "               '2015-01-25', '2015-01-26', '2015-01-27', '2015-01-28',\n",
       "               '2015-01-29', '2015-01-30', '2015-01-31'],\n",
       "              dtype='datetime64[ns]', freq='D')"
      ]
     },
     "execution_count": 29,
     "metadata": {},
     "output_type": "execute_result"
    }
   ],
   "source": [
    "pd.date_range(\"2015-1-1\", periods=31)\n",
    "#(시작점, 원소 개수)"
   ]
  },
  {
   "cell_type": "markdown",
   "id": "e71806af",
   "metadata": {},
   "source": [
    "#### ↑  \n",
    "freq: 시점의 빈도 (기본값=하루)"
   ]
  },
  {
   "cell_type": "code",
   "execution_count": 30,
   "id": "8d07df50",
   "metadata": {},
   "outputs": [
    {
     "data": {
      "text/plain": [
       "DatetimeIndex(['2015-01-01 00:00:00', '2015-01-01 01:00:00',\n",
       "               '2015-01-01 02:00:00', '2015-01-01 03:00:00',\n",
       "               '2015-01-01 04:00:00', '2015-01-01 05:00:00',\n",
       "               '2015-01-01 06:00:00', '2015-01-01 07:00:00',\n",
       "               '2015-01-01 08:00:00', '2015-01-01 09:00:00',\n",
       "               '2015-01-01 10:00:00', '2015-01-01 11:00:00',\n",
       "               '2015-01-01 12:00:00'],\n",
       "              dtype='datetime64[ns]', freq='H')"
      ]
     },
     "execution_count": 30,
     "metadata": {},
     "output_type": "execute_result"
    }
   ],
   "source": [
    "pd.date_range(\"2015-1-1 00:00\", \"2015-1-1 12:00\", freq=\"H\")\n",
    "#(시작점, 종료점, freq)"
   ]
  },
  {
   "cell_type": "markdown",
   "id": "e0da32c9",
   "metadata": {},
   "source": [
    "#### 배열화 - series"
   ]
  },
  {
   "cell_type": "code",
   "execution_count": 31,
   "id": "6f641b22",
   "metadata": {},
   "outputs": [
    {
     "data": {
      "text/plain": [
       "2015-01-01    0\n",
       "2015-01-02    1\n",
       "2015-01-03    2\n",
       "2015-01-04    3\n",
       "2015-01-05    4\n",
       "Freq: D, dtype: int32"
      ]
     },
     "execution_count": 31,
     "metadata": {},
     "output_type": "execute_result"
    }
   ],
   "source": [
    "ts1 = pd.Series(np.arange(31), index=pd.date_range(\"2015-1-1\", periods=31))\n",
    "ts1.head()"
   ]
  },
  {
   "cell_type": "markdown",
   "id": "c7918f57",
   "metadata": {},
   "source": [
    "#### 인덱싱"
   ]
  },
  {
   "cell_type": "code",
   "execution_count": 32,
   "id": "6bdd8acf",
   "metadata": {},
   "outputs": [
    {
     "data": {
      "text/plain": [
       "2"
      ]
     },
     "execution_count": 32,
     "metadata": {},
     "output_type": "execute_result"
    }
   ],
   "source": [
    "ts1[\"2015-1-3\"]"
   ]
  },
  {
   "cell_type": "code",
   "execution_count": 33,
   "id": "be131702",
   "metadata": {},
   "outputs": [
    {
     "data": {
      "text/plain": [
       "Timestamp('2015-01-03 00:00:00', freq='D')"
      ]
     },
     "execution_count": 33,
     "metadata": {},
     "output_type": "execute_result"
    }
   ],
   "source": [
    "ts1.index[2]"
   ]
  },
  {
   "cell_type": "markdown",
   "id": "8e84c2e1",
   "metadata": {},
   "source": [
    "#### Timestamp (정수형)"
   ]
  },
  {
   "cell_type": "code",
   "execution_count": 34,
   "id": "ef3c553c",
   "metadata": {},
   "outputs": [
    {
     "data": {
      "text/plain": [
       "(2015, 1, 3)"
      ]
     },
     "execution_count": 34,
     "metadata": {},
     "output_type": "execute_result"
    }
   ],
   "source": [
    "ts1.index[2].year, ts1.index[2].month, ts1.index[2].day"
   ]
  },
  {
   "cell_type": "code",
   "execution_count": 35,
   "id": "e67a4bca",
   "metadata": {},
   "outputs": [
    {
     "data": {
      "text/plain": [
       "0"
      ]
     },
     "execution_count": 35,
     "metadata": {},
     "output_type": "execute_result"
    }
   ],
   "source": [
    "ts1.index[2].nanosecond"
   ]
  },
  {
   "cell_type": "markdown",
   "id": "2c9310ef",
   "metadata": {},
   "source": [
    "#### Datetime (문자형)\n",
    "- pydatetime(): Timestamp --> Datetime"
   ]
  },
  {
   "cell_type": "code",
   "execution_count": 36,
   "id": "05d2c95e",
   "metadata": {},
   "outputs": [
    {
     "data": {
      "text/plain": [
       "datetime.datetime(2015, 1, 3, 0, 0)"
      ]
     },
     "execution_count": 36,
     "metadata": {},
     "output_type": "execute_result"
    }
   ],
   "source": [
    "ts1.index[2].to_pydatetime()"
   ]
  },
  {
   "cell_type": "markdown",
   "id": "2965c2bb",
   "metadata": {},
   "source": [
    "- 시계열 랜덤 생성"
   ]
  },
  {
   "cell_type": "code",
   "execution_count": 37,
   "id": "e8877969",
   "metadata": {},
   "outputs": [
    {
     "data": {
      "text/plain": [
       "2015-01-01    0.595076\n",
       "2015-02-01    0.414136\n",
       "dtype: float64"
      ]
     },
     "execution_count": 37,
     "metadata": {},
     "output_type": "execute_result"
    }
   ],
   "source": [
    "import datetime\n",
    "ts2 = pd.Series(np.random.rand(2), index=[datetime.datetime(2015, 1, 1), datetime.datetime(2015, 2, 1)])\n",
    "ts2"
   ]
  },
  {
   "cell_type": "markdown",
   "id": "281c7a81",
   "metadata": {},
   "source": [
    "### PeriodIndex "
   ]
  },
  {
   "cell_type": "code",
   "execution_count": 38,
   "id": "7d35d6c3",
   "metadata": {},
   "outputs": [],
   "source": [
    "periods = pd.PeriodIndex([pd.Period('2015-01'),\n",
    "                         pd.Period('2015-02'),\n",
    "                         pd.Period('2015-03')])"
   ]
  },
  {
   "cell_type": "markdown",
   "id": "7b6c0f26",
   "metadata": {},
   "source": [
    "#### 배열화 - series"
   ]
  },
  {
   "cell_type": "code",
   "execution_count": 39,
   "id": "adfea06e",
   "metadata": {},
   "outputs": [
    {
     "data": {
      "text/plain": [
       "2015-01    0.616575\n",
       "2015-02    0.717017\n",
       "2015-03    0.674521\n",
       "Freq: M, dtype: float64"
      ]
     },
     "execution_count": 39,
     "metadata": {},
     "output_type": "execute_result"
    }
   ],
   "source": [
    "ts3 = pd.Series(np.random.rand(3), index=periods)\n",
    "ts3"
   ]
  },
  {
   "cell_type": "code",
   "execution_count": 40,
   "id": "7608faae",
   "metadata": {},
   "outputs": [
    {
     "data": {
      "text/plain": [
       "PeriodIndex(['2015-01', '2015-02', '2015-03'], dtype='period[M]')"
      ]
     },
     "execution_count": 40,
     "metadata": {},
     "output_type": "execute_result"
    }
   ],
   "source": [
    "ts3.index"
   ]
  },
  {
   "cell_type": "markdown",
   "id": "c9b70153",
   "metadata": {},
   "source": [
    "###  DatetimeIndex → PeriodIndex\n",
    "- to_period('주기 빈도')"
   ]
  },
  {
   "cell_type": "code",
   "execution_count": 41,
   "id": "ec8b3810",
   "metadata": {},
   "outputs": [
    {
     "data": {
      "text/plain": [
       "2015-01    0.595076\n",
       "2015-02    0.414136\n",
       "Freq: M, dtype: float64"
      ]
     },
     "execution_count": 41,
     "metadata": {},
     "output_type": "execute_result"
    }
   ],
   "source": [
    "ts2.to_period('M')"
   ]
  },
  {
   "cell_type": "markdown",
   "id": "c1be1e37",
   "metadata": {},
   "source": [
    "## 5. 시계열 예제"
   ]
  },
  {
   "cell_type": "code",
   "execution_count": 42,
   "id": "8a0dfa39",
   "metadata": {},
   "outputs": [
    {
     "name": "stderr",
     "output_type": "stream",
     "text": [
      "'head'은(는) 내부 또는 외부 명령, 실행할 수 있는 프로그램, 또는\n",
      "배치 파일이 아닙니다.\n"
     ]
    }
   ],
   "source": [
    "!head -n 5 temperature_outdoor_2014.tsv"
   ]
  },
  {
   "cell_type": "markdown",
   "id": "c0264197",
   "metadata": {},
   "source": [
    "- read_csv  \n",
    ": tsv 파일을 탭 단위로 끊으면 read_csv 명령어로 읽기 가능"
   ]
  },
  {
   "cell_type": "code",
   "execution_count": 43,
   "id": "91218371",
   "metadata": {},
   "outputs": [],
   "source": [
    "df1 = pd.read_csv('temperature_outdoor_2014.tsv', delimiter=\"\\t\",\n",
    "                 names=[\"time\", \"outdoor\"])\n",
    "df2 = pd.read_csv('temperature_indoor_2014.tsv', delimiter=\"\\t\",\n",
    "                 names=[\"time\", \"indoor\"])"
   ]
  },
  {
   "cell_type": "code",
   "execution_count": 44,
   "id": "500b7309",
   "metadata": {},
   "outputs": [
    {
     "data": {
      "text/html": [
       "<div>\n",
       "<style scoped>\n",
       "    .dataframe tbody tr th:only-of-type {\n",
       "        vertical-align: middle;\n",
       "    }\n",
       "\n",
       "    .dataframe tbody tr th {\n",
       "        vertical-align: top;\n",
       "    }\n",
       "\n",
       "    .dataframe thead th {\n",
       "        text-align: right;\n",
       "    }\n",
       "</style>\n",
       "<table border=\"1\" class=\"dataframe\">\n",
       "  <thead>\n",
       "    <tr style=\"text-align: right;\">\n",
       "      <th></th>\n",
       "      <th>time</th>\n",
       "      <th>outdoor</th>\n",
       "    </tr>\n",
       "  </thead>\n",
       "  <tbody>\n",
       "    <tr>\n",
       "      <th>0</th>\n",
       "      <td>1388530986</td>\n",
       "      <td>4.38</td>\n",
       "    </tr>\n",
       "    <tr>\n",
       "      <th>1</th>\n",
       "      <td>1388531586</td>\n",
       "      <td>4.25</td>\n",
       "    </tr>\n",
       "    <tr>\n",
       "      <th>2</th>\n",
       "      <td>1388532187</td>\n",
       "      <td>4.19</td>\n",
       "    </tr>\n",
       "    <tr>\n",
       "      <th>3</th>\n",
       "      <td>1388532787</td>\n",
       "      <td>4.06</td>\n",
       "    </tr>\n",
       "    <tr>\n",
       "      <th>4</th>\n",
       "      <td>1388533388</td>\n",
       "      <td>4.06</td>\n",
       "    </tr>\n",
       "  </tbody>\n",
       "</table>\n",
       "</div>"
      ],
      "text/plain": [
       "         time  outdoor\n",
       "0  1388530986     4.38\n",
       "1  1388531586     4.25\n",
       "2  1388532187     4.19\n",
       "3  1388532787     4.06\n",
       "4  1388533388     4.06"
      ]
     },
     "execution_count": 44,
     "metadata": {},
     "output_type": "execute_result"
    }
   ],
   "source": [
    "df1.head()"
   ]
  },
  {
   "cell_type": "code",
   "execution_count": 45,
   "id": "65005347",
   "metadata": {},
   "outputs": [
    {
     "data": {
      "text/html": [
       "<div>\n",
       "<style scoped>\n",
       "    .dataframe tbody tr th:only-of-type {\n",
       "        vertical-align: middle;\n",
       "    }\n",
       "\n",
       "    .dataframe tbody tr th {\n",
       "        vertical-align: top;\n",
       "    }\n",
       "\n",
       "    .dataframe thead th {\n",
       "        text-align: right;\n",
       "    }\n",
       "</style>\n",
       "<table border=\"1\" class=\"dataframe\">\n",
       "  <thead>\n",
       "    <tr style=\"text-align: right;\">\n",
       "      <th></th>\n",
       "      <th>time</th>\n",
       "      <th>indoor</th>\n",
       "    </tr>\n",
       "  </thead>\n",
       "  <tbody>\n",
       "    <tr>\n",
       "      <th>0</th>\n",
       "      <td>1388530986</td>\n",
       "      <td>21.94</td>\n",
       "    </tr>\n",
       "    <tr>\n",
       "      <th>1</th>\n",
       "      <td>1388531586</td>\n",
       "      <td>22.00</td>\n",
       "    </tr>\n",
       "    <tr>\n",
       "      <th>2</th>\n",
       "      <td>1388532187</td>\n",
       "      <td>22.00</td>\n",
       "    </tr>\n",
       "    <tr>\n",
       "      <th>3</th>\n",
       "      <td>1388532787</td>\n",
       "      <td>22.00</td>\n",
       "    </tr>\n",
       "    <tr>\n",
       "      <th>4</th>\n",
       "      <td>1388533388</td>\n",
       "      <td>22.00</td>\n",
       "    </tr>\n",
       "  </tbody>\n",
       "</table>\n",
       "</div>"
      ],
      "text/plain": [
       "         time  indoor\n",
       "0  1388530986   21.94\n",
       "1  1388531586   22.00\n",
       "2  1388532187   22.00\n",
       "3  1388532787   22.00\n",
       "4  1388533388   22.00"
      ]
     },
     "execution_count": 45,
     "metadata": {},
     "output_type": "execute_result"
    }
   ],
   "source": [
    "df2.head()"
   ]
  },
  {
   "cell_type": "markdown",
   "id": "606afb05",
   "metadata": {},
   "source": [
    "### 의미있는 시계열 데이터 표현\n",
    "- to_datetime  \n",
    ": UNIX 시간을 날짜 및 시간 객체로 변환\n",
    "- tz_localize  \n",
    ": timestamp를 지역화\n",
    "- tz_convert  \n",
    ": 시간대 속성을 Europe/Stockholm으로 변환"
   ]
  },
  {
   "cell_type": "code",
   "execution_count": 46,
   "id": "9a40d322",
   "metadata": {},
   "outputs": [],
   "source": [
    "df1.time = (pd.to_datetime(df1.time.values, unit=\"s\")\n",
    "           .tz_localize('UTC').tz_convert('Europe/Stockholm'))\n",
    "df2.time = (pd.to_datetime(df2.time.values, unit=\"s\")\n",
    "           .tz_localize('UTC').tz_convert('Europe/Stockholm'))"
   ]
  },
  {
   "cell_type": "markdown",
   "id": "a1e2be27",
   "metadata": {},
   "source": [
    "- set_index  \n",
    ": 시간 열을 인덱스로 설정"
   ]
  },
  {
   "cell_type": "code",
   "execution_count": 47,
   "id": "261c58f7",
   "metadata": {},
   "outputs": [],
   "source": [
    "df1 = df1.set_index(\"time\")\n",
    "df2 = df2.set_index(\"time\")"
   ]
  },
  {
   "cell_type": "code",
   "execution_count": 48,
   "id": "ee17edfc",
   "metadata": {},
   "outputs": [
    {
     "data": {
      "text/html": [
       "<div>\n",
       "<style scoped>\n",
       "    .dataframe tbody tr th:only-of-type {\n",
       "        vertical-align: middle;\n",
       "    }\n",
       "\n",
       "    .dataframe tbody tr th {\n",
       "        vertical-align: top;\n",
       "    }\n",
       "\n",
       "    .dataframe thead th {\n",
       "        text-align: right;\n",
       "    }\n",
       "</style>\n",
       "<table border=\"1\" class=\"dataframe\">\n",
       "  <thead>\n",
       "    <tr style=\"text-align: right;\">\n",
       "      <th></th>\n",
       "      <th>outdoor</th>\n",
       "    </tr>\n",
       "    <tr>\n",
       "      <th>time</th>\n",
       "      <th></th>\n",
       "    </tr>\n",
       "  </thead>\n",
       "  <tbody>\n",
       "    <tr>\n",
       "      <th>2014-01-01 00:03:06+01:00</th>\n",
       "      <td>4.38</td>\n",
       "    </tr>\n",
       "    <tr>\n",
       "      <th>2014-01-01 00:13:06+01:00</th>\n",
       "      <td>4.25</td>\n",
       "    </tr>\n",
       "    <tr>\n",
       "      <th>2014-01-01 00:23:07+01:00</th>\n",
       "      <td>4.19</td>\n",
       "    </tr>\n",
       "    <tr>\n",
       "      <th>2014-01-01 00:33:07+01:00</th>\n",
       "      <td>4.06</td>\n",
       "    </tr>\n",
       "    <tr>\n",
       "      <th>2014-01-01 00:43:08+01:00</th>\n",
       "      <td>4.06</td>\n",
       "    </tr>\n",
       "  </tbody>\n",
       "</table>\n",
       "</div>"
      ],
      "text/plain": [
       "                           outdoor\n",
       "time                              \n",
       "2014-01-01 00:03:06+01:00     4.38\n",
       "2014-01-01 00:13:06+01:00     4.25\n",
       "2014-01-01 00:23:07+01:00     4.19\n",
       "2014-01-01 00:33:07+01:00     4.06\n",
       "2014-01-01 00:43:08+01:00     4.06"
      ]
     },
     "execution_count": 48,
     "metadata": {},
     "output_type": "execute_result"
    }
   ],
   "source": [
    "df1.head()"
   ]
  },
  {
   "cell_type": "code",
   "execution_count": 49,
   "id": "de053636",
   "metadata": {},
   "outputs": [
    {
     "data": {
      "text/html": [
       "<div>\n",
       "<style scoped>\n",
       "    .dataframe tbody tr th:only-of-type {\n",
       "        vertical-align: middle;\n",
       "    }\n",
       "\n",
       "    .dataframe tbody tr th {\n",
       "        vertical-align: top;\n",
       "    }\n",
       "\n",
       "    .dataframe thead th {\n",
       "        text-align: right;\n",
       "    }\n",
       "</style>\n",
       "<table border=\"1\" class=\"dataframe\">\n",
       "  <thead>\n",
       "    <tr style=\"text-align: right;\">\n",
       "      <th></th>\n",
       "      <th>indoor</th>\n",
       "    </tr>\n",
       "    <tr>\n",
       "      <th>time</th>\n",
       "      <th></th>\n",
       "    </tr>\n",
       "  </thead>\n",
       "  <tbody>\n",
       "    <tr>\n",
       "      <th>2014-01-01 00:03:06+01:00</th>\n",
       "      <td>21.94</td>\n",
       "    </tr>\n",
       "    <tr>\n",
       "      <th>2014-01-01 00:13:06+01:00</th>\n",
       "      <td>22.00</td>\n",
       "    </tr>\n",
       "    <tr>\n",
       "      <th>2014-01-01 00:23:07+01:00</th>\n",
       "      <td>22.00</td>\n",
       "    </tr>\n",
       "    <tr>\n",
       "      <th>2014-01-01 00:33:07+01:00</th>\n",
       "      <td>22.00</td>\n",
       "    </tr>\n",
       "    <tr>\n",
       "      <th>2014-01-01 00:43:08+01:00</th>\n",
       "      <td>22.00</td>\n",
       "    </tr>\n",
       "  </tbody>\n",
       "</table>\n",
       "</div>"
      ],
      "text/plain": [
       "                           indoor\n",
       "time                             \n",
       "2014-01-01 00:03:06+01:00   21.94\n",
       "2014-01-01 00:13:06+01:00   22.00\n",
       "2014-01-01 00:23:07+01:00   22.00\n",
       "2014-01-01 00:33:07+01:00   22.00\n",
       "2014-01-01 00:43:08+01:00   22.00"
      ]
     },
     "execution_count": 49,
     "metadata": {},
     "output_type": "execute_result"
    }
   ],
   "source": [
    "df2.head()"
   ]
  },
  {
   "cell_type": "code",
   "execution_count": 50,
   "id": "8a925d56",
   "metadata": {},
   "outputs": [
    {
     "data": {
      "text/plain": [
       "<AxesSubplot:title={'center':'내외부 온도 시계열 도식화'}, xlabel='time'>"
      ]
     },
     "execution_count": 50,
     "metadata": {},
     "output_type": "execute_result"
    },
    {
     "name": "stderr",
     "output_type": "stream",
     "text": [
      "C:\\Users\\shinwi\\anaconda3\\lib\\site-packages\\IPython\\core\\pylabtools.py:151: UserWarning: Glyph 45236 (\\N{HANGUL SYLLABLE NAE}) missing from current font.\n",
      "  fig.canvas.print_figure(bytes_io, **kw)\n",
      "C:\\Users\\shinwi\\anaconda3\\lib\\site-packages\\IPython\\core\\pylabtools.py:151: UserWarning: Glyph 50808 (\\N{HANGUL SYLLABLE OE}) missing from current font.\n",
      "  fig.canvas.print_figure(bytes_io, **kw)\n",
      "C:\\Users\\shinwi\\anaconda3\\lib\\site-packages\\IPython\\core\\pylabtools.py:151: UserWarning: Glyph 48512 (\\N{HANGUL SYLLABLE BU}) missing from current font.\n",
      "  fig.canvas.print_figure(bytes_io, **kw)\n",
      "C:\\Users\\shinwi\\anaconda3\\lib\\site-packages\\IPython\\core\\pylabtools.py:151: UserWarning: Glyph 50728 (\\N{HANGUL SYLLABLE ON}) missing from current font.\n",
      "  fig.canvas.print_figure(bytes_io, **kw)\n",
      "C:\\Users\\shinwi\\anaconda3\\lib\\site-packages\\IPython\\core\\pylabtools.py:151: UserWarning: Glyph 46020 (\\N{HANGUL SYLLABLE DO}) missing from current font.\n",
      "  fig.canvas.print_figure(bytes_io, **kw)\n",
      "C:\\Users\\shinwi\\anaconda3\\lib\\site-packages\\IPython\\core\\pylabtools.py:151: UserWarning: Glyph 49884 (\\N{HANGUL SYLLABLE SI}) missing from current font.\n",
      "  fig.canvas.print_figure(bytes_io, **kw)\n",
      "C:\\Users\\shinwi\\anaconda3\\lib\\site-packages\\IPython\\core\\pylabtools.py:151: UserWarning: Glyph 44228 (\\N{HANGUL SYLLABLE GYE}) missing from current font.\n",
      "  fig.canvas.print_figure(bytes_io, **kw)\n",
      "C:\\Users\\shinwi\\anaconda3\\lib\\site-packages\\IPython\\core\\pylabtools.py:151: UserWarning: Glyph 50676 (\\N{HANGUL SYLLABLE YEOL}) missing from current font.\n",
      "  fig.canvas.print_figure(bytes_io, **kw)\n",
      "C:\\Users\\shinwi\\anaconda3\\lib\\site-packages\\IPython\\core\\pylabtools.py:151: UserWarning: Glyph 49885 (\\N{HANGUL SYLLABLE SIG}) missing from current font.\n",
      "  fig.canvas.print_figure(bytes_io, **kw)\n",
      "C:\\Users\\shinwi\\anaconda3\\lib\\site-packages\\IPython\\core\\pylabtools.py:151: UserWarning: Glyph 54868 (\\N{HANGUL SYLLABLE HWA}) missing from current font.\n",
      "  fig.canvas.print_figure(bytes_io, **kw)\n"
     ]
    },
    {
     "data": {
      "image/png": "[encoded data removed]",
      "text/plain": [
       "<Figure size 864x288 with 1 Axes>"
      ]
     },
     "metadata": {},
     "output_type": "display_data"
    }
   ],
   "source": [
    "fig, ax = plt.subplots(1, 1, figsize=(12, 4))\n",
    "ax.set_title(\"내외부 온도 시계열 도식화\")\n",
    "df1.plot(ax=ax)\n",
    "df2.plot(ax=ax)"
   ]
  },
  {
   "cell_type": "markdown",
   "id": "704949a5",
   "metadata": {},
   "source": [
    "#### info 메서드"
   ]
  },
  {
   "cell_type": "code",
   "execution_count": 51,
   "id": "83424906",
   "metadata": {},
   "outputs": [
    {
     "name": "stdout",
     "output_type": "stream",
     "text": [
      "<class 'pandas.core.frame.DataFrame'>\n",
      "DatetimeIndex: 49548 entries, 2014-01-01 00:03:06+01:00 to 2014-12-30 23:56:35+01:00\n",
      "Data columns (total 1 columns):\n",
      " #   Column   Non-Null Count  Dtype  \n",
      "---  ------   --------------  -----  \n",
      " 0   outdoor  49548 non-null  float64\n",
      "dtypes: float64(1)\n",
      "memory usage: 774.2 KB\n"
     ]
    }
   ],
   "source": [
    "df1.info()"
   ]
  },
  {
   "cell_type": "code",
   "execution_count": 52,
   "id": "9818eda2",
   "metadata": {},
   "outputs": [
    {
     "name": "stdout",
     "output_type": "stream",
     "text": [
      "<class 'pandas.core.frame.DataFrame'>\n",
      "DatetimeIndex: 49545 entries, 2014-01-01 00:03:06+01:00 to 2014-12-30 23:56:35+01:00\n",
      "Data columns (total 1 columns):\n",
      " #   Column  Non-Null Count  Dtype  \n",
      "---  ------  --------------  -----  \n",
      " 0   indoor  49545 non-null  float64\n",
      "dtypes: float64(1)\n",
      "memory usage: 774.1 KB\n"
     ]
    }
   ],
   "source": [
    "df2.info()"
   ]
  },
  {
   "cell_type": "markdown",
   "id": "49ee45b3",
   "metadata": {},
   "source": [
    "### 관심있는 데이터 선택\n",
    "- DataFrame의 부분 인덱싱"
   ]
  },
  {
   "cell_type": "code",
   "execution_count": 53,
   "id": "b5a558a8",
   "metadata": {},
   "outputs": [
    {
     "name": "stdout",
     "output_type": "stream",
     "text": [
      "<class 'pandas.core.frame.DataFrame'>\n",
      "DatetimeIndex: 4452 entries, 2014-01-01 00:03:06+01:00 to 2014-01-31 23:56:58+01:00\n",
      "Data columns (total 1 columns):\n",
      " #   Column   Non-Null Count  Dtype  \n",
      "---  ------   --------------  -----  \n",
      " 0   outdoor  4452 non-null   float64\n",
      "dtypes: float64(1)\n",
      "memory usage: 69.6 KB\n"
     ]
    }
   ],
   "source": [
    "#전체 데이터에서 1월 데이터만을 선별 \n",
    "mask_jan = (df1.index >= \"2014-1-1\") & (df1.index < \"2014-2-1\")\n",
    "df1_jan = df1[mask_jan]\n",
    "\n",
    "df1_jan.info()"
   ]
  },
  {
   "cell_type": "markdown",
   "id": "58e248c7",
   "metadata": {},
   "source": [
    "- 슬라이싱"
   ]
  },
  {
   "cell_type": "code",
   "execution_count": 54,
   "id": "5b48e142",
   "metadata": {},
   "outputs": [
    {
     "name": "stdout",
     "output_type": "stream",
     "text": [
      "<class 'pandas.core.frame.DataFrame'>\n",
      "DatetimeIndex: 4452 entries, 2014-01-01 00:03:06+01:00 to 2014-01-31 23:56:58+01:00\n",
      "Data columns (total 1 columns):\n",
      " #   Column  Non-Null Count  Dtype  \n",
      "---  ------  --------------  -----  \n",
      " 0   indoor  4452 non-null   float64\n",
      "dtypes: float64(1)\n",
      "memory usage: 69.6 KB\n"
     ]
    }
   ],
   "source": [
    "df2_jan = df2[\"2014-1-1\":\"2014-1-31\"]\n",
    "df2_jan.info()"
   ]
  },
  {
   "cell_type": "code",
   "execution_count": 55,
   "id": "2445c8ea",
   "metadata": {},
   "outputs": [
    {
     "data": {
      "text/plain": [
       "<AxesSubplot:title={'center':'선택된 월(1월)의 내외부 온도의 시계열 도식화'}, xlabel='time'>"
      ]
     },
     "execution_count": 55,
     "metadata": {},
     "output_type": "execute_result"
    },
    {
     "name": "stderr",
     "output_type": "stream",
     "text": [
      "C:\\Users\\shinwi\\anaconda3\\lib\\site-packages\\IPython\\core\\pylabtools.py:151: UserWarning: Glyph 49440 (\\N{HANGUL SYLLABLE SEON}) missing from current font.\n",
      "  fig.canvas.print_figure(bytes_io, **kw)\n",
      "C:\\Users\\shinwi\\anaconda3\\lib\\site-packages\\IPython\\core\\pylabtools.py:151: UserWarning: Glyph 53469 (\\N{HANGUL SYLLABLE TAEG}) missing from current font.\n",
      "  fig.canvas.print_figure(bytes_io, **kw)\n",
      "C:\\Users\\shinwi\\anaconda3\\lib\\site-packages\\IPython\\core\\pylabtools.py:151: UserWarning: Glyph 46108 (\\N{HANGUL SYLLABLE DOEN}) missing from current font.\n",
      "  fig.canvas.print_figure(bytes_io, **kw)\n",
      "C:\\Users\\shinwi\\anaconda3\\lib\\site-packages\\IPython\\core\\pylabtools.py:151: UserWarning: Glyph 50900 (\\N{HANGUL SYLLABLE WEOL}) missing from current font.\n",
      "  fig.canvas.print_figure(bytes_io, **kw)\n",
      "C:\\Users\\shinwi\\anaconda3\\lib\\site-packages\\IPython\\core\\pylabtools.py:151: UserWarning: Glyph 51032 (\\N{HANGUL SYLLABLE YI}) missing from current font.\n",
      "  fig.canvas.print_figure(bytes_io, **kw)\n",
      "C:\\Users\\shinwi\\anaconda3\\lib\\site-packages\\IPython\\core\\pylabtools.py:151: UserWarning: Glyph 45236 (\\N{HANGUL SYLLABLE NAE}) missing from current font.\n",
      "  fig.canvas.print_figure(bytes_io, **kw)\n",
      "C:\\Users\\shinwi\\anaconda3\\lib\\site-packages\\IPython\\core\\pylabtools.py:151: UserWarning: Glyph 50808 (\\N{HANGUL SYLLABLE OE}) missing from current font.\n",
      "  fig.canvas.print_figure(bytes_io, **kw)\n",
      "C:\\Users\\shinwi\\anaconda3\\lib\\site-packages\\IPython\\core\\pylabtools.py:151: UserWarning: Glyph 48512 (\\N{HANGUL SYLLABLE BU}) missing from current font.\n",
      "  fig.canvas.print_figure(bytes_io, **kw)\n",
      "C:\\Users\\shinwi\\anaconda3\\lib\\site-packages\\IPython\\core\\pylabtools.py:151: UserWarning: Glyph 50728 (\\N{HANGUL SYLLABLE ON}) missing from current font.\n",
      "  fig.canvas.print_figure(bytes_io, **kw)\n",
      "C:\\Users\\shinwi\\anaconda3\\lib\\site-packages\\IPython\\core\\pylabtools.py:151: UserWarning: Glyph 46020 (\\N{HANGUL SYLLABLE DO}) missing from current font.\n",
      "  fig.canvas.print_figure(bytes_io, **kw)\n",
      "C:\\Users\\shinwi\\anaconda3\\lib\\site-packages\\IPython\\core\\pylabtools.py:151: UserWarning: Glyph 49884 (\\N{HANGUL SYLLABLE SI}) missing from current font.\n",
      "  fig.canvas.print_figure(bytes_io, **kw)\n",
      "C:\\Users\\shinwi\\anaconda3\\lib\\site-packages\\IPython\\core\\pylabtools.py:151: UserWarning: Glyph 44228 (\\N{HANGUL SYLLABLE GYE}) missing from current font.\n",
      "  fig.canvas.print_figure(bytes_io, **kw)\n",
      "C:\\Users\\shinwi\\anaconda3\\lib\\site-packages\\IPython\\core\\pylabtools.py:151: UserWarning: Glyph 50676 (\\N{HANGUL SYLLABLE YEOL}) missing from current font.\n",
      "  fig.canvas.print_figure(bytes_io, **kw)\n",
      "C:\\Users\\shinwi\\anaconda3\\lib\\site-packages\\IPython\\core\\pylabtools.py:151: UserWarning: Glyph 49885 (\\N{HANGUL SYLLABLE SIG}) missing from current font.\n",
      "  fig.canvas.print_figure(bytes_io, **kw)\n",
      "C:\\Users\\shinwi\\anaconda3\\lib\\site-packages\\IPython\\core\\pylabtools.py:151: UserWarning: Glyph 54868 (\\N{HANGUL SYLLABLE HWA}) missing from current font.\n",
      "  fig.canvas.print_figure(bytes_io, **kw)\n"
     ]
    },
    {
     "data": {
      "image/png": "[encoded data removed]",
      "text/plain": [
       "<Figure size 864x288 with 1 Axes>"
      ]
     },
     "metadata": {},
     "output_type": "display_data"
    }
   ],
   "source": [
    "fig, ax = plt.subplots(1, 1, figsize=(12, 4))\n",
    "ax.set_title(\"선택된 월(1월)의 내외부 온도의 시계열 도식화\")\n",
    "df1_jan.plot(ax=ax)\n",
    "df2_jan.plot(ax=ax)"
   ]
  },
  {
   "cell_type": "markdown",
   "id": "5aba6af7",
   "metadata": {},
   "source": [
    "### 1년 중 각 달의 평균 온도를 계산하려면 \n",
    "- 새로운 month의 열을 생성하고\n",
    "- 그 month 열에 DatetimeIndex 인덱서의 Timestamp 값에 있는 month 필드를 할당"
   ]
  },
  {
   "cell_type": "code",
   "execution_count": 56,
   "id": "9b3be57d",
   "metadata": {},
   "outputs": [
    {
     "data": {
      "text/html": [
       "<div>\n",
       "<style scoped>\n",
       "    .dataframe tbody tr th:only-of-type {\n",
       "        vertical-align: middle;\n",
       "    }\n",
       "\n",
       "    .dataframe tbody tr th {\n",
       "        vertical-align: top;\n",
       "    }\n",
       "\n",
       "    .dataframe thead th {\n",
       "        text-align: right;\n",
       "    }\n",
       "</style>\n",
       "<table border=\"1\" class=\"dataframe\">\n",
       "  <thead>\n",
       "    <tr style=\"text-align: right;\">\n",
       "      <th></th>\n",
       "      <th>time</th>\n",
       "      <th>outdoor</th>\n",
       "      <th>month</th>\n",
       "    </tr>\n",
       "  </thead>\n",
       "  <tbody>\n",
       "    <tr>\n",
       "      <th>0</th>\n",
       "      <td>2014-01-01 00:03:06+01:00</td>\n",
       "      <td>4.38</td>\n",
       "      <td>1</td>\n",
       "    </tr>\n",
       "    <tr>\n",
       "      <th>1</th>\n",
       "      <td>2014-01-01 00:13:06+01:00</td>\n",
       "      <td>4.25</td>\n",
       "      <td>1</td>\n",
       "    </tr>\n",
       "    <tr>\n",
       "      <th>2</th>\n",
       "      <td>2014-01-01 00:23:07+01:00</td>\n",
       "      <td>4.19</td>\n",
       "      <td>1</td>\n",
       "    </tr>\n",
       "    <tr>\n",
       "      <th>3</th>\n",
       "      <td>2014-01-01 00:33:07+01:00</td>\n",
       "      <td>4.06</td>\n",
       "      <td>1</td>\n",
       "    </tr>\n",
       "    <tr>\n",
       "      <th>4</th>\n",
       "      <td>2014-01-01 00:43:08+01:00</td>\n",
       "      <td>4.06</td>\n",
       "      <td>1</td>\n",
       "    </tr>\n",
       "  </tbody>\n",
       "</table>\n",
       "</div>"
      ],
      "text/plain": [
       "                       time  outdoor  month\n",
       "0 2014-01-01 00:03:06+01:00     4.38      1\n",
       "1 2014-01-01 00:13:06+01:00     4.25      1\n",
       "2 2014-01-01 00:23:07+01:00     4.19      1\n",
       "3 2014-01-01 00:33:07+01:00     4.06      1\n",
       "4 2014-01-01 00:43:08+01:00     4.06      1"
      ]
     },
     "execution_count": 56,
     "metadata": {},
     "output_type": "execute_result"
    }
   ],
   "source": [
    "# 인덱스를 DataFrame의 열로 변환\n",
    "df1_month = df1.reset_index()\n",
    "# 새로 생성된 time 열에 apply\n",
    "df1_month[\"month\"] = df1_month.time.apply(lambda x: x.month)\n",
    "\n",
    "df1_month.head()"
   ]
  },
  {
   "cell_type": "markdown",
   "id": "386f9dd4",
   "metadata": {},
   "source": [
    "- DataFrame 을 새 month 필드로 그룹화하고\n",
    "- 각 그룹 내 평균을 계산하기 위한 mean 함수를 사용"
   ]
  },
  {
   "cell_type": "code",
   "execution_count": 57,
   "id": "27f724e5",
   "metadata": {},
   "outputs": [],
   "source": [
    "df1_month = df1_month.groupby(\"month\").aggregate(np.mean)\n",
    "df2_month = df2.reset_index()\n",
    "df2_month[\"month\"] = df2_month.time.apply(lambda x: x.month)\n",
    "df2_month = df2_month.groupby(\"month\").aggregate(np.mean)"
   ]
  },
  {
   "cell_type": "markdown",
   "id": "cc1c1dda",
   "metadata": {},
   "source": [
    "- join 메서드를 사용해 df1_month와 df2_month를 단일 DataFrame으로 병합"
   ]
  },
  {
   "cell_type": "code",
   "execution_count": 58,
   "id": "5fc2a9cf",
   "metadata": {},
   "outputs": [
    {
     "data": {
      "text/html": [
       "<div>\n",
       "<style scoped>\n",
       "    .dataframe tbody tr th:only-of-type {\n",
       "        vertical-align: middle;\n",
       "    }\n",
       "\n",
       "    .dataframe tbody tr th {\n",
       "        vertical-align: top;\n",
       "    }\n",
       "\n",
       "    .dataframe thead th {\n",
       "        text-align: right;\n",
       "    }\n",
       "</style>\n",
       "<table border=\"1\" class=\"dataframe\">\n",
       "  <thead>\n",
       "    <tr style=\"text-align: right;\">\n",
       "      <th></th>\n",
       "      <th>outdoor</th>\n",
       "      <th>indoor</th>\n",
       "    </tr>\n",
       "    <tr>\n",
       "      <th>month</th>\n",
       "      <th></th>\n",
       "      <th></th>\n",
       "    </tr>\n",
       "  </thead>\n",
       "  <tbody>\n",
       "    <tr>\n",
       "      <th>1</th>\n",
       "      <td>-1.776646</td>\n",
       "      <td>19.862590</td>\n",
       "    </tr>\n",
       "    <tr>\n",
       "      <th>2</th>\n",
       "      <td>2.231613</td>\n",
       "      <td>20.231507</td>\n",
       "    </tr>\n",
       "    <tr>\n",
       "      <th>3</th>\n",
       "      <td>4.615437</td>\n",
       "      <td>19.597748</td>\n",
       "    </tr>\n",
       "  </tbody>\n",
       "</table>\n",
       "</div>"
      ],
      "text/plain": [
       "        outdoor     indoor\n",
       "month                     \n",
       "1     -1.776646  19.862590\n",
       "2      2.231613  20.231507\n",
       "3      4.615437  19.597748"
      ]
     },
     "execution_count": 58,
     "metadata": {},
     "output_type": "execute_result"
    }
   ],
   "source": [
    "df_month = df1_month.join(df2_month)\n",
    "df_month.head(3)"
   ]
  },
  {
   "cell_type": "markdown",
   "id": "5d68f3a2",
   "metadata": {},
   "source": [
    "### Simplification"
   ]
  },
  {
   "cell_type": "code",
   "execution_count": 59,
   "id": "91c196d2",
   "metadata": {},
   "outputs": [
    {
     "name": "stderr",
     "output_type": "stream",
     "text": [
      "C:\\Users\\shinwi\\anaconda3\\lib\\site-packages\\pandas\\core\\arrays\\datetimes.py:1162: UserWarning: Converting to PeriodArray/Index representation will drop timezone information.\n",
      "  warnings.warn(\n",
      "C:\\Users\\shinwi\\anaconda3\\lib\\site-packages\\pandas\\core\\arrays\\datetimes.py:1162: UserWarning: Converting to PeriodArray/Index representation will drop timezone information.\n",
      "  warnings.warn(\n"
     ]
    },
    {
     "data": {
      "text/html": [
       "<div>\n",
       "<style scoped>\n",
       "    .dataframe tbody tr th:only-of-type {\n",
       "        vertical-align: middle;\n",
       "    }\n",
       "\n",
       "    .dataframe tbody tr th {\n",
       "        vertical-align: top;\n",
       "    }\n",
       "\n",
       "    .dataframe thead th {\n",
       "        text-align: right;\n",
       "    }\n",
       "</style>\n",
       "<table border=\"1\" class=\"dataframe\">\n",
       "  <thead>\n",
       "    <tr style=\"text-align: right;\">\n",
       "      <th></th>\n",
       "      <th>outdoor</th>\n",
       "      <th>indoor</th>\n",
       "    </tr>\n",
       "    <tr>\n",
       "      <th>time</th>\n",
       "      <th></th>\n",
       "      <th></th>\n",
       "    </tr>\n",
       "  </thead>\n",
       "  <tbody>\n",
       "    <tr>\n",
       "      <th>2014-01</th>\n",
       "      <td>-1.776646</td>\n",
       "      <td>19.862590</td>\n",
       "    </tr>\n",
       "    <tr>\n",
       "      <th>2014-02</th>\n",
       "      <td>2.231613</td>\n",
       "      <td>20.231507</td>\n",
       "    </tr>\n",
       "    <tr>\n",
       "      <th>2014-03</th>\n",
       "      <td>4.615437</td>\n",
       "      <td>19.597748</td>\n",
       "    </tr>\n",
       "  </tbody>\n",
       "</table>\n",
       "</div>"
      ],
      "text/plain": [
       "          outdoor     indoor\n",
       "time                        \n",
       "2014-01 -1.776646  19.862590\n",
       "2014-02  2.231613  20.231507\n",
       "2014-03  4.615437  19.597748"
      ]
     },
     "execution_count": 59,
     "metadata": {},
     "output_type": "execute_result"
    }
   ],
   "source": [
    "df_month = pd.concat([df.to_period(\"M\").groupby(level=0).mean() for df in [df1, df2]], axis=1)\n",
    "df_month.head(3)"
   ]
  },
  {
   "cell_type": "code",
   "execution_count": 60,
   "id": "fb4d6fa1",
   "metadata": {},
   "outputs": [
    {
     "data": {
      "text/plain": [
       "<AxesSubplot:title={'center':'월별 내외부 온도'}>"
      ]
     },
     "execution_count": 60,
     "metadata": {},
     "output_type": "execute_result"
    },
    {
     "name": "stderr",
     "output_type": "stream",
     "text": [
      "C:\\Users\\shinwi\\anaconda3\\lib\\site-packages\\IPython\\core\\pylabtools.py:151: UserWarning: Glyph 50900 (\\N{HANGUL SYLLABLE WEOL}) missing from current font.\n",
      "  fig.canvas.print_figure(bytes_io, **kw)\n",
      "C:\\Users\\shinwi\\anaconda3\\lib\\site-packages\\IPython\\core\\pylabtools.py:151: UserWarning: Glyph 48324 (\\N{HANGUL SYLLABLE BYEOL}) missing from current font.\n",
      "  fig.canvas.print_figure(bytes_io, **kw)\n",
      "C:\\Users\\shinwi\\anaconda3\\lib\\site-packages\\IPython\\core\\pylabtools.py:151: UserWarning: Glyph 54217 (\\N{HANGUL SYLLABLE PYEONG}) missing from current font.\n",
      "  fig.canvas.print_figure(bytes_io, **kw)\n",
      "C:\\Users\\shinwi\\anaconda3\\lib\\site-packages\\IPython\\core\\pylabtools.py:151: UserWarning: Glyph 44512 (\\N{HANGUL SYLLABLE GYUN}) missing from current font.\n",
      "  fig.canvas.print_figure(bytes_io, **kw)\n",
      "C:\\Users\\shinwi\\anaconda3\\lib\\site-packages\\IPython\\core\\pylabtools.py:151: UserWarning: Glyph 45236 (\\N{HANGUL SYLLABLE NAE}) missing from current font.\n",
      "  fig.canvas.print_figure(bytes_io, **kw)\n",
      "C:\\Users\\shinwi\\anaconda3\\lib\\site-packages\\IPython\\core\\pylabtools.py:151: UserWarning: Glyph 50808 (\\N{HANGUL SYLLABLE OE}) missing from current font.\n",
      "  fig.canvas.print_figure(bytes_io, **kw)\n",
      "C:\\Users\\shinwi\\anaconda3\\lib\\site-packages\\IPython\\core\\pylabtools.py:151: UserWarning: Glyph 48512 (\\N{HANGUL SYLLABLE BU}) missing from current font.\n",
      "  fig.canvas.print_figure(bytes_io, **kw)\n",
      "C:\\Users\\shinwi\\anaconda3\\lib\\site-packages\\IPython\\core\\pylabtools.py:151: UserWarning: Glyph 50728 (\\N{HANGUL SYLLABLE ON}) missing from current font.\n",
      "  fig.canvas.print_figure(bytes_io, **kw)\n",
      "C:\\Users\\shinwi\\anaconda3\\lib\\site-packages\\IPython\\core\\pylabtools.py:151: UserWarning: Glyph 46020 (\\N{HANGUL SYLLABLE DO}) missing from current font.\n",
      "  fig.canvas.print_figure(bytes_io, **kw)\n"
     ]
    },
    {
     "data": {
      "image/png": "[encoded data removed]",
      "text/plain": [
       "<Figure size 864x288 with 2 Axes>"
      ]
     },
     "metadata": {},
     "output_type": "display_data"
    }
   ],
   "source": [
    "fig, axes = plt.subplots(1, 2, figsize=(12, 4))\n",
    "axes[0].set_title(\"월별 평균 내외부 온도\")\n",
    "axes[1].set_title(\"월별 내외부 온도\")\n",
    "\n",
    "df_month.plot(kind='bar', ax=axes[0])\n",
    "df_month.plot(kind='box', ax=axes[1])"
   ]
  },
  {
   "cell_type": "code",
   "execution_count": null,
   "id": "6bea2ba1",
   "metadata": {},
   "outputs": [],
   "source": []
  },
  {
   "cell_type": "markdown",
   "id": "251fd4dd",
   "metadata": {},
   "source": [
    "### resample\n",
    ": 시계열의 데이터 포인트 수가 변화되는 것\n",
    "- up-sampling  \n",
    ": 누락된 값을 채우는 방법\n",
    "- down-sampling  \n",
    ": 새로운 표본 포인트마다 복수의 표본 포인트를 집계하는 방법"
   ]
  },
  {
   "cell_type": "code",
   "execution_count": 61,
   "id": "458ed599",
   "metadata": {},
   "outputs": [
    {
     "name": "stderr",
     "output_type": "stream",
     "text": [
      "C:\\Users\\shinwi\\AppData\\Local\\Temp\\ipykernel_12564\\425417645.py:7: UserWarning: Pandas doesn't allow columns to be created via a new attribute name - see https://pandas.pydata.org/pandas-docs/stable/indexing.html#attribute-access\n",
      "  df1_week.colums = [\"outdoor (weekly avg.)\"]\n",
      "C:\\Users\\shinwi\\AppData\\Local\\Temp\\ipykernel_12564\\425417645.py:9: UserWarning: Pandas doesn't allow columns to be created via a new attribute name - see https://pandas.pydata.org/pandas-docs/stable/indexing.html#attribute-access\n",
      "  df1_month.colums = [\"outdoor (monthly avg.)\"]\n"
     ]
    }
   ],
   "source": [
    "# 시간별, 일별, 주별, 월별 평균으로 외부 온도를 재표본\n",
    "df1_hour = df1.resample(\"H\").mean()\n",
    "df1_hour.columns = [\"outdoor (hourly avg.)\"]\n",
    "df1_day = df1.resample(\"D\").mean()\n",
    "df1_day.columns = [\"outdoor (daily avg.)\"]\n",
    "df1_week = df1.resample(\"7D\").mean()\n",
    "df1_week.colums = [\"outdoor (weekly avg.)\"]\n",
    "df1_month = df1.resample(\"M\").mean()\n",
    "df1_month.colums = [\"outdoor (monthly avg.)\"]\n",
    "df_diff = (df1.resample(\"D\").mean().outdoor - df2.resample(\"D\").mean().indoor)"
   ]
  },
  {
   "cell_type": "code",
   "execution_count": 62,
   "id": "e53875bb",
   "metadata": {},
   "outputs": [
    {
     "data": {
      "image/png": "[encoded data removed]",
      "text/plain": [
       "<Figure size 864x432 with 2 Axes>"
      ]
     },
     "metadata": {},
     "output_type": "display_data"
    }
   ],
   "source": [
    "fig, (ax1, ax2) = plt.subplots(2, 1, figsize=(12, 6))\n",
    "df1_hour.plot(ax=ax1, alpha=0.25)\n",
    "df1_day.plot(ax=ax1)\n",
    "df1_week.plot(ax=ax1)\n",
    "df1_month.plot(ax=ax1)\n",
    "df_diff.plot(ax=ax2)\n",
    "ax2.set_title(\"temperature difference between outdoor and indoor\")\n",
    "fig.tight_layout()"
   ]
  },
  {
   "cell_type": "code",
   "execution_count": null,
   "id": "c50ac97a",
   "metadata": {},
   "outputs": [],
   "source": []
  },
  {
   "cell_type": "code",
   "execution_count": 63,
   "id": "944acb01",
   "metadata": {},
   "outputs": [
    {
     "data": {
      "text/html": [
       "<div>\n",
       "<style scoped>\n",
       "    .dataframe tbody tr th:only-of-type {\n",
       "        vertical-align: middle;\n",
       "    }\n",
       "\n",
       "    .dataframe tbody tr th {\n",
       "        vertical-align: top;\n",
       "    }\n",
       "\n",
       "    .dataframe thead th {\n",
       "        text-align: right;\n",
       "    }\n",
       "</style>\n",
       "<table border=\"1\" class=\"dataframe\">\n",
       "  <thead>\n",
       "    <tr style=\"text-align: right;\">\n",
       "      <th></th>\n",
       "      <th>None</th>\n",
       "      <th>ffill</th>\n",
       "      <th>bfill</th>\n",
       "    </tr>\n",
       "    <tr>\n",
       "      <th>time</th>\n",
       "      <th></th>\n",
       "      <th></th>\n",
       "      <th></th>\n",
       "    </tr>\n",
       "  </thead>\n",
       "  <tbody>\n",
       "    <tr>\n",
       "      <th>2014-01-01 00:00:00+01:00</th>\n",
       "      <td>4.38</td>\n",
       "      <td>NaN</td>\n",
       "      <td>4.38</td>\n",
       "    </tr>\n",
       "    <tr>\n",
       "      <th>2014-01-01 00:05:00+01:00</th>\n",
       "      <td>NaN</td>\n",
       "      <td>4.38</td>\n",
       "      <td>4.25</td>\n",
       "    </tr>\n",
       "    <tr>\n",
       "      <th>2014-01-01 00:10:00+01:00</th>\n",
       "      <td>4.25</td>\n",
       "      <td>4.38</td>\n",
       "      <td>4.25</td>\n",
       "    </tr>\n",
       "    <tr>\n",
       "      <th>2014-01-01 00:15:00+01:00</th>\n",
       "      <td>NaN</td>\n",
       "      <td>4.25</td>\n",
       "      <td>4.19</td>\n",
       "    </tr>\n",
       "    <tr>\n",
       "      <th>2014-01-01 00:20:00+01:00</th>\n",
       "      <td>4.19</td>\n",
       "      <td>4.25</td>\n",
       "      <td>4.19</td>\n",
       "    </tr>\n",
       "  </tbody>\n",
       "</table>\n",
       "</div>"
      ],
      "text/plain": [
       "                           None  ffill  bfill\n",
       "time                                         \n",
       "2014-01-01 00:00:00+01:00  4.38    NaN   4.38\n",
       "2014-01-01 00:05:00+01:00   NaN   4.38   4.25\n",
       "2014-01-01 00:10:00+01:00  4.25   4.38   4.25\n",
       "2014-01-01 00:15:00+01:00   NaN   4.25   4.19\n",
       "2014-01-01 00:20:00+01:00  4.19   4.25   4.19"
      ]
     },
     "execution_count": 63,
     "metadata": {},
     "output_type": "execute_result"
    }
   ],
   "source": [
    "pd.concat([df1.resample(\"5min\").mean().rename(columns={\"outdoor\": 'None'}),\n",
    "          df1.resample(\"5min\").ffill().rename(columns={\"outdoor\": 'ffill'}),\n",
    "          df1.resample(\"5min\").bfill().rename(columns={\"outdoor\": 'bfill'})],\n",
    "         axis=1).head()"
   ]
  },
  {
   "cell_type": "code",
   "execution_count": null,
   "id": "c049f160",
   "metadata": {},
   "outputs": [],
   "source": []
  },
  {
   "cell_type": "markdown",
   "id": "1c3d5045",
   "metadata": {},
   "source": [
    "## 6. Seaborn 그래픽 라이브러리\n",
    "- 분포도 커널 밀도 도식화, 결합 분포 도식화, 히트맵 등 통계와 데이터 분석 작업에 유용한 그래프 생성을 위한 기능을 제공\n",
    "- 통계 분석 및 데이터 시각화 분야에 세련된 상위 레벨 그래프 기능을 제공"
   ]
  },
  {
   "cell_type": "markdown",
   "id": "b057da33",
   "metadata": {},
   "source": [
    "#### sns.set 함수"
   ]
  },
  {
   "cell_type": "code",
   "execution_count": 64,
   "id": "8ba30138",
   "metadata": {},
   "outputs": [],
   "source": [
    "sns.set(style=\"darkgrid\")  #darkgrid: 회색 배경, whitegrid: 흰 배경"
   ]
  },
  {
   "cell_type": "code",
   "execution_count": 65,
   "id": "36c9bd2f",
   "metadata": {},
   "outputs": [
    {
     "data": {
      "text/plain": [
       "<AxesSubplot:xlabel='time'>"
      ]
     },
     "execution_count": 65,
     "metadata": {},
     "output_type": "execute_result"
    },
    {
     "data": {
      "image/png": "[encoded data removed]",
      "text/plain": [
       "<Figure size 576x288 with 1 Axes>"
      ]
     },
     "metadata": {},
     "output_type": "display_data"
    }
   ],
   "source": [
    "df1 = pd.read_csv('temperature_outdoor_2014.tsv', delimiter=\"\\t\",\n",
    "                  names=[\"time\", \"outdoor\"])\n",
    "df1.time = (pd.to_datetime(df1.time.values, unit=\"s\")\n",
    "           .tz_localize('UTC').tz_convert('Europe/Stockholm'))\n",
    "df1 = df1.set_index(\"time\").resample(\"10min\").mean()\n",
    "df2 = pd.read_csv('temperature_indoor_2014.tsv', delimiter=\"\\t\",\n",
    "                  names=[\"time\", \"indoor\"])\n",
    "df2.time = (pd.to_datetime(df2.time.values, unit=\"s\")\n",
    "           .tz_localize('UTC').tz_convert('Europe/Stockholm'))\n",
    "df2 = df2.set_index(\"time\").resample(\"10min\").mean()\n",
    "df_temp = pd.concat([df1, df2], axis=1)\n",
    "fig, ax = plt.subplots(1, 1, figsize=(8, 4))\n",
    "df_temp.resample(\"D\").mean().plot(y=[\"outdoor\", \"indoor\"], ax=ax)"
   ]
  },
  {
   "cell_type": "code",
   "execution_count": null,
   "id": "e23ffbcd",
   "metadata": {},
   "outputs": [],
   "source": []
  },
  {
   "cell_type": "markdown",
   "id": "7217c990",
   "metadata": {},
   "source": [
    "#### sns.distplot 함수\n",
    ": KDE 도면을 히스토그램 위에 중첩시켜 각각 도식화"
   ]
  },
  {
   "cell_type": "code",
   "execution_count": 66,
   "id": "103705f2",
   "metadata": {},
   "outputs": [
    {
     "name": "stderr",
     "output_type": "stream",
     "text": [
      "C:\\Users\\shinwi\\anaconda3\\lib\\site-packages\\pandas\\core\\arrays\\datetimes.py:1162: UserWarning: Converting to PeriodArray/Index representation will drop timezone information.\n",
      "  warnings.warn(\n",
      "C:\\Users\\shinwi\\anaconda3\\lib\\site-packages\\seaborn\\distributions.py:2619: FutureWarning: `distplot` is a deprecated function and will be removed in a future version. Please adapt your code to use either `displot` (a figure-level function with similar flexibility) or `histplot` (an axes-level function for histograms).\n",
      "  warnings.warn(msg, FutureWarning)\n",
      "C:\\Users\\shinwi\\anaconda3\\lib\\site-packages\\pandas\\core\\arrays\\datetimes.py:1162: UserWarning: Converting to PeriodArray/Index representation will drop timezone information.\n",
      "  warnings.warn(\n",
      "C:\\Users\\shinwi\\anaconda3\\lib\\site-packages\\seaborn\\distributions.py:2619: FutureWarning: `distplot` is a deprecated function and will be removed in a future version. Please adapt your code to use either `displot` (a figure-level function with similar flexibility) or `histplot` (an axes-level function for histograms).\n",
      "  warnings.warn(msg, FutureWarning)\n"
     ]
    },
    {
     "data": {
      "image/png": "[encoded data removed]",
      "text/plain": [
       "<Figure size 432x288 with 1 Axes>"
      ]
     },
     "metadata": {},
     "output_type": "display_data"
    }
   ],
   "source": [
    "sns.distplot(df_temp.to_period(\"M\")[\"outdoor\"][\"2014-04\"].\n",
    "            dropna().values, bins=50);\n",
    "sns.distplot(df_temp.to_period(\"M\")[\"indoor\"][\"2014-04\"].\n",
    "            dropna().values, bins=50);"
   ]
  },
  {
   "cell_type": "markdown",
   "id": "23cbedc1",
   "metadata": {},
   "source": [
    "#### sns.kdplot 함수\n",
    ": KDE 도면을 히스토그램 위에 중첩시켜 각각 도식화\n",
    "- 결합 커널-밀도 추정값의 등고선 그래프"
   ]
  },
  {
   "cell_type": "code",
   "execution_count": 67,
   "id": "bf549481",
   "metadata": {},
   "outputs": [
    {
     "name": "stderr",
     "output_type": "stream",
     "text": [
      "C:\\Users\\shinwi\\anaconda3\\lib\\site-packages\\seaborn\\_decorators.py:36: FutureWarning: Pass the following variable as a keyword arg: y. From version 0.12, the only valid positional argument will be `data`, and passing other arguments without an explicit keyword will result in an error or misinterpretation.\n",
      "  warnings.warn(\n",
      "C:\\Users\\shinwi\\anaconda3\\lib\\site-packages\\seaborn\\_decorators.py:36: FutureWarning: Pass the following variables as keyword args: x, y. From version 0.12, the only valid positional argument will be `data`, and passing other arguments without an explicit keyword will result in an error or misinterpretation.\n",
      "  warnings.warn(\n"
     ]
    },
    {
     "data": {
      "image/png": "[encoded data removed]",
      "text/plain": [
       "<Figure size 432x288 with 1 Axes>"
      ]
     },
     "metadata": {},
     "output_type": "display_data"
    },
    {
     "data": {
      "image/png": "[encoded data removed]",
      "text/plain": [
       "<Figure size 432x432 with 3 Axes>"
      ]
     },
     "metadata": {},
     "output_type": "display_data"
    }
   ],
   "source": [
    "sns.kdeplot(df_temp.resample(\"H\").mean()[\"outdoor\"].dropna().values,\n",
    "           df_temp.resample(\"H\").mean()[\"indoor\"].dropna().values, shade=False)\n",
    "with sns.axes_style(\"white\"):\n",
    "    sns.jointplot(df_temp.resample(\"H\").mean()[\"outdoor\"].values,\n",
    "                 df_temp.resample(\"H\").mean()[\"indoor\"].values, kind=\"hex\")"
   ]
  },
  {
   "cell_type": "markdown",
   "id": "62eb1ee5",
   "metadata": {},
   "source": [
    "#### sns.boxplot 함수\n",
    ": 데이터셋의 기술 통계량을 시각화하기 위한 표준 상자 그림\n",
    "#### sns.violinplot 함수\n",
    ": 표준 상자의 변형으로 KDE 값이 상자 그림의 폭으로 나타나는 그림"
   ]
  },
  {
   "cell_type": "code",
   "execution_count": 68,
   "id": "b91593c3",
   "metadata": {
    "scrolled": false
   },
   "outputs": [
    {
     "data": {
      "text/plain": [
       "<AxesSubplot:>"
      ]
     },
     "execution_count": 68,
     "metadata": {},
     "output_type": "execute_result"
    },
    {
     "data": {
      "image/png": "[encoded data removed]",
      "text/plain": [
       "<Figure size 576x288 with 2 Axes>"
      ]
     },
     "metadata": {},
     "output_type": "display_data"
    }
   ],
   "source": [
    "fig, (ax1, ax2) = plt.subplots(1, 2, figsize=(8, 4))\n",
    "sns.boxplot(data=df_temp.dropna(), ax=ax1, palette=\"pastel\")\n",
    "sns.violinplot(data=df_temp.dropna(), ax=ax2, palette=\"pastel\")"
   ]
  },
  {
   "cell_type": "code",
   "execution_count": 69,
   "id": "3b416686",
   "metadata": {},
   "outputs": [
    {
     "data": {
      "image/png": "[encoded data removed]",
      "text/plain": [
       "<Figure size 432x288 with 1 Axes>"
      ]
     },
     "metadata": {},
     "output_type": "display_data"
    }
   ],
   "source": [
    "sns.violinplot(x=df_temp.dropna().index.month,\n",
    "              y=df_temp.dropna().outdoor, color=\"skyblue\");"
   ]
  },
  {
   "cell_type": "code",
   "execution_count": null,
   "id": "afb603f4",
   "metadata": {},
   "outputs": [],
   "source": []
  },
  {
   "cell_type": "markdown",
   "id": "26da91ae",
   "metadata": {},
   "source": [
    "#### sns.heatmap\n",
    ": 범주형 변수, 특히 범주가 많은 변수에 유용한 그래프 "
   ]
  },
  {
   "cell_type": "code",
   "execution_count": 70,
   "id": "36a1b38c",
   "metadata": {},
   "outputs": [],
   "source": [
    "df_temp[\"month\"] = df_temp.index.month\n",
    "df_temp[\"hour\"] = df_temp.index.hour\n",
    "table = pd.pivot_table(df_temp, values='outdoor',\n",
    "                      index=['month'], columns=['hour'], aggfunc=np.mean)"
   ]
  },
  {
   "cell_type": "code",
   "execution_count": 71,
   "id": "596db80c",
   "metadata": {},
   "outputs": [
    {
     "data": {
      "text/plain": [
       "<AxesSubplot:xlabel='hour', ylabel='month'>"
      ]
     },
     "execution_count": 71,
     "metadata": {},
     "output_type": "execute_result"
    },
    {
     "data": {
      "image/png": "[encoded data removed]",
      "text/plain": [
       "<Figure size 576x288 with 2 Axes>"
      ]
     },
     "metadata": {},
     "output_type": "display_data"
    }
   ],
   "source": [
    "fig, ax = plt.subplots(1, 1, figsize=(8, 4))\n",
    "sns.heatmap(table, ax=ax)"
   ]
  }
 ],
 "metadata": {
  "kernelspec": {
   "display_name": "Python 3 (ipykernel)",
   "language": "python",
   "name": "python3"
  },
  "language_info": {
   "codemirror_mode": {
    "name": "ipython",
    "version": 3
   },
   "file_extension": ".py",
   "mimetype": "text/x-python",
   "name": "python",
   "nbconvert_exporter": "python",
   "pygments_lexer": "ipython3",
   "version": "3.9.7"
  }
 },
 "nbformat": 4,
 "nbformat_minor": 5
}
