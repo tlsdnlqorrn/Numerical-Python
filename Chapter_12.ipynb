{
  "cells": [
    {
      "cell_type": "markdown",
      "id": "8eafdb2c",
      "metadata": {
        "id": "8eafdb2c"
      },
      "source": [
        "# Pandas Library\n",
        ": Python 을 이용한 데이터 처리와 분석을 위한 프레임워크\n",
        "\n",
        "- 데이터의 계열과 표를 나타내기 편리한 데이터 구조 제공\n",
        "- 데이터의 변환, 분할, 병합 및 변환에 용이\n",
        "- Numpy 위에 구축됨\n",
        "- 통계적 모델링 (선형 회귀 분석)에 대한 제한된 기능만 지원"
      ]
    },
    {
      "cell_type": "code",
      "execution_count": null,
      "id": "733611ed",
      "metadata": {
        "id": "733611ed"
      },
      "outputs": [],
      "source": [
        ""
      ]
    },
    {
      "cell_type": "markdown",
      "id": "b1a201b6",
      "metadata": {
        "id": "b1a201b6"
      },
      "source": [
        "## 1. 모듈 임포트"
      ]
    },
    {
      "cell_type": "code",
      "execution_count": 1,
      "id": "39253aaf",
      "metadata": {
        "id": "39253aaf"
      },
      "outputs": [],
      "source": [
        "import pandas as pd\n",
        "import numpy as np\n",
        "import matplotlib.pyplot as plt\n",
        "import matplotlib as mpl\n",
        "mpl.style.use('ggplot')"
      ]
    },
    {
      "cell_type": "code",
      "execution_count": 2,
      "id": "fd32bfb7",
      "metadata": {
        "id": "fd32bfb7"
      },
      "outputs": [],
      "source": [
        "import seaborn as sns\n",
        "# Matplot 위에 구현되는 통계적 시각화 라이브러리 (그래프 표현)"
      ]
    },
    {
      "cell_type": "markdown",
      "id": "882e7163",
      "metadata": {
        "id": "882e7163"
      },
      "source": [
        "## 2. Series\n",
        ": 1차원 배열을 위한 컨테이너 제공,  \n",
        "데이터 계열을 정수가 아닌 레이블로 색인할 수 있다."
      ]
    },
    {
      "cell_type": "markdown",
      "id": "85f76d0c",
      "metadata": {
        "id": "85f76d0c"
      },
      "source": [
        "### 객체 생성"
      ]
    },
    {
      "cell_type": "code",
      "execution_count": 3,
      "id": "4af4992d",
      "metadata": {
        "colab": {
          "base_uri": "https://localhost:8080/"
        },
        "id": "4af4992d",
        "outputId": "fd4e7cdb-1824-4dad-d6f6-d926d8661694"
      },
      "outputs": [
        {
          "output_type": "execute_result",
          "data": {
            "text/plain": [
              "0     909976\n",
              "1    8615246\n",
              "2    2872086\n",
              "3    2273305\n",
              "dtype: int64"
            ]
          },
          "metadata": {},
          "execution_count": 3
        }
      ],
      "source": [
        "s = pd.Series([909976, 8615246, 2872086, 2273305])\n",
        "s"
      ]
    },
    {
      "cell_type": "markdown",
      "id": "8bdd34ef",
      "metadata": {
        "id": "8bdd34ef"
      },
      "source": [
        "#### ↑  \n",
        "그결과 객체는 데이터 유형이 int64인 Series 인스턴스, 그 구성 원소는 정수 0, 1, 2, 3으로 인덱스된다."
      ]
    },
    {
      "cell_type": "markdown",
      "id": "36ca25a0",
      "metadata": {
        "id": "36ca25a0"
      },
      "source": [
        "### 데이터 추출"
      ]
    },
    {
      "cell_type": "code",
      "execution_count": 4,
      "id": "589dd668",
      "metadata": {
        "colab": {
          "base_uri": "https://localhost:8080/"
        },
        "id": "589dd668",
        "outputId": "6a8927d8-e304-47c3-b528-dfee045a5852"
      },
      "outputs": [
        {
          "output_type": "execute_result",
          "data": {
            "text/plain": [
              "[0, 1, 2, 3]"
            ]
          },
          "metadata": {},
          "execution_count": 4
        }
      ],
      "source": [
        "list(s.index)  # index: 인덱스 추출"
      ]
    },
    {
      "cell_type": "code",
      "execution_count": 5,
      "id": "d51e752f",
      "metadata": {
        "colab": {
          "base_uri": "https://localhost:8080/"
        },
        "id": "d51e752f",
        "outputId": "1a0484e4-af05-413d-d869-d02d77b5d823"
      },
      "outputs": [
        {
          "output_type": "execute_result",
          "data": {
            "text/plain": [
              "array([ 909976, 8615246, 2872086, 2273305])"
            ]
          },
          "metadata": {},
          "execution_count": 5
        }
      ],
      "source": [
        "s.values  # values: 값의 기저 데이터 추출"
      ]
    },
    {
      "cell_type": "markdown",
      "id": "03a9dc8b",
      "metadata": {
        "id": "03a9dc8b"
      },
      "source": [
        "### 레이블 인덱싱"
      ]
    },
    {
      "cell_type": "code",
      "execution_count": 6,
      "id": "393efe49",
      "metadata": {
        "colab": {
          "base_uri": "https://localhost:8080/"
        },
        "id": "393efe49",
        "outputId": "65001c6c-6ec8-492a-c003-410ffa9c4869"
      },
      "outputs": [
        {
          "output_type": "execute_result",
          "data": {
            "text/plain": [
              "Stockholm     909976\n",
              "London       8615246\n",
              "Rome         2872086\n",
              "Paris        2273305\n",
              "Name: Population, dtype: int64"
            ]
          },
          "metadata": {},
          "execution_count": 6
        }
      ],
      "source": [
        "s.index = [\"Stockholm\", \"London\", \"Rome\", \"Paris\"]\n",
        "s.name = \"Population\"  # name: 리스트 이름 부여\n",
        "s"
      ]
    },
    {
      "cell_type": "markdown",
      "id": "bbfc41d9",
      "metadata": {
        "id": "bbfc41d9"
      },
      "source": [
        "###  키워드 인수로 설정"
      ]
    },
    {
      "cell_type": "code",
      "execution_count": 7,
      "id": "c1ac1e28",
      "metadata": {
        "id": "c1ac1e28"
      },
      "outputs": [],
      "source": [
        "s = pd.Series([909976, 8615246, 2872086, 2273305], name = \"Population\", index = [\"Stockholm\", \"London\", \"Rome\", \"Paris\"])"
      ]
    },
    {
      "cell_type": "code",
      "execution_count": 8,
      "id": "9e22fd6a",
      "metadata": {
        "colab": {
          "base_uri": "https://localhost:8080/"
        },
        "id": "9e22fd6a",
        "outputId": "78aeb538-1545-4ff5-d9d9-0f4e966e6e9d"
      },
      "outputs": [
        {
          "output_type": "execute_result",
          "data": {
            "text/plain": [
              "8615246"
            ]
          },
          "metadata": {},
          "execution_count": 8
        }
      ],
      "source": [
        "s[\"London\"]"
      ]
    },
    {
      "cell_type": "code",
      "execution_count": 9,
      "id": "05ecd91a",
      "metadata": {
        "scrolled": true,
        "colab": {
          "base_uri": "https://localhost:8080/"
        },
        "id": "05ecd91a",
        "outputId": "42671944-9574-4573-b122-265cf195a46f"
      },
      "outputs": [
        {
          "output_type": "execute_result",
          "data": {
            "text/plain": [
              "909976"
            ]
          },
          "metadata": {},
          "execution_count": 9
        }
      ],
      "source": [
        "s.Stockholm"
      ]
    },
    {
      "cell_type": "code",
      "execution_count": 10,
      "id": "ebe8f182",
      "metadata": {
        "colab": {
          "base_uri": "https://localhost:8080/"
        },
        "id": "ebe8f182",
        "outputId": "30cef88c-fef0-41f5-834c-533c4cf511dd"
      },
      "outputs": [
        {
          "output_type": "execute_result",
          "data": {
            "text/plain": [
              "Paris    2273305\n",
              "Rome     2872086\n",
              "Name: Population, dtype: int64"
            ]
          },
          "metadata": {},
          "execution_count": 10
        }
      ],
      "source": [
        "s[[\"Paris\", \"Rome\"]]"
      ]
    },
    {
      "cell_type": "markdown",
      "id": "13cc2878",
      "metadata": {
        "id": "13cc2878"
      },
      "source": [
        "### 통계량 계산\n",
        "- median: 중앙값\n",
        "- mean: 평균값\n",
        "- std: 표준편차\n",
        "- min: 최솟값\n",
        "- max: 최댓값\n",
        "- quantile: 분위수"
      ]
    },
    {
      "cell_type": "code",
      "execution_count": 11,
      "id": "7b784a02",
      "metadata": {
        "colab": {
          "base_uri": "https://localhost:8080/"
        },
        "id": "7b784a02",
        "outputId": "2376e5dc-c3a1-483d-9b8b-1e55fdcab9f6"
      },
      "outputs": [
        {
          "output_type": "execute_result",
          "data": {
            "text/plain": [
              "(2572695.5, 3667653.25, 3399048.5005155364)"
            ]
          },
          "metadata": {},
          "execution_count": 11
        }
      ],
      "source": [
        "s.median(), s.mean(), s.std()"
      ]
    },
    {
      "cell_type": "code",
      "execution_count": 12,
      "id": "c7907614",
      "metadata": {
        "colab": {
          "base_uri": "https://localhost:8080/"
        },
        "id": "c7907614",
        "outputId": "a3f4fb4f-cc8f-402d-ed7d-7b8f3930bb99"
      },
      "outputs": [
        {
          "output_type": "execute_result",
          "data": {
            "text/plain": [
              "(909976, 8615246)"
            ]
          },
          "metadata": {},
          "execution_count": 12
        }
      ],
      "source": [
        "s.min(), s.max()"
      ]
    },
    {
      "cell_type": "code",
      "execution_count": 13,
      "id": "d72f261f",
      "metadata": {
        "colab": {
          "base_uri": "https://localhost:8080/"
        },
        "id": "d72f261f",
        "outputId": "c22e8944-3669-4642-b7af-045e4c57fbd6"
      },
      "outputs": [
        {
          "output_type": "execute_result",
          "data": {
            "text/plain": [
              "(1932472.75, 2572695.5, 4307876.0)"
            ]
          },
          "metadata": {},
          "execution_count": 13
        }
      ],
      "source": [
        "s.quantile(q=0.25), s.quantile(q=0.5), s.quantile(q=0.75)"
      ]
    },
    {
      "cell_type": "markdown",
      "id": "b8073526",
      "metadata": {
        "id": "b8073526"
      },
      "source": [
        "#### - describe: 데이터 요약"
      ]
    },
    {
      "cell_type": "code",
      "execution_count": 14,
      "id": "72d459e8",
      "metadata": {
        "scrolled": true,
        "colab": {
          "base_uri": "https://localhost:8080/"
        },
        "id": "72d459e8",
        "outputId": "06961bfd-b436-4a19-916c-2103ceed5ecb"
      },
      "outputs": [
        {
          "output_type": "execute_result",
          "data": {
            "text/plain": [
              "count    4.000000e+00\n",
              "mean     3.667653e+06\n",
              "std      3.399049e+06\n",
              "min      9.099760e+05\n",
              "25%      1.932473e+06\n",
              "50%      2.572696e+06\n",
              "75%      4.307876e+06\n",
              "max      8.615246e+06\n",
              "Name: Population, dtype: float64"
            ]
          },
          "metadata": {},
          "execution_count": 14
        }
      ],
      "source": [
        "s.describe()"
      ]
    },
    {
      "cell_type": "markdown",
      "id": "56dcdf0b",
      "metadata": {
        "id": "56dcdf0b"
      },
      "source": [
        "###  plot: 데이터 시각화"
      ]
    },
    {
      "cell_type": "code",
      "execution_count": 15,
      "id": "67974c04",
      "metadata": {
        "scrolled": true,
        "colab": {
          "base_uri": "https://localhost:8080/",
          "height": 0
        },
        "id": "67974c04",
        "outputId": "bab3085a-1290-43e0-f3e2-417e61ac154c"
      },
      "outputs": [
        {
          "output_type": "execute_result",
          "data": {
            "text/plain": [
              "<matplotlib.axes._subplots.AxesSubplot at 0x7fc7bf1ad6d0>"
            ]
          },
          "metadata": {},
          "execution_count": 15
        },
        {
          "output_type": "display_data",
          "data": {
            "text/plain": [
              "<Figure size 864x216 with 4 Axes>"
            ],
            "image/png": "[encoded data removed]"
          },
          "metadata": {
            "needs_background": "light"
          }
        }
      ],
      "source": [
        "fig, axes = plt.subplots(1, 4, figsize=(12, 3))\n",
        "s.plot(ax=axes[0], kind= 'line', title='line')\n",
        "s.plot(ax=axes[1], kind='bar', title='bar')\n",
        "s.plot(ax=axes[2], kind='box', title='box')\n",
        "s.plot(ax=axes[3], kind='pie', title='pie')"
      ]
    },
    {
      "cell_type": "markdown",
      "id": "40224551",
      "metadata": {
        "id": "40224551"
      },
      "source": [
        "## 3. DataFrame\n",
        ": Series 객체의 집합으로 볼 수 있는 고차원 배열을 위한 컨테이너 제공"
      ]
    },
    {
      "cell_type": "markdown",
      "id": "3de9da77",
      "metadata": {
        "id": "3de9da77"
      },
      "source": [
        "### 객체 생성"
      ]
    },
    {
      "cell_type": "code",
      "execution_count": 16,
      "id": "9f02bf14",
      "metadata": {
        "colab": {
          "base_uri": "https://localhost:8080/",
          "height": 0
        },
        "id": "9f02bf14",
        "outputId": "7953a6a7-1fea-40ed-c4bd-dc082c49f16d"
      },
      "outputs": [
        {
          "output_type": "execute_result",
          "data": {
            "text/plain": [
              "         0               1\n",
              "0   909976          Sweden\n",
              "1  8615246  United Kingdom\n",
              "2  2872086           Italy\n",
              "3  2273305          France"
            ],
            "text/html": [
              "\n",
              "  <div id=\"df-0cdb807e-bbb4-4967-ace3-b3de3bd16ab2\">\n",
              "    <div class=\"colab-df-container\">\n",
              "      <div>\n",
              "<style scoped>\n",
              "    .dataframe tbody tr th:only-of-type {\n",
              "        vertical-align: middle;\n",
              "    }\n",
              "\n",
              "    .dataframe tbody tr th {\n",
              "        vertical-align: top;\n",
              "    }\n",
              "\n",
              "    .dataframe thead th {\n",
              "        text-align: right;\n",
              "    }\n",
              "</style>\n",
              "<table border=\"1\" class=\"dataframe\">\n",
              "  <thead>\n",
              "    <tr style=\"text-align: right;\">\n",
              "      <th></th>\n",
              "      <th>0</th>\n",
              "      <th>1</th>\n",
              "    </tr>\n",
              "  </thead>\n",
              "  <tbody>\n",
              "    <tr>\n",
              "      <th>0</th>\n",
              "      <td>909976</td>\n",
              "      <td>Sweden</td>\n",
              "    </tr>\n",
              "    <tr>\n",
              "      <th>1</th>\n",
              "      <td>8615246</td>\n",
              "      <td>United Kingdom</td>\n",
              "    </tr>\n",
              "    <tr>\n",
              "      <th>2</th>\n",
              "      <td>2872086</td>\n",
              "      <td>Italy</td>\n",
              "    </tr>\n",
              "    <tr>\n",
              "      <th>3</th>\n",
              "      <td>2273305</td>\n",
              "      <td>France</td>\n",
              "    </tr>\n",
              "  </tbody>\n",
              "</table>\n",
              "</div>\n",
              "      <button class=\"colab-df-convert\" onclick=\"convertToInteractive('df-0cdb807e-bbb4-4967-ace3-b3de3bd16ab2')\"\n",
              "              title=\"Convert this dataframe to an interactive table.\"\n",
              "              style=\"display:none;\">\n",
              "        \n",
              "  <svg xmlns=\"http://www.w3.org/2000/svg\" height=\"24px\"viewBox=\"0 0 24 24\"\n",
              "       width=\"24px\">\n",
              "    <path d=\"M0 0h24v24H0V0z\" fill=\"none\"/>\n",
              "    <path d=\"M18.56 5.44l.94 2.06.94-2.06 2.06-.94-2.06-.94-.94-2.06-.94 2.06-2.06.94zm-11 1L8.5 8.5l.94-2.06 2.06-.94-2.06-.94L8.5 2.5l-.94 2.06-2.06.94zm10 10l.94 2.06.94-2.06 2.06-.94-2.06-.94-.94-2.06-.94 2.06-2.06.94z\"/><path d=\"M17.41 7.96l-1.37-1.37c-.4-.4-.92-.59-1.43-.59-.52 0-1.04.2-1.43.59L10.3 9.45l-7.72 7.72c-.78.78-.78 2.05 0 2.83L4 21.41c.39.39.9.59 1.41.59.51 0 1.02-.2 1.41-.59l7.78-7.78 2.81-2.81c.8-.78.8-2.07 0-2.86zM5.41 20L4 18.59l7.72-7.72 1.47 1.35L5.41 20z\"/>\n",
              "  </svg>\n",
              "      </button>\n",
              "      \n",
              "  <style>\n",
              "    .colab-df-container {\n",
              "      display:flex;\n",
              "      flex-wrap:wrap;\n",
              "      gap: 12px;\n",
              "    }\n",
              "\n",
              "    .colab-df-convert {\n",
              "      background-color: #E8F0FE;\n",
              "      border: none;\n",
              "      border-radius: 50%;\n",
              "      cursor: pointer;\n",
              "      display: none;\n",
              "      fill: #1967D2;\n",
              "      height: 32px;\n",
              "      padding: 0 0 0 0;\n",
              "      width: 32px;\n",
              "    }\n",
              "\n",
              "    .colab-df-convert:hover {\n",
              "      background-color: #E2EBFA;\n",
              "      box-shadow: 0px 1px 2px rgba(60, 64, 67, 0.3), 0px 1px 3px 1px rgba(60, 64, 67, 0.15);\n",
              "      fill: #174EA6;\n",
              "    }\n",
              "\n",
              "    [theme=dark] .colab-df-convert {\n",
              "      background-color: #3B4455;\n",
              "      fill: #D2E3FC;\n",
              "    }\n",
              "\n",
              "    [theme=dark] .colab-df-convert:hover {\n",
              "      background-color: #434B5C;\n",
              "      box-shadow: 0px 1px 3px 1px rgba(0, 0, 0, 0.15);\n",
              "      filter: drop-shadow(0px 1px 2px rgba(0, 0, 0, 0.3));\n",
              "      fill: #FFFFFF;\n",
              "    }\n",
              "  </style>\n",
              "\n",
              "      <script>\n",
              "        const buttonEl =\n",
              "          document.querySelector('#df-0cdb807e-bbb4-4967-ace3-b3de3bd16ab2 button.colab-df-convert');\n",
              "        buttonEl.style.display =\n",
              "          google.colab.kernel.accessAllowed ? 'block' : 'none';\n",
              "\n",
              "        async function convertToInteractive(key) {\n",
              "          const element = document.querySelector('#df-0cdb807e-bbb4-4967-ace3-b3de3bd16ab2');\n",
              "          const dataTable =\n",
              "            await google.colab.kernel.invokeFunction('convertToInteractive',\n",
              "                                                     [key], {});\n",
              "          if (!dataTable) return;\n",
              "\n",
              "          const docLinkHtml = 'Like what you see? Visit the ' +\n",
              "            '<a target=\"_blank\" href=https://colab.research.google.com/notebooks/data_table.ipynb>data table notebook</a>'\n",
              "            + ' to learn more about interactive tables.';\n",
              "          element.innerHTML = '';\n",
              "          dataTable['output_type'] = 'display_data';\n",
              "          await google.colab.output.renderOutput(dataTable, element);\n",
              "          const docLink = document.createElement('div');\n",
              "          docLink.innerHTML = docLinkHtml;\n",
              "          element.appendChild(docLink);\n",
              "        }\n",
              "      </script>\n",
              "    </div>\n",
              "  </div>\n",
              "  "
            ]
          },
          "metadata": {},
          "execution_count": 16
        }
      ],
      "source": [
        "df = pd.DataFrame([[909976, \"Sweden\"],\n",
        "                  [8615246, \"United Kingdom\"],\n",
        "                  [2872086, \"Italy\"],\n",
        "                  [2273305, \"France\"]])\n",
        "df"
      ]
    },
    {
      "cell_type": "markdown",
      "id": "77c5fbf1",
      "metadata": {
        "id": "77c5fbf1"
      },
      "source": [
        "###  레이블 인덱싱"
      ]
    },
    {
      "cell_type": "code",
      "execution_count": 17,
      "id": "a1f46cf3",
      "metadata": {
        "colab": {
          "base_uri": "https://localhost:8080/",
          "height": 0
        },
        "id": "a1f46cf3",
        "outputId": "22c8739e-81ad-447a-8091-da548823e773"
      },
      "outputs": [
        {
          "output_type": "execute_result",
          "data": {
            "text/plain": [
              "           Population           State\n",
              "Stockholm      909976          Sweden\n",
              "London        8615246  United Kingdom\n",
              "Rome          2872086           Italy\n",
              "Paris         2273305          France"
            ],
            "text/html": [
              "\n",
              "  <div id=\"df-c4b14eaf-9419-4311-82f3-cf12d94da90c\">\n",
              "    <div class=\"colab-df-container\">\n",
              "      <div>\n",
              "<style scoped>\n",
              "    .dataframe tbody tr th:only-of-type {\n",
              "        vertical-align: middle;\n",
              "    }\n",
              "\n",
              "    .dataframe tbody tr th {\n",
              "        vertical-align: top;\n",
              "    }\n",
              "\n",
              "    .dataframe thead th {\n",
              "        text-align: right;\n",
              "    }\n",
              "</style>\n",
              "<table border=\"1\" class=\"dataframe\">\n",
              "  <thead>\n",
              "    <tr style=\"text-align: right;\">\n",
              "      <th></th>\n",
              "      <th>Population</th>\n",
              "      <th>State</th>\n",
              "    </tr>\n",
              "  </thead>\n",
              "  <tbody>\n",
              "    <tr>\n",
              "      <th>Stockholm</th>\n",
              "      <td>909976</td>\n",
              "      <td>Sweden</td>\n",
              "    </tr>\n",
              "    <tr>\n",
              "      <th>London</th>\n",
              "      <td>8615246</td>\n",
              "      <td>United Kingdom</td>\n",
              "    </tr>\n",
              "    <tr>\n",
              "      <th>Rome</th>\n",
              "      <td>2872086</td>\n",
              "      <td>Italy</td>\n",
              "    </tr>\n",
              "    <tr>\n",
              "      <th>Paris</th>\n",
              "      <td>2273305</td>\n",
              "      <td>France</td>\n",
              "    </tr>\n",
              "  </tbody>\n",
              "</table>\n",
              "</div>\n",
              "      <button class=\"colab-df-convert\" onclick=\"convertToInteractive('df-c4b14eaf-9419-4311-82f3-cf12d94da90c')\"\n",
              "              title=\"Convert this dataframe to an interactive table.\"\n",
              "              style=\"display:none;\">\n",
              "        \n",
              "  <svg xmlns=\"http://www.w3.org/2000/svg\" height=\"24px\"viewBox=\"0 0 24 24\"\n",
              "       width=\"24px\">\n",
              "    <path d=\"M0 0h24v24H0V0z\" fill=\"none\"/>\n",
              "    <path d=\"M18.56 5.44l.94 2.06.94-2.06 2.06-.94-2.06-.94-.94-2.06-.94 2.06-2.06.94zm-11 1L8.5 8.5l.94-2.06 2.06-.94-2.06-.94L8.5 2.5l-.94 2.06-2.06.94zm10 10l.94 2.06.94-2.06 2.06-.94-2.06-.94-.94-2.06-.94 2.06-2.06.94z\"/><path d=\"M17.41 7.96l-1.37-1.37c-.4-.4-.92-.59-1.43-.59-.52 0-1.04.2-1.43.59L10.3 9.45l-7.72 7.72c-.78.78-.78 2.05 0 2.83L4 21.41c.39.39.9.59 1.41.59.51 0 1.02-.2 1.41-.59l7.78-7.78 2.81-2.81c.8-.78.8-2.07 0-2.86zM5.41 20L4 18.59l7.72-7.72 1.47 1.35L5.41 20z\"/>\n",
              "  </svg>\n",
              "      </button>\n",
              "      \n",
              "  <style>\n",
              "    .colab-df-container {\n",
              "      display:flex;\n",
              "      flex-wrap:wrap;\n",
              "      gap: 12px;\n",
              "    }\n",
              "\n",
              "    .colab-df-convert {\n",
              "      background-color: #E8F0FE;\n",
              "      border: none;\n",
              "      border-radius: 50%;\n",
              "      cursor: pointer;\n",
              "      display: none;\n",
              "      fill: #1967D2;\n",
              "      height: 32px;\n",
              "      padding: 0 0 0 0;\n",
              "      width: 32px;\n",
              "    }\n",
              "\n",
              "    .colab-df-convert:hover {\n",
              "      background-color: #E2EBFA;\n",
              "      box-shadow: 0px 1px 2px rgba(60, 64, 67, 0.3), 0px 1px 3px 1px rgba(60, 64, 67, 0.15);\n",
              "      fill: #174EA6;\n",
              "    }\n",
              "\n",
              "    [theme=dark] .colab-df-convert {\n",
              "      background-color: #3B4455;\n",
              "      fill: #D2E3FC;\n",
              "    }\n",
              "\n",
              "    [theme=dark] .colab-df-convert:hover {\n",
              "      background-color: #434B5C;\n",
              "      box-shadow: 0px 1px 3px 1px rgba(0, 0, 0, 0.15);\n",
              "      filter: drop-shadow(0px 1px 2px rgba(0, 0, 0, 0.3));\n",
              "      fill: #FFFFFF;\n",
              "    }\n",
              "  </style>\n",
              "\n",
              "      <script>\n",
              "        const buttonEl =\n",
              "          document.querySelector('#df-c4b14eaf-9419-4311-82f3-cf12d94da90c button.colab-df-convert');\n",
              "        buttonEl.style.display =\n",
              "          google.colab.kernel.accessAllowed ? 'block' : 'none';\n",
              "\n",
              "        async function convertToInteractive(key) {\n",
              "          const element = document.querySelector('#df-c4b14eaf-9419-4311-82f3-cf12d94da90c');\n",
              "          const dataTable =\n",
              "            await google.colab.kernel.invokeFunction('convertToInteractive',\n",
              "                                                     [key], {});\n",
              "          if (!dataTable) return;\n",
              "\n",
              "          const docLinkHtml = 'Like what you see? Visit the ' +\n",
              "            '<a target=\"_blank\" href=https://colab.research.google.com/notebooks/data_table.ipynb>data table notebook</a>'\n",
              "            + ' to learn more about interactive tables.';\n",
              "          element.innerHTML = '';\n",
              "          dataTable['output_type'] = 'display_data';\n",
              "          await google.colab.output.renderOutput(dataTable, element);\n",
              "          const docLink = document.createElement('div');\n",
              "          docLink.innerHTML = docLinkHtml;\n",
              "          element.appendChild(docLink);\n",
              "        }\n",
              "      </script>\n",
              "    </div>\n",
              "  </div>\n",
              "  "
            ]
          },
          "metadata": {},
          "execution_count": 17
        }
      ],
      "source": [
        "df.index = [\"Stockholm\", \"London\", \"Rome\", \"Paris\"] # 행에 대한 레이블 인덱싱\n",
        "df.columns = [\"Population\", \"State\"]\n",
        "df"
      ]
    },
    {
      "cell_type": "markdown",
      "id": "6d207d8c",
      "metadata": {
        "id": "6d207d8c"
      },
      "source": [
        "###  키워드 인수로 설정"
      ]
    },
    {
      "cell_type": "code",
      "execution_count": 18,
      "id": "08fe13be",
      "metadata": {
        "id": "08fe13be"
      },
      "outputs": [],
      "source": [
        "df = pd.DataFrame([[909976, \"Sweden\"],\n",
        "                  [8615246, \"United Kingdom\"],\n",
        "                  [2872086, \"Italy\"],\n",
        "                  [2273305, \"France\"]],\n",
        "                 index=[\"Stockholm\", \"London\", \"Rome\", \"Paris\"],\n",
        "                 columns = [\"Population\", \"State\"])"
      ]
    },
    {
      "cell_type": "code",
      "execution_count": 19,
      "id": "7c3edd40",
      "metadata": {
        "colab": {
          "base_uri": "https://localhost:8080/"
        },
        "id": "7c3edd40",
        "outputId": "71ce5012-c7fa-4743-8f66-1fbf4cf6eb9b"
      },
      "outputs": [
        {
          "output_type": "execute_result",
          "data": {
            "text/plain": [
              "Stockholm     909976\n",
              "London       8615246\n",
              "Rome         2872086\n",
              "Paris        2273305\n",
              "Name: Population, dtype: int64"
            ]
          },
          "metadata": {},
          "execution_count": 19
        }
      ],
      "source": [
        "df.Population"
      ]
    },
    {
      "cell_type": "markdown",
      "id": "d8f6171d",
      "metadata": {
        "id": "d8f6171d"
      },
      "source": [
        "###  키, 값을 사용한 딕셔너리 전달 {}"
      ]
    },
    {
      "cell_type": "code",
      "execution_count": 20,
      "id": "0983800d",
      "metadata": {
        "id": "0983800d"
      },
      "outputs": [],
      "source": [
        "df = pd.DataFrame({\"Population\": [909976, 8615246, 2872086, 2273305],\n",
        "                  \"State\": [\"Sweden\", \"United Kingdom\", \"Italy\", \"France\"]},\n",
        "                 index=[\"Stockholm\", \"London\", \"Rome\", \"Paris\"])"
      ]
    },
    {
      "cell_type": "code",
      "execution_count": 21,
      "id": "293bfcf4",
      "metadata": {
        "colab": {
          "base_uri": "https://localhost:8080/"
        },
        "id": "293bfcf4",
        "outputId": "437b04f8-d94f-4aa2-b6fb-d695849f540d"
      },
      "outputs": [
        {
          "output_type": "execute_result",
          "data": {
            "text/plain": [
              "Stockholm     909976\n",
              "London       8615246\n",
              "Rome         2872086\n",
              "Paris        2273305\n",
              "Name: Population, dtype: int64"
            ]
          },
          "metadata": {},
          "execution_count": 21
        }
      ],
      "source": [
        "df.Population"
      ]
    },
    {
      "cell_type": "markdown",
      "id": "443584b0",
      "metadata": {
        "id": "443584b0"
      },
      "source": [
        "### loc 인덱서: 특정 행이나 열에 접근\n",
        "#### - 행에 접근"
      ]
    },
    {
      "cell_type": "code",
      "execution_count": 22,
      "id": "9dc231c2",
      "metadata": {
        "colab": {
          "base_uri": "https://localhost:8080/"
        },
        "id": "9dc231c2",
        "outputId": "121a583a-7583-44c2-fe1b-0b630de18087"
      },
      "outputs": [
        {
          "output_type": "execute_result",
          "data": {
            "text/plain": [
              "Population    909976\n",
              "State         Sweden\n",
              "Name: Stockholm, dtype: object"
            ]
          },
          "metadata": {},
          "execution_count": 22
        }
      ],
      "source": [
        "df.loc[\"Stockholm\"]  # 특정 행을 전달 --> 새로운 Series 객체 생성"
      ]
    },
    {
      "cell_type": "code",
      "execution_count": 23,
      "id": "ff8c0d80",
      "metadata": {
        "colab": {
          "base_uri": "https://localhost:8080/",
          "height": 0
        },
        "id": "ff8c0d80",
        "outputId": "b8186bd7-14e7-486e-d5e2-dbd4efa66a86"
      },
      "outputs": [
        {
          "output_type": "execute_result",
          "data": {
            "text/plain": [
              "       Population   State\n",
              "Paris     2273305  France\n",
              "Rome      2872086   Italy"
            ],
            "text/html": [
              "\n",
              "  <div id=\"df-fb3b6964-ceec-4530-8042-444c2e893678\">\n",
              "    <div class=\"colab-df-container\">\n",
              "      <div>\n",
              "<style scoped>\n",
              "    .dataframe tbody tr th:only-of-type {\n",
              "        vertical-align: middle;\n",
              "    }\n",
              "\n",
              "    .dataframe tbody tr th {\n",
              "        vertical-align: top;\n",
              "    }\n",
              "\n",
              "    .dataframe thead th {\n",
              "        text-align: right;\n",
              "    }\n",
              "</style>\n",
              "<table border=\"1\" class=\"dataframe\">\n",
              "  <thead>\n",
              "    <tr style=\"text-align: right;\">\n",
              "      <th></th>\n",
              "      <th>Population</th>\n",
              "      <th>State</th>\n",
              "    </tr>\n",
              "  </thead>\n",
              "  <tbody>\n",
              "    <tr>\n",
              "      <th>Paris</th>\n",
              "      <td>2273305</td>\n",
              "      <td>France</td>\n",
              "    </tr>\n",
              "    <tr>\n",
              "      <th>Rome</th>\n",
              "      <td>2872086</td>\n",
              "      <td>Italy</td>\n",
              "    </tr>\n",
              "  </tbody>\n",
              "</table>\n",
              "</div>\n",
              "      <button class=\"colab-df-convert\" onclick=\"convertToInteractive('df-fb3b6964-ceec-4530-8042-444c2e893678')\"\n",
              "              title=\"Convert this dataframe to an interactive table.\"\n",
              "              style=\"display:none;\">\n",
              "        \n",
              "  <svg xmlns=\"http://www.w3.org/2000/svg\" height=\"24px\"viewBox=\"0 0 24 24\"\n",
              "       width=\"24px\">\n",
              "    <path d=\"M0 0h24v24H0V0z\" fill=\"none\"/>\n",
              "    <path d=\"M18.56 5.44l.94 2.06.94-2.06 2.06-.94-2.06-.94-.94-2.06-.94 2.06-2.06.94zm-11 1L8.5 8.5l.94-2.06 2.06-.94-2.06-.94L8.5 2.5l-.94 2.06-2.06.94zm10 10l.94 2.06.94-2.06 2.06-.94-2.06-.94-.94-2.06-.94 2.06-2.06.94z\"/><path d=\"M17.41 7.96l-1.37-1.37c-.4-.4-.92-.59-1.43-.59-.52 0-1.04.2-1.43.59L10.3 9.45l-7.72 7.72c-.78.78-.78 2.05 0 2.83L4 21.41c.39.39.9.59 1.41.59.51 0 1.02-.2 1.41-.59l7.78-7.78 2.81-2.81c.8-.78.8-2.07 0-2.86zM5.41 20L4 18.59l7.72-7.72 1.47 1.35L5.41 20z\"/>\n",
              "  </svg>\n",
              "      </button>\n",
              "      \n",
              "  <style>\n",
              "    .colab-df-container {\n",
              "      display:flex;\n",
              "      flex-wrap:wrap;\n",
              "      gap: 12px;\n",
              "    }\n",
              "\n",
              "    .colab-df-convert {\n",
              "      background-color: #E8F0FE;\n",
              "      border: none;\n",
              "      border-radius: 50%;\n",
              "      cursor: pointer;\n",
              "      display: none;\n",
              "      fill: #1967D2;\n",
              "      height: 32px;\n",
              "      padding: 0 0 0 0;\n",
              "      width: 32px;\n",
              "    }\n",
              "\n",
              "    .colab-df-convert:hover {\n",
              "      background-color: #E2EBFA;\n",
              "      box-shadow: 0px 1px 2px rgba(60, 64, 67, 0.3), 0px 1px 3px 1px rgba(60, 64, 67, 0.15);\n",
              "      fill: #174EA6;\n",
              "    }\n",
              "\n",
              "    [theme=dark] .colab-df-convert {\n",
              "      background-color: #3B4455;\n",
              "      fill: #D2E3FC;\n",
              "    }\n",
              "\n",
              "    [theme=dark] .colab-df-convert:hover {\n",
              "      background-color: #434B5C;\n",
              "      box-shadow: 0px 1px 3px 1px rgba(0, 0, 0, 0.15);\n",
              "      filter: drop-shadow(0px 1px 2px rgba(0, 0, 0, 0.3));\n",
              "      fill: #FFFFFF;\n",
              "    }\n",
              "  </style>\n",
              "\n",
              "      <script>\n",
              "        const buttonEl =\n",
              "          document.querySelector('#df-fb3b6964-ceec-4530-8042-444c2e893678 button.colab-df-convert');\n",
              "        buttonEl.style.display =\n",
              "          google.colab.kernel.accessAllowed ? 'block' : 'none';\n",
              "\n",
              "        async function convertToInteractive(key) {\n",
              "          const element = document.querySelector('#df-fb3b6964-ceec-4530-8042-444c2e893678');\n",
              "          const dataTable =\n",
              "            await google.colab.kernel.invokeFunction('convertToInteractive',\n",
              "                                                     [key], {});\n",
              "          if (!dataTable) return;\n",
              "\n",
              "          const docLinkHtml = 'Like what you see? Visit the ' +\n",
              "            '<a target=\"_blank\" href=https://colab.research.google.com/notebooks/data_table.ipynb>data table notebook</a>'\n",
              "            + ' to learn more about interactive tables.';\n",
              "          element.innerHTML = '';\n",
              "          dataTable['output_type'] = 'display_data';\n",
              "          await google.colab.output.renderOutput(dataTable, element);\n",
              "          const docLink = document.createElement('div');\n",
              "          docLink.innerHTML = docLinkHtml;\n",
              "          element.appendChild(docLink);\n",
              "        }\n",
              "      </script>\n",
              "    </div>\n",
              "  </div>\n",
              "  "
            ]
          },
          "metadata": {},
          "execution_count": 23
        }
      ],
      "source": [
        "df.loc[['Paris', \"Rome\"]]  # 특정 행 리스트를 전달 --> 새로운 DataFrame 객체 생성"
      ]
    },
    {
      "cell_type": "markdown",
      "id": "c3125940",
      "metadata": {
        "id": "c3125940"
      },
      "source": [
        "#### - 행과 열에 동시 접근 "
      ]
    },
    {
      "cell_type": "code",
      "execution_count": 24,
      "id": "aaf9a93a",
      "metadata": {
        "colab": {
          "base_uri": "https://localhost:8080/"
        },
        "id": "aaf9a93a",
        "outputId": "8ee99cbc-97cf-4e4c-9552-6f8e171028c3"
      },
      "outputs": [
        {
          "output_type": "execute_result",
          "data": {
            "text/plain": [
              "Paris    2273305\n",
              "Rome     2872086\n",
              "Name: Population, dtype: int64"
            ]
          },
          "metadata": {},
          "execution_count": 24
        }
      ],
      "source": [
        "df.loc[[\"Paris\", \"Rome\"], \"Population\"]"
      ]
    },
    {
      "cell_type": "markdown",
      "id": "bda9b174",
      "metadata": {
        "id": "bda9b174"
      },
      "source": [
        "### 통계량 계산 (Series와 동일)\n",
        "- median: 중앙값\n",
        "- mean: 평균값\n",
        "- std: 표준편차\n",
        "- min: 최솟값\n",
        "- max: 최댓값\n",
        "- quantile: 분위수"
      ]
    },
    {
      "cell_type": "code",
      "execution_count": 25,
      "id": "b9a48a24",
      "metadata": {
        "colab": {
          "base_uri": "https://localhost:8080/"
        },
        "id": "b9a48a24",
        "outputId": "39620d43-1d0a-4fb9-f993-684a43f04b9f"
      },
      "outputs": [
        {
          "output_type": "stream",
          "name": "stderr",
          "text": [
            "/usr/local/lib/python3.7/dist-packages/ipykernel_launcher.py:1: FutureWarning: Dropping of nuisance columns in DataFrame reductions (with 'numeric_only=None') is deprecated; in a future version this will raise TypeError.  Select only valid columns before calling the reduction.\n",
            "  \"\"\"Entry point for launching an IPython kernel.\n"
          ]
        },
        {
          "output_type": "execute_result",
          "data": {
            "text/plain": [
              "Population    3667653.25\n",
              "dtype: float64"
            ]
          },
          "metadata": {},
          "execution_count": 25
        }
      ],
      "source": [
        "df.mean()"
      ]
    },
    {
      "cell_type": "markdown",
      "id": "3f4179f4",
      "metadata": {
        "id": "3f4179f4"
      },
      "source": [
        "##### ↑ \n",
        "두 열 중 하나만 수치 데이터 유형을 갖는다."
      ]
    },
    {
      "cell_type": "markdown",
      "id": "a5bb616a",
      "metadata": {
        "id": "a5bb616a"
      },
      "source": [
        "###  DataFrame 내용 요약"
      ]
    },
    {
      "cell_type": "code",
      "execution_count": 26,
      "id": "6fcb45b2",
      "metadata": {
        "colab": {
          "base_uri": "https://localhost:8080/"
        },
        "id": "6fcb45b2",
        "outputId": "053534cc-8d2c-4906-fb9c-3f58b05fca70"
      },
      "outputs": [
        {
          "output_type": "stream",
          "name": "stdout",
          "text": [
            "<class 'pandas.core.frame.DataFrame'>\n",
            "Index: 4 entries, Stockholm to Paris\n",
            "Data columns (total 2 columns):\n",
            " #   Column      Non-Null Count  Dtype \n",
            "---  ------      --------------  ----- \n",
            " 0   Population  4 non-null      int64 \n",
            " 1   State       4 non-null      object\n",
            "dtypes: int64(1), object(1)\n",
            "memory usage: 268.0+ bytes\n"
          ]
        }
      ],
      "source": [
        "df.info()"
      ]
    },
    {
      "cell_type": "code",
      "execution_count": 27,
      "id": "2f63c893",
      "metadata": {
        "colab": {
          "base_uri": "https://localhost:8080/"
        },
        "id": "2f63c893",
        "outputId": "9cccef63-9267-4699-d211-a617471b333e"
      },
      "outputs": [
        {
          "output_type": "execute_result",
          "data": {
            "text/plain": [
              "Population     int64\n",
              "State         object\n",
              "dtype: object"
            ]
          },
          "metadata": {},
          "execution_count": 27
        }
      ],
      "source": [
        "df.dtypes  # 데이터 유형 요약"
      ]
    },
    {
      "cell_type": "code",
      "execution_count": 28,
      "id": "3078f685",
      "metadata": {
        "colab": {
          "base_uri": "https://localhost:8080/"
        },
        "id": "3078f685",
        "outputId": "90d9899b-c80d-4d55-abfd-487c50865ca4"
      },
      "outputs": [
        {
          "output_type": "stream",
          "name": "stdout",
          "text": [
            "Rank,City,State,Population,Date of census\r\n",
            "1,Berlin,Germany,\"3,664,088\",31-Dec-20\r\n",
            "2,Madrid,Spain,\"3,305,408\",01-Jan-21\r\n",
            "3,Rome,Italy,\"2,770,226\",01-Jan-21\r\n",
            "4,Bucharest,Romania,\"2,161,347\",01-Jul-21\r\n"
          ]
        }
      ],
      "source": [
        "!head -n 5 european_cities.csv"
      ]
    },
    {
      "cell_type": "code",
      "execution_count": 28,
      "id": "cb537715",
      "metadata": {
        "id": "cb537715"
      },
      "outputs": [],
      "source": [
        ""
      ]
    },
    {
      "cell_type": "code",
      "execution_count": 28,
      "id": "b3312d44",
      "metadata": {
        "id": "b3312d44"
      },
      "outputs": [],
      "source": [
        ""
      ]
    },
    {
      "cell_type": "code",
      "execution_count": 28,
      "id": "a69e2142",
      "metadata": {
        "id": "a69e2142"
      },
      "outputs": [],
      "source": [
        ""
      ]
    },
    {
      "cell_type": "code",
      "execution_count": 28,
      "id": "11c3fe71",
      "metadata": {
        "id": "11c3fe71"
      },
      "outputs": [],
      "source": [
        ""
      ]
    },
    {
      "cell_type": "code",
      "execution_count": 28,
      "id": "f3948112",
      "metadata": {
        "id": "f3948112"
      },
      "outputs": [],
      "source": [
        ""
      ]
    },
    {
      "cell_type": "markdown",
      "id": "77d95d43",
      "metadata": {
        "id": "77d95d43"
      },
      "source": [
        "## 4. 시계열\n",
        ": 일정 시간 간격으로 주어지는 데이터 유형\n",
        "- 일반적인 날짜, 시간, 주기 및 캘린더 작업 수행 가능"
      ]
    },
    {
      "cell_type": "markdown",
      "id": "c18cc203",
      "metadata": {
        "id": "c18cc203"
      },
      "source": [
        "### DatetimeIndex \n",
        "- date_range"
      ]
    },
    {
      "cell_type": "code",
      "execution_count": 29,
      "id": "87460c9e",
      "metadata": {
        "colab": {
          "base_uri": "https://localhost:8080/"
        },
        "id": "87460c9e",
        "outputId": "e9eb8911-db9c-4602-c1b0-ed44c7cf42ac"
      },
      "outputs": [
        {
          "output_type": "execute_result",
          "data": {
            "text/plain": [
              "DatetimeIndex(['2015-01-01', '2015-01-02', '2015-01-03', '2015-01-04',\n",
              "               '2015-01-05', '2015-01-06', '2015-01-07', '2015-01-08',\n",
              "               '2015-01-09', '2015-01-10', '2015-01-11', '2015-01-12',\n",
              "               '2015-01-13', '2015-01-14', '2015-01-15', '2015-01-16',\n",
              "               '2015-01-17', '2015-01-18', '2015-01-19', '2015-01-20',\n",
              "               '2015-01-21', '2015-01-22', '2015-01-23', '2015-01-24',\n",
              "               '2015-01-25', '2015-01-26', '2015-01-27', '2015-01-28',\n",
              "               '2015-01-29', '2015-01-30', '2015-01-31'],\n",
              "              dtype='datetime64[ns]', freq='D')"
            ]
          },
          "metadata": {},
          "execution_count": 29
        }
      ],
      "source": [
        "pd.date_range(\"2015-1-1\", periods=31)\n",
        "#(시작점, 원소 개수)"
      ]
    },
    {
      "cell_type": "markdown",
      "id": "e71806af",
      "metadata": {
        "id": "e71806af"
      },
      "source": [
        "#### ↑  \n",
        "freq: 시점의 빈도 (기본값=하루)"
      ]
    },
    {
      "cell_type": "code",
      "execution_count": 30,
      "id": "8d07df50",
      "metadata": {
        "colab": {
          "base_uri": "https://localhost:8080/"
        },
        "id": "8d07df50",
        "outputId": "3c0cfb30-4b3e-4d51-920c-c3ed88acad05"
      },
      "outputs": [
        {
          "output_type": "execute_result",
          "data": {
            "text/plain": [
              "DatetimeIndex(['2015-01-01 00:00:00', '2015-01-01 01:00:00',\n",
              "               '2015-01-01 02:00:00', '2015-01-01 03:00:00',\n",
              "               '2015-01-01 04:00:00', '2015-01-01 05:00:00',\n",
              "               '2015-01-01 06:00:00', '2015-01-01 07:00:00',\n",
              "               '2015-01-01 08:00:00', '2015-01-01 09:00:00',\n",
              "               '2015-01-01 10:00:00', '2015-01-01 11:00:00',\n",
              "               '2015-01-01 12:00:00'],\n",
              "              dtype='datetime64[ns]', freq='H')"
            ]
          },
          "metadata": {},
          "execution_count": 30
        }
      ],
      "source": [
        "pd.date_range(\"2015-1-1 00:00\", \"2015-1-1 12:00\", freq=\"H\")\n",
        "#(시작점, 종료점, freq)"
      ]
    },
    {
      "cell_type": "markdown",
      "id": "e0da32c9",
      "metadata": {
        "id": "e0da32c9"
      },
      "source": [
        "#### 배열화 - series"
      ]
    },
    {
      "cell_type": "code",
      "execution_count": 31,
      "id": "6f641b22",
      "metadata": {
        "colab": {
          "base_uri": "https://localhost:8080/"
        },
        "id": "6f641b22",
        "outputId": "612a38a9-29b5-4141-81b5-e7fa5ffead70"
      },
      "outputs": [
        {
          "output_type": "execute_result",
          "data": {
            "text/plain": [
              "2015-01-01    0\n",
              "2015-01-02    1\n",
              "2015-01-03    2\n",
              "2015-01-04    3\n",
              "2015-01-05    4\n",
              "Freq: D, dtype: int64"
            ]
          },
          "metadata": {},
          "execution_count": 31
        }
      ],
      "source": [
        "ts1 = pd.Series(np.arange(31), index=pd.date_range(\"2015-1-1\", periods=31))\n",
        "ts1.head()"
      ]
    },
    {
      "cell_type": "markdown",
      "id": "c7918f57",
      "metadata": {
        "id": "c7918f57"
      },
      "source": [
        "#### 인덱싱"
      ]
    },
    {
      "cell_type": "code",
      "execution_count": 32,
      "id": "6bdd8acf",
      "metadata": {
        "colab": {
          "base_uri": "https://localhost:8080/"
        },
        "id": "6bdd8acf",
        "outputId": "bd5a2e8c-1ef5-43f0-b255-594d1b325d53"
      },
      "outputs": [
        {
          "output_type": "execute_result",
          "data": {
            "text/plain": [
              "2"
            ]
          },
          "metadata": {},
          "execution_count": 32
        }
      ],
      "source": [
        "ts1[\"2015-1-3\"]"
      ]
    },
    {
      "cell_type": "code",
      "execution_count": 33,
      "id": "be131702",
      "metadata": {
        "colab": {
          "base_uri": "https://localhost:8080/"
        },
        "id": "be131702",
        "outputId": "c94a39e3-f090-4065-a240-e107b61892e3"
      },
      "outputs": [
        {
          "output_type": "execute_result",
          "data": {
            "text/plain": [
              "Timestamp('2015-01-03 00:00:00', freq='D')"
            ]
          },
          "metadata": {},
          "execution_count": 33
        }
      ],
      "source": [
        "ts1.index[2]"
      ]
    },
    {
      "cell_type": "markdown",
      "id": "8e84c2e1",
      "metadata": {
        "id": "8e84c2e1"
      },
      "source": [
        "#### Timestamp (정수형)"
      ]
    },
    {
      "cell_type": "code",
      "execution_count": 34,
      "id": "ef3c553c",
      "metadata": {
        "colab": {
          "base_uri": "https://localhost:8080/"
        },
        "id": "ef3c553c",
        "outputId": "265125bb-1ab8-45ea-911b-265d017dce58"
      },
      "outputs": [
        {
          "output_type": "execute_result",
          "data": {
            "text/plain": [
              "(2015, 1, 3)"
            ]
          },
          "metadata": {},
          "execution_count": 34
        }
      ],
      "source": [
        "ts1.index[2].year, ts1.index[2].month, ts1.index[2].day"
      ]
    },
    {
      "cell_type": "code",
      "execution_count": 35,
      "id": "e67a4bca",
      "metadata": {
        "colab": {
          "base_uri": "https://localhost:8080/"
        },
        "id": "e67a4bca",
        "outputId": "4e3508a5-812d-4b14-c730-3adb8d5ba624"
      },
      "outputs": [
        {
          "output_type": "execute_result",
          "data": {
            "text/plain": [
              "0"
            ]
          },
          "metadata": {},
          "execution_count": 35
        }
      ],
      "source": [
        "ts1.index[2].nanosecond"
      ]
    },
    {
      "cell_type": "markdown",
      "id": "2c9310ef",
      "metadata": {
        "id": "2c9310ef"
      },
      "source": [
        "#### Datetime (문자형)\n",
        "- pydatetime(): Timestamp --> Datetime"
      ]
    },
    {
      "cell_type": "code",
      "execution_count": 36,
      "id": "05d2c95e",
      "metadata": {
        "colab": {
          "base_uri": "https://localhost:8080/"
        },
        "id": "05d2c95e",
        "outputId": "465cd659-936b-4203-e98b-2bb246b49d77"
      },
      "outputs": [
        {
          "output_type": "execute_result",
          "data": {
            "text/plain": [
              "datetime.datetime(2015, 1, 3, 0, 0)"
            ]
          },
          "metadata": {},
          "execution_count": 36
        }
      ],
      "source": [
        "ts1.index[2].to_pydatetime()"
      ]
    },
    {
      "cell_type": "markdown",
      "id": "2965c2bb",
      "metadata": {
        "id": "2965c2bb"
      },
      "source": [
        "- 시계열 랜덤 생성"
      ]
    },
    {
      "cell_type": "code",
      "execution_count": 37,
      "id": "e8877969",
      "metadata": {
        "colab": {
          "base_uri": "https://localhost:8080/"
        },
        "id": "e8877969",
        "outputId": "5252f122-5bbf-48d1-d936-3a3a54d536ad"
      },
      "outputs": [
        {
          "output_type": "execute_result",
          "data": {
            "text/plain": [
              "2015-01-01    0.665891\n",
              "2015-02-01    0.898646\n",
              "dtype: float64"
            ]
          },
          "metadata": {},
          "execution_count": 37
        }
      ],
      "source": [
        "import datetime\n",
        "ts2 = pd.Series(np.random.rand(2), index=[datetime.datetime(2015, 1, 1), datetime.datetime(2015, 2, 1)])\n",
        "ts2"
      ]
    },
    {
      "cell_type": "markdown",
      "id": "281c7a81",
      "metadata": {
        "id": "281c7a81"
      },
      "source": [
        "### PeriodIndex "
      ]
    },
    {
      "cell_type": "code",
      "execution_count": 38,
      "id": "7d35d6c3",
      "metadata": {
        "id": "7d35d6c3"
      },
      "outputs": [],
      "source": [
        "periods = pd.PeriodIndex([pd.Period('2015-01'),\n",
        "                         pd.Period('2015-02'),\n",
        "                         pd.Period('2015-03')])"
      ]
    },
    {
      "cell_type": "markdown",
      "id": "7b6c0f26",
      "metadata": {
        "id": "7b6c0f26"
      },
      "source": [
        "#### 배열화 - series"
      ]
    },
    {
      "cell_type": "code",
      "execution_count": 39,
      "id": "adfea06e",
      "metadata": {
        "colab": {
          "base_uri": "https://localhost:8080/"
        },
        "id": "adfea06e",
        "outputId": "d96c8dc0-03f8-4d31-b0cc-c84132b3aec7"
      },
      "outputs": [
        {
          "output_type": "execute_result",
          "data": {
            "text/plain": [
              "2015-01    0.419314\n",
              "2015-02    0.098501\n",
              "2015-03    0.663201\n",
              "Freq: M, dtype: float64"
            ]
          },
          "metadata": {},
          "execution_count": 39
        }
      ],
      "source": [
        "ts3 = pd.Series(np.random.rand(3), index=periods)\n",
        "ts3"
      ]
    },
    {
      "cell_type": "code",
      "execution_count": 40,
      "id": "7608faae",
      "metadata": {
        "colab": {
          "base_uri": "https://localhost:8080/"
        },
        "id": "7608faae",
        "outputId": "cb9ca255-1279-44fe-c011-1891a699a685"
      },
      "outputs": [
        {
          "output_type": "execute_result",
          "data": {
            "text/plain": [
              "PeriodIndex(['2015-01', '2015-02', '2015-03'], dtype='period[M]')"
            ]
          },
          "metadata": {},
          "execution_count": 40
        }
      ],
      "source": [
        "ts3.index"
      ]
    },
    {
      "cell_type": "markdown",
      "id": "c9b70153",
      "metadata": {
        "id": "c9b70153"
      },
      "source": [
        "###  DatetimeIndex → PeriodIndex\n",
        "- to_period('주기 빈도')"
      ]
    },
    {
      "cell_type": "code",
      "execution_count": 41,
      "id": "ec8b3810",
      "metadata": {
        "colab": {
          "base_uri": "https://localhost:8080/"
        },
        "id": "ec8b3810",
        "outputId": "5d1a90a4-fdbe-405d-955d-76a624eee69b"
      },
      "outputs": [
        {
          "output_type": "execute_result",
          "data": {
            "text/plain": [
              "2015-01    0.665891\n",
              "2015-02    0.898646\n",
              "Freq: M, dtype: float64"
            ]
          },
          "metadata": {},
          "execution_count": 41
        }
      ],
      "source": [
        "ts2.to_period('M')"
      ]
    },
    {
      "cell_type": "markdown",
      "id": "c1be1e37",
      "metadata": {
        "id": "c1be1e37"
      },
      "source": [
        "## 5. 시계열 예제"
      ]
    },
    {
      "cell_type": "code",
      "execution_count": 42,
      "id": "8a0dfa39",
      "metadata": {
        "colab": {
          "base_uri": "https://localhost:8080/"
        },
        "id": "8a0dfa39",
        "outputId": "63e488ad-5deb-4d48-c93f-6fd72135324f"
      },
      "outputs": [
        {
          "output_type": "stream",
          "name": "stdout",
          "text": [
            "1388530986\t4.380000\n",
            "1388531586\t4.250000\n",
            "1388532187\t4.190000\n",
            "1388532787\t4.060000\n",
            "1388533388\t4.060000\n"
          ]
        }
      ],
      "source": [
        "!head -n 5 temperature_outdoor_2014.tsv"
      ]
    },
    {
      "cell_type": "markdown",
      "id": "c0264197",
      "metadata": {
        "id": "c0264197"
      },
      "source": [
        "- read_csv  \n",
        ": tsv 파일을 탭 단위로 끊으면 read_csv 명령어로 읽기 가능"
      ]
    },
    {
      "cell_type": "code",
      "execution_count": 43,
      "id": "91218371",
      "metadata": {
        "id": "91218371"
      },
      "outputs": [],
      "source": [
        "df1 = pd.read_csv('temperature_outdoor_2014.tsv', delimiter=\"\\t\",\n",
        "                 names=[\"time\", \"outdoor\"])\n",
        "df2 = pd.read_csv('temperature_indoor_2014.tsv', delimiter=\"\\t\",\n",
        "                 names=[\"time\", \"indoor\"])"
      ]
    },
    {
      "cell_type": "code",
      "execution_count": 44,
      "id": "500b7309",
      "metadata": {
        "colab": {
          "base_uri": "https://localhost:8080/",
          "height": 206
        },
        "id": "500b7309",
        "outputId": "4a546fb7-5810-41f8-ce45-68277a319036"
      },
      "outputs": [
        {
          "output_type": "execute_result",
          "data": {
            "text/plain": [
              "         time  outdoor\n",
              "0  1388530986     4.38\n",
              "1  1388531586     4.25\n",
              "2  1388532187     4.19\n",
              "3  1388532787     4.06\n",
              "4  1388533388     4.06"
            ],
            "text/html": [
              "\n",
              "  <div id=\"df-f06e5ee8-ec68-46d3-aa83-de36f0e4b789\">\n",
              "    <div class=\"colab-df-container\">\n",
              "      <div>\n",
              "<style scoped>\n",
              "    .dataframe tbody tr th:only-of-type {\n",
              "        vertical-align: middle;\n",
              "    }\n",
              "\n",
              "    .dataframe tbody tr th {\n",
              "        vertical-align: top;\n",
              "    }\n",
              "\n",
              "    .dataframe thead th {\n",
              "        text-align: right;\n",
              "    }\n",
              "</style>\n",
              "<table border=\"1\" class=\"dataframe\">\n",
              "  <thead>\n",
              "    <tr style=\"text-align: right;\">\n",
              "      <th></th>\n",
              "      <th>time</th>\n",
              "      <th>outdoor</th>\n",
              "    </tr>\n",
              "  </thead>\n",
              "  <tbody>\n",
              "    <tr>\n",
              "      <th>0</th>\n",
              "      <td>1388530986</td>\n",
              "      <td>4.38</td>\n",
              "    </tr>\n",
              "    <tr>\n",
              "      <th>1</th>\n",
              "      <td>1388531586</td>\n",
              "      <td>4.25</td>\n",
              "    </tr>\n",
              "    <tr>\n",
              "      <th>2</th>\n",
              "      <td>1388532187</td>\n",
              "      <td>4.19</td>\n",
              "    </tr>\n",
              "    <tr>\n",
              "      <th>3</th>\n",
              "      <td>1388532787</td>\n",
              "      <td>4.06</td>\n",
              "    </tr>\n",
              "    <tr>\n",
              "      <th>4</th>\n",
              "      <td>1388533388</td>\n",
              "      <td>4.06</td>\n",
              "    </tr>\n",
              "  </tbody>\n",
              "</table>\n",
              "</div>\n",
              "      <button class=\"colab-df-convert\" onclick=\"convertToInteractive('df-f06e5ee8-ec68-46d3-aa83-de36f0e4b789')\"\n",
              "              title=\"Convert this dataframe to an interactive table.\"\n",
              "              style=\"display:none;\">\n",
              "        \n",
              "  <svg xmlns=\"http://www.w3.org/2000/svg\" height=\"24px\"viewBox=\"0 0 24 24\"\n",
              "       width=\"24px\">\n",
              "    <path d=\"M0 0h24v24H0V0z\" fill=\"none\"/>\n",
              "    <path d=\"M18.56 5.44l.94 2.06.94-2.06 2.06-.94-2.06-.94-.94-2.06-.94 2.06-2.06.94zm-11 1L8.5 8.5l.94-2.06 2.06-.94-2.06-.94L8.5 2.5l-.94 2.06-2.06.94zm10 10l.94 2.06.94-2.06 2.06-.94-2.06-.94-.94-2.06-.94 2.06-2.06.94z\"/><path d=\"M17.41 7.96l-1.37-1.37c-.4-.4-.92-.59-1.43-.59-.52 0-1.04.2-1.43.59L10.3 9.45l-7.72 7.72c-.78.78-.78 2.05 0 2.83L4 21.41c.39.39.9.59 1.41.59.51 0 1.02-.2 1.41-.59l7.78-7.78 2.81-2.81c.8-.78.8-2.07 0-2.86zM5.41 20L4 18.59l7.72-7.72 1.47 1.35L5.41 20z\"/>\n",
              "  </svg>\n",
              "      </button>\n",
              "      \n",
              "  <style>\n",
              "    .colab-df-container {\n",
              "      display:flex;\n",
              "      flex-wrap:wrap;\n",
              "      gap: 12px;\n",
              "    }\n",
              "\n",
              "    .colab-df-convert {\n",
              "      background-color: #E8F0FE;\n",
              "      border: none;\n",
              "      border-radius: 50%;\n",
              "      cursor: pointer;\n",
              "      display: none;\n",
              "      fill: #1967D2;\n",
              "      height: 32px;\n",
              "      padding: 0 0 0 0;\n",
              "      width: 32px;\n",
              "    }\n",
              "\n",
              "    .colab-df-convert:hover {\n",
              "      background-color: #E2EBFA;\n",
              "      box-shadow: 0px 1px 2px rgba(60, 64, 67, 0.3), 0px 1px 3px 1px rgba(60, 64, 67, 0.15);\n",
              "      fill: #174EA6;\n",
              "    }\n",
              "\n",
              "    [theme=dark] .colab-df-convert {\n",
              "      background-color: #3B4455;\n",
              "      fill: #D2E3FC;\n",
              "    }\n",
              "\n",
              "    [theme=dark] .colab-df-convert:hover {\n",
              "      background-color: #434B5C;\n",
              "      box-shadow: 0px 1px 3px 1px rgba(0, 0, 0, 0.15);\n",
              "      filter: drop-shadow(0px 1px 2px rgba(0, 0, 0, 0.3));\n",
              "      fill: #FFFFFF;\n",
              "    }\n",
              "  </style>\n",
              "\n",
              "      <script>\n",
              "        const buttonEl =\n",
              "          document.querySelector('#df-f06e5ee8-ec68-46d3-aa83-de36f0e4b789 button.colab-df-convert');\n",
              "        buttonEl.style.display =\n",
              "          google.colab.kernel.accessAllowed ? 'block' : 'none';\n",
              "\n",
              "        async function convertToInteractive(key) {\n",
              "          const element = document.querySelector('#df-f06e5ee8-ec68-46d3-aa83-de36f0e4b789');\n",
              "          const dataTable =\n",
              "            await google.colab.kernel.invokeFunction('convertToInteractive',\n",
              "                                                     [key], {});\n",
              "          if (!dataTable) return;\n",
              "\n",
              "          const docLinkHtml = 'Like what you see? Visit the ' +\n",
              "            '<a target=\"_blank\" href=https://colab.research.google.com/notebooks/data_table.ipynb>data table notebook</a>'\n",
              "            + ' to learn more about interactive tables.';\n",
              "          element.innerHTML = '';\n",
              "          dataTable['output_type'] = 'display_data';\n",
              "          await google.colab.output.renderOutput(dataTable, element);\n",
              "          const docLink = document.createElement('div');\n",
              "          docLink.innerHTML = docLinkHtml;\n",
              "          element.appendChild(docLink);\n",
              "        }\n",
              "      </script>\n",
              "    </div>\n",
              "  </div>\n",
              "  "
            ]
          },
          "metadata": {},
          "execution_count": 44
        }
      ],
      "source": [
        "df1.head()"
      ]
    },
    {
      "cell_type": "code",
      "execution_count": 45,
      "id": "65005347",
      "metadata": {
        "colab": {
          "base_uri": "https://localhost:8080/",
          "height": 206
        },
        "id": "65005347",
        "outputId": "364d0875-ba31-4251-ac9d-35b153421af9"
      },
      "outputs": [
        {
          "output_type": "execute_result",
          "data": {
            "text/plain": [
              "         time  indoor\n",
              "0  1388530986   21.94\n",
              "1  1388531586   22.00\n",
              "2  1388532187   22.00\n",
              "3  1388532787   22.00\n",
              "4  1388533388   22.00"
            ],
            "text/html": [
              "\n",
              "  <div id=\"df-f1244095-3a1b-43f5-80f0-6a7b969022af\">\n",
              "    <div class=\"colab-df-container\">\n",
              "      <div>\n",
              "<style scoped>\n",
              "    .dataframe tbody tr th:only-of-type {\n",
              "        vertical-align: middle;\n",
              "    }\n",
              "\n",
              "    .dataframe tbody tr th {\n",
              "        vertical-align: top;\n",
              "    }\n",
              "\n",
              "    .dataframe thead th {\n",
              "        text-align: right;\n",
              "    }\n",
              "</style>\n",
              "<table border=\"1\" class=\"dataframe\">\n",
              "  <thead>\n",
              "    <tr style=\"text-align: right;\">\n",
              "      <th></th>\n",
              "      <th>time</th>\n",
              "      <th>indoor</th>\n",
              "    </tr>\n",
              "  </thead>\n",
              "  <tbody>\n",
              "    <tr>\n",
              "      <th>0</th>\n",
              "      <td>1388530986</td>\n",
              "      <td>21.94</td>\n",
              "    </tr>\n",
              "    <tr>\n",
              "      <th>1</th>\n",
              "      <td>1388531586</td>\n",
              "      <td>22.00</td>\n",
              "    </tr>\n",
              "    <tr>\n",
              "      <th>2</th>\n",
              "      <td>1388532187</td>\n",
              "      <td>22.00</td>\n",
              "    </tr>\n",
              "    <tr>\n",
              "      <th>3</th>\n",
              "      <td>1388532787</td>\n",
              "      <td>22.00</td>\n",
              "    </tr>\n",
              "    <tr>\n",
              "      <th>4</th>\n",
              "      <td>1388533388</td>\n",
              "      <td>22.00</td>\n",
              "    </tr>\n",
              "  </tbody>\n",
              "</table>\n",
              "</div>\n",
              "      <button class=\"colab-df-convert\" onclick=\"convertToInteractive('df-f1244095-3a1b-43f5-80f0-6a7b969022af')\"\n",
              "              title=\"Convert this dataframe to an interactive table.\"\n",
              "              style=\"display:none;\">\n",
              "        \n",
              "  <svg xmlns=\"http://www.w3.org/2000/svg\" height=\"24px\"viewBox=\"0 0 24 24\"\n",
              "       width=\"24px\">\n",
              "    <path d=\"M0 0h24v24H0V0z\" fill=\"none\"/>\n",
              "    <path d=\"M18.56 5.44l.94 2.06.94-2.06 2.06-.94-2.06-.94-.94-2.06-.94 2.06-2.06.94zm-11 1L8.5 8.5l.94-2.06 2.06-.94-2.06-.94L8.5 2.5l-.94 2.06-2.06.94zm10 10l.94 2.06.94-2.06 2.06-.94-2.06-.94-.94-2.06-.94 2.06-2.06.94z\"/><path d=\"M17.41 7.96l-1.37-1.37c-.4-.4-.92-.59-1.43-.59-.52 0-1.04.2-1.43.59L10.3 9.45l-7.72 7.72c-.78.78-.78 2.05 0 2.83L4 21.41c.39.39.9.59 1.41.59.51 0 1.02-.2 1.41-.59l7.78-7.78 2.81-2.81c.8-.78.8-2.07 0-2.86zM5.41 20L4 18.59l7.72-7.72 1.47 1.35L5.41 20z\"/>\n",
              "  </svg>\n",
              "      </button>\n",
              "      \n",
              "  <style>\n",
              "    .colab-df-container {\n",
              "      display:flex;\n",
              "      flex-wrap:wrap;\n",
              "      gap: 12px;\n",
              "    }\n",
              "\n",
              "    .colab-df-convert {\n",
              "      background-color: #E8F0FE;\n",
              "      border: none;\n",
              "      border-radius: 50%;\n",
              "      cursor: pointer;\n",
              "      display: none;\n",
              "      fill: #1967D2;\n",
              "      height: 32px;\n",
              "      padding: 0 0 0 0;\n",
              "      width: 32px;\n",
              "    }\n",
              "\n",
              "    .colab-df-convert:hover {\n",
              "      background-color: #E2EBFA;\n",
              "      box-shadow: 0px 1px 2px rgba(60, 64, 67, 0.3), 0px 1px 3px 1px rgba(60, 64, 67, 0.15);\n",
              "      fill: #174EA6;\n",
              "    }\n",
              "\n",
              "    [theme=dark] .colab-df-convert {\n",
              "      background-color: #3B4455;\n",
              "      fill: #D2E3FC;\n",
              "    }\n",
              "\n",
              "    [theme=dark] .colab-df-convert:hover {\n",
              "      background-color: #434B5C;\n",
              "      box-shadow: 0px 1px 3px 1px rgba(0, 0, 0, 0.15);\n",
              "      filter: drop-shadow(0px 1px 2px rgba(0, 0, 0, 0.3));\n",
              "      fill: #FFFFFF;\n",
              "    }\n",
              "  </style>\n",
              "\n",
              "      <script>\n",
              "        const buttonEl =\n",
              "          document.querySelector('#df-f1244095-3a1b-43f5-80f0-6a7b969022af button.colab-df-convert');\n",
              "        buttonEl.style.display =\n",
              "          google.colab.kernel.accessAllowed ? 'block' : 'none';\n",
              "\n",
              "        async function convertToInteractive(key) {\n",
              "          const element = document.querySelector('#df-f1244095-3a1b-43f5-80f0-6a7b969022af');\n",
              "          const dataTable =\n",
              "            await google.colab.kernel.invokeFunction('convertToInteractive',\n",
              "                                                     [key], {});\n",
              "          if (!dataTable) return;\n",
              "\n",
              "          const docLinkHtml = 'Like what you see? Visit the ' +\n",
              "            '<a target=\"_blank\" href=https://colab.research.google.com/notebooks/data_table.ipynb>data table notebook</a>'\n",
              "            + ' to learn more about interactive tables.';\n",
              "          element.innerHTML = '';\n",
              "          dataTable['output_type'] = 'display_data';\n",
              "          await google.colab.output.renderOutput(dataTable, element);\n",
              "          const docLink = document.createElement('div');\n",
              "          docLink.innerHTML = docLinkHtml;\n",
              "          element.appendChild(docLink);\n",
              "        }\n",
              "      </script>\n",
              "    </div>\n",
              "  </div>\n",
              "  "
            ]
          },
          "metadata": {},
          "execution_count": 45
        }
      ],
      "source": [
        "df2.head()"
      ]
    },
    {
      "cell_type": "markdown",
      "id": "606afb05",
      "metadata": {
        "id": "606afb05"
      },
      "source": [
        "### 의미있는 시계열 데이터 표현\n",
        "- to_datetime  \n",
        ": UNIX 시간을 날짜 및 시간 객체로 변환\n",
        "- tz_localize  \n",
        ": timestamp를 지역화\n",
        "- tz_convert  \n",
        ": 시간대 속성을 Europe/Stockholm으로 변환"
      ]
    },
    {
      "cell_type": "code",
      "execution_count": 46,
      "id": "9a40d322",
      "metadata": {
        "id": "9a40d322"
      },
      "outputs": [],
      "source": [
        "df1.time = (pd.to_datetime(df1.time.values, unit=\"s\")\n",
        "           .tz_localize('UTC').tz_convert('Europe/Stockholm'))\n",
        "df2.time = (pd.to_datetime(df2.time.values, unit=\"s\")\n",
        "           .tz_localize('UTC').tz_convert('Europe/Stockholm'))"
      ]
    },
    {
      "cell_type": "markdown",
      "id": "a1e2be27",
      "metadata": {
        "id": "a1e2be27"
      },
      "source": [
        "- set_index  \n",
        ": 시간 열을 인덱스로 설정"
      ]
    },
    {
      "cell_type": "code",
      "execution_count": 47,
      "id": "261c58f7",
      "metadata": {
        "id": "261c58f7"
      },
      "outputs": [],
      "source": [
        "df1 = df1.set_index(\"time\")\n",
        "df2 = df2.set_index(\"time\")"
      ]
    },
    {
      "cell_type": "code",
      "execution_count": 48,
      "id": "ee17edfc",
      "metadata": {
        "colab": {
          "base_uri": "https://localhost:8080/",
          "height": 0
        },
        "id": "ee17edfc",
        "outputId": "83fdb494-d851-40f4-edc6-5848b7ce3bca"
      },
      "outputs": [
        {
          "output_type": "execute_result",
          "data": {
            "text/plain": [
              "                           outdoor\n",
              "time                              \n",
              "2014-01-01 00:03:06+01:00     4.38\n",
              "2014-01-01 00:13:06+01:00     4.25\n",
              "2014-01-01 00:23:07+01:00     4.19\n",
              "2014-01-01 00:33:07+01:00     4.06\n",
              "2014-01-01 00:43:08+01:00     4.06"
            ],
            "text/html": [
              "\n",
              "  <div id=\"df-b511757a-39d3-4aaa-8de5-cf1d3e9f883e\">\n",
              "    <div class=\"colab-df-container\">\n",
              "      <div>\n",
              "<style scoped>\n",
              "    .dataframe tbody tr th:only-of-type {\n",
              "        vertical-align: middle;\n",
              "    }\n",
              "\n",
              "    .dataframe tbody tr th {\n",
              "        vertical-align: top;\n",
              "    }\n",
              "\n",
              "    .dataframe thead th {\n",
              "        text-align: right;\n",
              "    }\n",
              "</style>\n",
              "<table border=\"1\" class=\"dataframe\">\n",
              "  <thead>\n",
              "    <tr style=\"text-align: right;\">\n",
              "      <th></th>\n",
              "      <th>outdoor</th>\n",
              "    </tr>\n",
              "    <tr>\n",
              "      <th>time</th>\n",
              "      <th></th>\n",
              "    </tr>\n",
              "  </thead>\n",
              "  <tbody>\n",
              "    <tr>\n",
              "      <th>2014-01-01 00:03:06+01:00</th>\n",
              "      <td>4.38</td>\n",
              "    </tr>\n",
              "    <tr>\n",
              "      <th>2014-01-01 00:13:06+01:00</th>\n",
              "      <td>4.25</td>\n",
              "    </tr>\n",
              "    <tr>\n",
              "      <th>2014-01-01 00:23:07+01:00</th>\n",
              "      <td>4.19</td>\n",
              "    </tr>\n",
              "    <tr>\n",
              "      <th>2014-01-01 00:33:07+01:00</th>\n",
              "      <td>4.06</td>\n",
              "    </tr>\n",
              "    <tr>\n",
              "      <th>2014-01-01 00:43:08+01:00</th>\n",
              "      <td>4.06</td>\n",
              "    </tr>\n",
              "  </tbody>\n",
              "</table>\n",
              "</div>\n",
              "      <button class=\"colab-df-convert\" onclick=\"convertToInteractive('df-b511757a-39d3-4aaa-8de5-cf1d3e9f883e')\"\n",
              "              title=\"Convert this dataframe to an interactive table.\"\n",
              "              style=\"display:none;\">\n",
              "        \n",
              "  <svg xmlns=\"http://www.w3.org/2000/svg\" height=\"24px\"viewBox=\"0 0 24 24\"\n",
              "       width=\"24px\">\n",
              "    <path d=\"M0 0h24v24H0V0z\" fill=\"none\"/>\n",
              "    <path d=\"M18.56 5.44l.94 2.06.94-2.06 2.06-.94-2.06-.94-.94-2.06-.94 2.06-2.06.94zm-11 1L8.5 8.5l.94-2.06 2.06-.94-2.06-.94L8.5 2.5l-.94 2.06-2.06.94zm10 10l.94 2.06.94-2.06 2.06-.94-2.06-.94-.94-2.06-.94 2.06-2.06.94z\"/><path d=\"M17.41 7.96l-1.37-1.37c-.4-.4-.92-.59-1.43-.59-.52 0-1.04.2-1.43.59L10.3 9.45l-7.72 7.72c-.78.78-.78 2.05 0 2.83L4 21.41c.39.39.9.59 1.41.59.51 0 1.02-.2 1.41-.59l7.78-7.78 2.81-2.81c.8-.78.8-2.07 0-2.86zM5.41 20L4 18.59l7.72-7.72 1.47 1.35L5.41 20z\"/>\n",
              "  </svg>\n",
              "      </button>\n",
              "      \n",
              "  <style>\n",
              "    .colab-df-container {\n",
              "      display:flex;\n",
              "      flex-wrap:wrap;\n",
              "      gap: 12px;\n",
              "    }\n",
              "\n",
              "    .colab-df-convert {\n",
              "      background-color: #E8F0FE;\n",
              "      border: none;\n",
              "      border-radius: 50%;\n",
              "      cursor: pointer;\n",
              "      display: none;\n",
              "      fill: #1967D2;\n",
              "      height: 32px;\n",
              "      padding: 0 0 0 0;\n",
              "      width: 32px;\n",
              "    }\n",
              "\n",
              "    .colab-df-convert:hover {\n",
              "      background-color: #E2EBFA;\n",
              "      box-shadow: 0px 1px 2px rgba(60, 64, 67, 0.3), 0px 1px 3px 1px rgba(60, 64, 67, 0.15);\n",
              "      fill: #174EA6;\n",
              "    }\n",
              "\n",
              "    [theme=dark] .colab-df-convert {\n",
              "      background-color: #3B4455;\n",
              "      fill: #D2E3FC;\n",
              "    }\n",
              "\n",
              "    [theme=dark] .colab-df-convert:hover {\n",
              "      background-color: #434B5C;\n",
              "      box-shadow: 0px 1px 3px 1px rgba(0, 0, 0, 0.15);\n",
              "      filter: drop-shadow(0px 1px 2px rgba(0, 0, 0, 0.3));\n",
              "      fill: #FFFFFF;\n",
              "    }\n",
              "  </style>\n",
              "\n",
              "      <script>\n",
              "        const buttonEl =\n",
              "          document.querySelector('#df-b511757a-39d3-4aaa-8de5-cf1d3e9f883e button.colab-df-convert');\n",
              "        buttonEl.style.display =\n",
              "          google.colab.kernel.accessAllowed ? 'block' : 'none';\n",
              "\n",
              "        async function convertToInteractive(key) {\n",
              "          const element = document.querySelector('#df-b511757a-39d3-4aaa-8de5-cf1d3e9f883e');\n",
              "          const dataTable =\n",
              "            await google.colab.kernel.invokeFunction('convertToInteractive',\n",
              "                                                     [key], {});\n",
              "          if (!dataTable) return;\n",
              "\n",
              "          const docLinkHtml = 'Like what you see? Visit the ' +\n",
              "            '<a target=\"_blank\" href=https://colab.research.google.com/notebooks/data_table.ipynb>data table notebook</a>'\n",
              "            + ' to learn more about interactive tables.';\n",
              "          element.innerHTML = '';\n",
              "          dataTable['output_type'] = 'display_data';\n",
              "          await google.colab.output.renderOutput(dataTable, element);\n",
              "          const docLink = document.createElement('div');\n",
              "          docLink.innerHTML = docLinkHtml;\n",
              "          element.appendChild(docLink);\n",
              "        }\n",
              "      </script>\n",
              "    </div>\n",
              "  </div>\n",
              "  "
            ]
          },
          "metadata": {},
          "execution_count": 48
        }
      ],
      "source": [
        "df1.head()"
      ]
    },
    {
      "cell_type": "code",
      "execution_count": 49,
      "id": "de053636",
      "metadata": {
        "colab": {
          "base_uri": "https://localhost:8080/",
          "height": 0
        },
        "id": "de053636",
        "outputId": "8e431c5e-14aa-4308-8a27-fb1860f3928f"
      },
      "outputs": [
        {
          "output_type": "execute_result",
          "data": {
            "text/plain": [
              "                           indoor\n",
              "time                             \n",
              "2014-01-01 00:03:06+01:00   21.94\n",
              "2014-01-01 00:13:06+01:00   22.00\n",
              "2014-01-01 00:23:07+01:00   22.00\n",
              "2014-01-01 00:33:07+01:00   22.00\n",
              "2014-01-01 00:43:08+01:00   22.00"
            ],
            "text/html": [
              "\n",
              "  <div id=\"df-e32dde5b-2fc2-4d13-b07e-3086ca674047\">\n",
              "    <div class=\"colab-df-container\">\n",
              "      <div>\n",
              "<style scoped>\n",
              "    .dataframe tbody tr th:only-of-type {\n",
              "        vertical-align: middle;\n",
              "    }\n",
              "\n",
              "    .dataframe tbody tr th {\n",
              "        vertical-align: top;\n",
              "    }\n",
              "\n",
              "    .dataframe thead th {\n",
              "        text-align: right;\n",
              "    }\n",
              "</style>\n",
              "<table border=\"1\" class=\"dataframe\">\n",
              "  <thead>\n",
              "    <tr style=\"text-align: right;\">\n",
              "      <th></th>\n",
              "      <th>indoor</th>\n",
              "    </tr>\n",
              "    <tr>\n",
              "      <th>time</th>\n",
              "      <th></th>\n",
              "    </tr>\n",
              "  </thead>\n",
              "  <tbody>\n",
              "    <tr>\n",
              "      <th>2014-01-01 00:03:06+01:00</th>\n",
              "      <td>21.94</td>\n",
              "    </tr>\n",
              "    <tr>\n",
              "      <th>2014-01-01 00:13:06+01:00</th>\n",
              "      <td>22.00</td>\n",
              "    </tr>\n",
              "    <tr>\n",
              "      <th>2014-01-01 00:23:07+01:00</th>\n",
              "      <td>22.00</td>\n",
              "    </tr>\n",
              "    <tr>\n",
              "      <th>2014-01-01 00:33:07+01:00</th>\n",
              "      <td>22.00</td>\n",
              "    </tr>\n",
              "    <tr>\n",
              "      <th>2014-01-01 00:43:08+01:00</th>\n",
              "      <td>22.00</td>\n",
              "    </tr>\n",
              "  </tbody>\n",
              "</table>\n",
              "</div>\n",
              "      <button class=\"colab-df-convert\" onclick=\"convertToInteractive('df-e32dde5b-2fc2-4d13-b07e-3086ca674047')\"\n",
              "              title=\"Convert this dataframe to an interactive table.\"\n",
              "              style=\"display:none;\">\n",
              "        \n",
              "  <svg xmlns=\"http://www.w3.org/2000/svg\" height=\"24px\"viewBox=\"0 0 24 24\"\n",
              "       width=\"24px\">\n",
              "    <path d=\"M0 0h24v24H0V0z\" fill=\"none\"/>\n",
              "    <path d=\"M18.56 5.44l.94 2.06.94-2.06 2.06-.94-2.06-.94-.94-2.06-.94 2.06-2.06.94zm-11 1L8.5 8.5l.94-2.06 2.06-.94-2.06-.94L8.5 2.5l-.94 2.06-2.06.94zm10 10l.94 2.06.94-2.06 2.06-.94-2.06-.94-.94-2.06-.94 2.06-2.06.94z\"/><path d=\"M17.41 7.96l-1.37-1.37c-.4-.4-.92-.59-1.43-.59-.52 0-1.04.2-1.43.59L10.3 9.45l-7.72 7.72c-.78.78-.78 2.05 0 2.83L4 21.41c.39.39.9.59 1.41.59.51 0 1.02-.2 1.41-.59l7.78-7.78 2.81-2.81c.8-.78.8-2.07 0-2.86zM5.41 20L4 18.59l7.72-7.72 1.47 1.35L5.41 20z\"/>\n",
              "  </svg>\n",
              "      </button>\n",
              "      \n",
              "  <style>\n",
              "    .colab-df-container {\n",
              "      display:flex;\n",
              "      flex-wrap:wrap;\n",
              "      gap: 12px;\n",
              "    }\n",
              "\n",
              "    .colab-df-convert {\n",
              "      background-color: #E8F0FE;\n",
              "      border: none;\n",
              "      border-radius: 50%;\n",
              "      cursor: pointer;\n",
              "      display: none;\n",
              "      fill: #1967D2;\n",
              "      height: 32px;\n",
              "      padding: 0 0 0 0;\n",
              "      width: 32px;\n",
              "    }\n",
              "\n",
              "    .colab-df-convert:hover {\n",
              "      background-color: #E2EBFA;\n",
              "      box-shadow: 0px 1px 2px rgba(60, 64, 67, 0.3), 0px 1px 3px 1px rgba(60, 64, 67, 0.15);\n",
              "      fill: #174EA6;\n",
              "    }\n",
              "\n",
              "    [theme=dark] .colab-df-convert {\n",
              "      background-color: #3B4455;\n",
              "      fill: #D2E3FC;\n",
              "    }\n",
              "\n",
              "    [theme=dark] .colab-df-convert:hover {\n",
              "      background-color: #434B5C;\n",
              "      box-shadow: 0px 1px 3px 1px rgba(0, 0, 0, 0.15);\n",
              "      filter: drop-shadow(0px 1px 2px rgba(0, 0, 0, 0.3));\n",
              "      fill: #FFFFFF;\n",
              "    }\n",
              "  </style>\n",
              "\n",
              "      <script>\n",
              "        const buttonEl =\n",
              "          document.querySelector('#df-e32dde5b-2fc2-4d13-b07e-3086ca674047 button.colab-df-convert');\n",
              "        buttonEl.style.display =\n",
              "          google.colab.kernel.accessAllowed ? 'block' : 'none';\n",
              "\n",
              "        async function convertToInteractive(key) {\n",
              "          const element = document.querySelector('#df-e32dde5b-2fc2-4d13-b07e-3086ca674047');\n",
              "          const dataTable =\n",
              "            await google.colab.kernel.invokeFunction('convertToInteractive',\n",
              "                                                     [key], {});\n",
              "          if (!dataTable) return;\n",
              "\n",
              "          const docLinkHtml = 'Like what you see? Visit the ' +\n",
              "            '<a target=\"_blank\" href=https://colab.research.google.com/notebooks/data_table.ipynb>data table notebook</a>'\n",
              "            + ' to learn more about interactive tables.';\n",
              "          element.innerHTML = '';\n",
              "          dataTable['output_type'] = 'display_data';\n",
              "          await google.colab.output.renderOutput(dataTable, element);\n",
              "          const docLink = document.createElement('div');\n",
              "          docLink.innerHTML = docLinkHtml;\n",
              "          element.appendChild(docLink);\n",
              "        }\n",
              "      </script>\n",
              "    </div>\n",
              "  </div>\n",
              "  "
            ]
          },
          "metadata": {},
          "execution_count": 49
        }
      ],
      "source": [
        "df2.head()"
      ]
    },
    {
      "cell_type": "code",
      "execution_count": 50,
      "id": "8a925d56",
      "metadata": {
        "colab": {
          "base_uri": "https://localhost:8080/",
          "height": 0
        },
        "id": "8a925d56",
        "outputId": "5cd16170-c93c-4dd0-fe0c-d4eefb4a9773"
      },
      "outputs": [
        {
          "output_type": "execute_result",
          "data": {
            "text/plain": [
              "<matplotlib.axes._subplots.AxesSubplot at 0x7fc7bf10df10>"
            ]
          },
          "metadata": {},
          "execution_count": 50
        },
        {
          "output_type": "stream",
          "name": "stderr",
          "text": [
            "/usr/local/lib/python3.7/dist-packages/matplotlib/backends/backend_agg.py:214: RuntimeWarning: Glyph 45236 missing from current font.\n",
            "  font.set_text(s, 0.0, flags=flags)\n",
            "/usr/local/lib/python3.7/dist-packages/matplotlib/backends/backend_agg.py:214: RuntimeWarning: Glyph 50808 missing from current font.\n",
            "  font.set_text(s, 0.0, flags=flags)\n",
            "/usr/local/lib/python3.7/dist-packages/matplotlib/backends/backend_agg.py:214: RuntimeWarning: Glyph 48512 missing from current font.\n",
            "  font.set_text(s, 0.0, flags=flags)\n",
            "/usr/local/lib/python3.7/dist-packages/matplotlib/backends/backend_agg.py:214: RuntimeWarning: Glyph 50728 missing from current font.\n",
            "  font.set_text(s, 0.0, flags=flags)\n",
            "/usr/local/lib/python3.7/dist-packages/matplotlib/backends/backend_agg.py:214: RuntimeWarning: Glyph 46020 missing from current font.\n",
            "  font.set_text(s, 0.0, flags=flags)\n",
            "/usr/local/lib/python3.7/dist-packages/matplotlib/backends/backend_agg.py:214: RuntimeWarning: Glyph 49884 missing from current font.\n",
            "  font.set_text(s, 0.0, flags=flags)\n",
            "/usr/local/lib/python3.7/dist-packages/matplotlib/backends/backend_agg.py:214: RuntimeWarning: Glyph 44228 missing from current font.\n",
            "  font.set_text(s, 0.0, flags=flags)\n",
            "/usr/local/lib/python3.7/dist-packages/matplotlib/backends/backend_agg.py:214: RuntimeWarning: Glyph 50676 missing from current font.\n",
            "  font.set_text(s, 0.0, flags=flags)\n",
            "/usr/local/lib/python3.7/dist-packages/matplotlib/backends/backend_agg.py:214: RuntimeWarning: Glyph 49885 missing from current font.\n",
            "  font.set_text(s, 0.0, flags=flags)\n",
            "/usr/local/lib/python3.7/dist-packages/matplotlib/backends/backend_agg.py:214: RuntimeWarning: Glyph 54868 missing from current font.\n",
            "  font.set_text(s, 0.0, flags=flags)\n",
            "/usr/local/lib/python3.7/dist-packages/matplotlib/backends/backend_agg.py:183: RuntimeWarning: Glyph 45236 missing from current font.\n",
            "  font.set_text(s, 0, flags=flags)\n",
            "/usr/local/lib/python3.7/dist-packages/matplotlib/backends/backend_agg.py:183: RuntimeWarning: Glyph 50808 missing from current font.\n",
            "  font.set_text(s, 0, flags=flags)\n",
            "/usr/local/lib/python3.7/dist-packages/matplotlib/backends/backend_agg.py:183: RuntimeWarning: Glyph 48512 missing from current font.\n",
            "  font.set_text(s, 0, flags=flags)\n",
            "/usr/local/lib/python3.7/dist-packages/matplotlib/backends/backend_agg.py:183: RuntimeWarning: Glyph 50728 missing from current font.\n",
            "  font.set_text(s, 0, flags=flags)\n",
            "/usr/local/lib/python3.7/dist-packages/matplotlib/backends/backend_agg.py:183: RuntimeWarning: Glyph 46020 missing from current font.\n",
            "  font.set_text(s, 0, flags=flags)\n",
            "/usr/local/lib/python3.7/dist-packages/matplotlib/backends/backend_agg.py:183: RuntimeWarning: Glyph 49884 missing from current font.\n",
            "  font.set_text(s, 0, flags=flags)\n",
            "/usr/local/lib/python3.7/dist-packages/matplotlib/backends/backend_agg.py:183: RuntimeWarning: Glyph 44228 missing from current font.\n",
            "  font.set_text(s, 0, flags=flags)\n",
            "/usr/local/lib/python3.7/dist-packages/matplotlib/backends/backend_agg.py:183: RuntimeWarning: Glyph 50676 missing from current font.\n",
            "  font.set_text(s, 0, flags=flags)\n",
            "/usr/local/lib/python3.7/dist-packages/matplotlib/backends/backend_agg.py:183: RuntimeWarning: Glyph 49885 missing from current font.\n",
            "  font.set_text(s, 0, flags=flags)\n",
            "/usr/local/lib/python3.7/dist-packages/matplotlib/backends/backend_agg.py:183: RuntimeWarning: Glyph 54868 missing from current font.\n",
            "  font.set_text(s, 0, flags=flags)\n"
          ]
        },
        {
          "output_type": "display_data",
          "data": {
            "text/plain": [
              "<Figure size 864x288 with 1 Axes>"
            ],
            "image/png": "[encoded data removed]"
          },
          "metadata": {
            "needs_background": "light"
          }
        }
      ],
      "source": [
        "fig, ax = plt.subplots(1, 1, figsize=(12, 4))\n",
        "ax.set_title(\"내외부 온도 시계열 도식화\")\n",
        "df1.plot(ax=ax)\n",
        "df2.plot(ax=ax)"
      ]
    },
    {
      "cell_type": "markdown",
      "id": "704949a5",
      "metadata": {
        "id": "704949a5"
      },
      "source": [
        "#### info 메서드"
      ]
    },
    {
      "cell_type": "code",
      "execution_count": 51,
      "id": "83424906",
      "metadata": {
        "colab": {
          "base_uri": "https://localhost:8080/"
        },
        "id": "83424906",
        "outputId": "298e00ea-4c19-4c0d-91a7-03073916f978"
      },
      "outputs": [
        {
          "output_type": "stream",
          "name": "stdout",
          "text": [
            "<class 'pandas.core.frame.DataFrame'>\n",
            "DatetimeIndex: 49548 entries, 2014-01-01 00:03:06+01:00 to 2014-12-30 23:56:35+01:00\n",
            "Data columns (total 1 columns):\n",
            " #   Column   Non-Null Count  Dtype  \n",
            "---  ------   --------------  -----  \n",
            " 0   outdoor  49548 non-null  float64\n",
            "dtypes: float64(1)\n",
            "memory usage: 774.2 KB\n"
          ]
        }
      ],
      "source": [
        "df1.info()"
      ]
    },
    {
      "cell_type": "code",
      "execution_count": 52,
      "id": "9818eda2",
      "metadata": {
        "colab": {
          "base_uri": "https://localhost:8080/"
        },
        "id": "9818eda2",
        "outputId": "64b6554f-7af9-4aea-c5fc-758aaeeb59ae"
      },
      "outputs": [
        {
          "output_type": "stream",
          "name": "stdout",
          "text": [
            "<class 'pandas.core.frame.DataFrame'>\n",
            "DatetimeIndex: 49545 entries, 2014-01-01 00:03:06+01:00 to 2014-12-30 23:56:35+01:00\n",
            "Data columns (total 1 columns):\n",
            " #   Column  Non-Null Count  Dtype  \n",
            "---  ------  --------------  -----  \n",
            " 0   indoor  49545 non-null  float64\n",
            "dtypes: float64(1)\n",
            "memory usage: 774.1 KB\n"
          ]
        }
      ],
      "source": [
        "df2.info()"
      ]
    },
    {
      "cell_type": "markdown",
      "id": "49ee45b3",
      "metadata": {
        "id": "49ee45b3"
      },
      "source": [
        "### 관심있는 데이터 선택\n",
        "- DataFrame의 부분 인덱싱"
      ]
    },
    {
      "cell_type": "code",
      "execution_count": 53,
      "id": "b5a558a8",
      "metadata": {
        "colab": {
          "base_uri": "https://localhost:8080/"
        },
        "id": "b5a558a8",
        "outputId": "e5c59104-061a-41c3-ebcd-4befe76552b1"
      },
      "outputs": [
        {
          "output_type": "stream",
          "name": "stdout",
          "text": [
            "<class 'pandas.core.frame.DataFrame'>\n",
            "DatetimeIndex: 4452 entries, 2014-01-01 00:03:06+01:00 to 2014-01-31 23:56:58+01:00\n",
            "Data columns (total 1 columns):\n",
            " #   Column   Non-Null Count  Dtype  \n",
            "---  ------   --------------  -----  \n",
            " 0   outdoor  4452 non-null   float64\n",
            "dtypes: float64(1)\n",
            "memory usage: 69.6 KB\n"
          ]
        }
      ],
      "source": [
        "#전체 데이터에서 1월 데이터만을 선별 \n",
        "mask_jan = (df1.index >= \"2014-1-1\") & (df1.index < \"2014-2-1\")\n",
        "df1_jan = df1[mask_jan]\n",
        "\n",
        "df1_jan.info()"
      ]
    },
    {
      "cell_type": "markdown",
      "id": "58e248c7",
      "metadata": {
        "id": "58e248c7"
      },
      "source": [
        "- 슬라이싱"
      ]
    },
    {
      "cell_type": "code",
      "execution_count": 54,
      "id": "5b48e142",
      "metadata": {
        "colab": {
          "base_uri": "https://localhost:8080/"
        },
        "id": "5b48e142",
        "outputId": "eb5f1a13-ff2a-451b-8194-4b6ac455e725"
      },
      "outputs": [
        {
          "output_type": "stream",
          "name": "stdout",
          "text": [
            "<class 'pandas.core.frame.DataFrame'>\n",
            "DatetimeIndex: 4452 entries, 2014-01-01 00:03:06+01:00 to 2014-01-31 23:56:58+01:00\n",
            "Data columns (total 1 columns):\n",
            " #   Column  Non-Null Count  Dtype  \n",
            "---  ------  --------------  -----  \n",
            " 0   indoor  4452 non-null   float64\n",
            "dtypes: float64(1)\n",
            "memory usage: 69.6 KB\n"
          ]
        }
      ],
      "source": [
        "df2_jan = df2[\"2014-1-1\":\"2014-1-31\"]\n",
        "df2_jan.info()"
      ]
    },
    {
      "cell_type": "code",
      "execution_count": 55,
      "id": "2445c8ea",
      "metadata": {
        "colab": {
          "base_uri": "https://localhost:8080/",
          "height": 0
        },
        "id": "2445c8ea",
        "outputId": "f07ffbbf-0032-4057-85ef-882d82f1731b"
      },
      "outputs": [
        {
          "output_type": "execute_result",
          "data": {
            "text/plain": [
              "<matplotlib.axes._subplots.AxesSubplot at 0x7fc7bd7cf850>"
            ]
          },
          "metadata": {},
          "execution_count": 55
        },
        {
          "output_type": "stream",
          "name": "stderr",
          "text": [
            "/usr/local/lib/python3.7/dist-packages/matplotlib/backends/backend_agg.py:214: RuntimeWarning: Glyph 49440 missing from current font.\n",
            "  font.set_text(s, 0.0, flags=flags)\n",
            "/usr/local/lib/python3.7/dist-packages/matplotlib/backends/backend_agg.py:214: RuntimeWarning: Glyph 53469 missing from current font.\n",
            "  font.set_text(s, 0.0, flags=flags)\n",
            "/usr/local/lib/python3.7/dist-packages/matplotlib/backends/backend_agg.py:214: RuntimeWarning: Glyph 46108 missing from current font.\n",
            "  font.set_text(s, 0.0, flags=flags)\n",
            "/usr/local/lib/python3.7/dist-packages/matplotlib/backends/backend_agg.py:214: RuntimeWarning: Glyph 50900 missing from current font.\n",
            "  font.set_text(s, 0.0, flags=flags)\n",
            "/usr/local/lib/python3.7/dist-packages/matplotlib/backends/backend_agg.py:214: RuntimeWarning: Glyph 51032 missing from current font.\n",
            "  font.set_text(s, 0.0, flags=flags)\n",
            "/usr/local/lib/python3.7/dist-packages/matplotlib/backends/backend_agg.py:214: RuntimeWarning: Glyph 45236 missing from current font.\n",
            "  font.set_text(s, 0.0, flags=flags)\n",
            "/usr/local/lib/python3.7/dist-packages/matplotlib/backends/backend_agg.py:214: RuntimeWarning: Glyph 50808 missing from current font.\n",
            "  font.set_text(s, 0.0, flags=flags)\n",
            "/usr/local/lib/python3.7/dist-packages/matplotlib/backends/backend_agg.py:214: RuntimeWarning: Glyph 48512 missing from current font.\n",
            "  font.set_text(s, 0.0, flags=flags)\n",
            "/usr/local/lib/python3.7/dist-packages/matplotlib/backends/backend_agg.py:214: RuntimeWarning: Glyph 50728 missing from current font.\n",
            "  font.set_text(s, 0.0, flags=flags)\n",
            "/usr/local/lib/python3.7/dist-packages/matplotlib/backends/backend_agg.py:214: RuntimeWarning: Glyph 46020 missing from current font.\n",
            "  font.set_text(s, 0.0, flags=flags)\n",
            "/usr/local/lib/python3.7/dist-packages/matplotlib/backends/backend_agg.py:214: RuntimeWarning: Glyph 49884 missing from current font.\n",
            "  font.set_text(s, 0.0, flags=flags)\n",
            "/usr/local/lib/python3.7/dist-packages/matplotlib/backends/backend_agg.py:214: RuntimeWarning: Glyph 44228 missing from current font.\n",
            "  font.set_text(s, 0.0, flags=flags)\n",
            "/usr/local/lib/python3.7/dist-packages/matplotlib/backends/backend_agg.py:214: RuntimeWarning: Glyph 50676 missing from current font.\n",
            "  font.set_text(s, 0.0, flags=flags)\n",
            "/usr/local/lib/python3.7/dist-packages/matplotlib/backends/backend_agg.py:214: RuntimeWarning: Glyph 49885 missing from current font.\n",
            "  font.set_text(s, 0.0, flags=flags)\n",
            "/usr/local/lib/python3.7/dist-packages/matplotlib/backends/backend_agg.py:214: RuntimeWarning: Glyph 54868 missing from current font.\n",
            "  font.set_text(s, 0.0, flags=flags)\n",
            "/usr/local/lib/python3.7/dist-packages/matplotlib/backends/backend_agg.py:183: RuntimeWarning: Glyph 49440 missing from current font.\n",
            "  font.set_text(s, 0, flags=flags)\n",
            "/usr/local/lib/python3.7/dist-packages/matplotlib/backends/backend_agg.py:183: RuntimeWarning: Glyph 53469 missing from current font.\n",
            "  font.set_text(s, 0, flags=flags)\n",
            "/usr/local/lib/python3.7/dist-packages/matplotlib/backends/backend_agg.py:183: RuntimeWarning: Glyph 46108 missing from current font.\n",
            "  font.set_text(s, 0, flags=flags)\n",
            "/usr/local/lib/python3.7/dist-packages/matplotlib/backends/backend_agg.py:183: RuntimeWarning: Glyph 50900 missing from current font.\n",
            "  font.set_text(s, 0, flags=flags)\n",
            "/usr/local/lib/python3.7/dist-packages/matplotlib/backends/backend_agg.py:183: RuntimeWarning: Glyph 51032 missing from current font.\n",
            "  font.set_text(s, 0, flags=flags)\n",
            "/usr/local/lib/python3.7/dist-packages/matplotlib/backends/backend_agg.py:183: RuntimeWarning: Glyph 45236 missing from current font.\n",
            "  font.set_text(s, 0, flags=flags)\n",
            "/usr/local/lib/python3.7/dist-packages/matplotlib/backends/backend_agg.py:183: RuntimeWarning: Glyph 50808 missing from current font.\n",
            "  font.set_text(s, 0, flags=flags)\n",
            "/usr/local/lib/python3.7/dist-packages/matplotlib/backends/backend_agg.py:183: RuntimeWarning: Glyph 48512 missing from current font.\n",
            "  font.set_text(s, 0, flags=flags)\n",
            "/usr/local/lib/python3.7/dist-packages/matplotlib/backends/backend_agg.py:183: RuntimeWarning: Glyph 50728 missing from current font.\n",
            "  font.set_text(s, 0, flags=flags)\n",
            "/usr/local/lib/python3.7/dist-packages/matplotlib/backends/backend_agg.py:183: RuntimeWarning: Glyph 46020 missing from current font.\n",
            "  font.set_text(s, 0, flags=flags)\n",
            "/usr/local/lib/python3.7/dist-packages/matplotlib/backends/backend_agg.py:183: RuntimeWarning: Glyph 49884 missing from current font.\n",
            "  font.set_text(s, 0, flags=flags)\n",
            "/usr/local/lib/python3.7/dist-packages/matplotlib/backends/backend_agg.py:183: RuntimeWarning: Glyph 44228 missing from current font.\n",
            "  font.set_text(s, 0, flags=flags)\n",
            "/usr/local/lib/python3.7/dist-packages/matplotlib/backends/backend_agg.py:183: RuntimeWarning: Glyph 50676 missing from current font.\n",
            "  font.set_text(s, 0, flags=flags)\n",
            "/usr/local/lib/python3.7/dist-packages/matplotlib/backends/backend_agg.py:183: RuntimeWarning: Glyph 49885 missing from current font.\n",
            "  font.set_text(s, 0, flags=flags)\n",
            "/usr/local/lib/python3.7/dist-packages/matplotlib/backends/backend_agg.py:183: RuntimeWarning: Glyph 54868 missing from current font.\n",
            "  font.set_text(s, 0, flags=flags)\n"
          ]
        },
        {
          "output_type": "display_data",
          "data": {
            "text/plain": [
              "<Figure size 864x288 with 1 Axes>"
            ],
            "image/png": "[encoded data removed]"
          },
          "metadata": {
            "needs_background": "light"
          }
        }
      ],
      "source": [
        "fig, ax = plt.subplots(1, 1, figsize=(12, 4))\n",
        "ax.set_title(\"선택된 월(1월)의 내외부 온도의 시계열 도식화\")\n",
        "df1_jan.plot(ax=ax)\n",
        "df2_jan.plot(ax=ax)"
      ]
    },
    {
      "cell_type": "markdown",
      "id": "5aba6af7",
      "metadata": {
        "id": "5aba6af7"
      },
      "source": [
        "### 1년 중 각 달의 평균 온도를 계산하려면 \n",
        "- 새로운 month의 열을 생성하고\n",
        "- 그 month 열에 DatetimeIndex 인덱서의 Timestamp 값에 있는 month 필드를 할당"
      ]
    },
    {
      "cell_type": "code",
      "execution_count": 56,
      "id": "9b3be57d",
      "metadata": {
        "colab": {
          "base_uri": "https://localhost:8080/",
          "height": 206
        },
        "id": "9b3be57d",
        "outputId": "93f3eb34-4bd4-45a0-a76f-5d2e3d5242c2"
      },
      "outputs": [
        {
          "output_type": "execute_result",
          "data": {
            "text/plain": [
              "                       time  outdoor  month\n",
              "0 2014-01-01 00:03:06+01:00     4.38      1\n",
              "1 2014-01-01 00:13:06+01:00     4.25      1\n",
              "2 2014-01-01 00:23:07+01:00     4.19      1\n",
              "3 2014-01-01 00:33:07+01:00     4.06      1\n",
              "4 2014-01-01 00:43:08+01:00     4.06      1"
            ],
            "text/html": [
              "\n",
              "  <div id=\"df-f2e90130-e0a4-477c-9875-1579a6de1cf8\">\n",
              "    <div class=\"colab-df-container\">\n",
              "      <div>\n",
              "<style scoped>\n",
              "    .dataframe tbody tr th:only-of-type {\n",
              "        vertical-align: middle;\n",
              "    }\n",
              "\n",
              "    .dataframe tbody tr th {\n",
              "        vertical-align: top;\n",
              "    }\n",
              "\n",
              "    .dataframe thead th {\n",
              "        text-align: right;\n",
              "    }\n",
              "</style>\n",
              "<table border=\"1\" class=\"dataframe\">\n",
              "  <thead>\n",
              "    <tr style=\"text-align: right;\">\n",
              "      <th></th>\n",
              "      <th>time</th>\n",
              "      <th>outdoor</th>\n",
              "      <th>month</th>\n",
              "    </tr>\n",
              "  </thead>\n",
              "  <tbody>\n",
              "    <tr>\n",
              "      <th>0</th>\n",
              "      <td>2014-01-01 00:03:06+01:00</td>\n",
              "      <td>4.38</td>\n",
              "      <td>1</td>\n",
              "    </tr>\n",
              "    <tr>\n",
              "      <th>1</th>\n",
              "      <td>2014-01-01 00:13:06+01:00</td>\n",
              "      <td>4.25</td>\n",
              "      <td>1</td>\n",
              "    </tr>\n",
              "    <tr>\n",
              "      <th>2</th>\n",
              "      <td>2014-01-01 00:23:07+01:00</td>\n",
              "      <td>4.19</td>\n",
              "      <td>1</td>\n",
              "    </tr>\n",
              "    <tr>\n",
              "      <th>3</th>\n",
              "      <td>2014-01-01 00:33:07+01:00</td>\n",
              "      <td>4.06</td>\n",
              "      <td>1</td>\n",
              "    </tr>\n",
              "    <tr>\n",
              "      <th>4</th>\n",
              "      <td>2014-01-01 00:43:08+01:00</td>\n",
              "      <td>4.06</td>\n",
              "      <td>1</td>\n",
              "    </tr>\n",
              "  </tbody>\n",
              "</table>\n",
              "</div>\n",
              "      <button class=\"colab-df-convert\" onclick=\"convertToInteractive('df-f2e90130-e0a4-477c-9875-1579a6de1cf8')\"\n",
              "              title=\"Convert this dataframe to an interactive table.\"\n",
              "              style=\"display:none;\">\n",
              "        \n",
              "  <svg xmlns=\"http://www.w3.org/2000/svg\" height=\"24px\"viewBox=\"0 0 24 24\"\n",
              "       width=\"24px\">\n",
              "    <path d=\"M0 0h24v24H0V0z\" fill=\"none\"/>\n",
              "    <path d=\"M18.56 5.44l.94 2.06.94-2.06 2.06-.94-2.06-.94-.94-2.06-.94 2.06-2.06.94zm-11 1L8.5 8.5l.94-2.06 2.06-.94-2.06-.94L8.5 2.5l-.94 2.06-2.06.94zm10 10l.94 2.06.94-2.06 2.06-.94-2.06-.94-.94-2.06-.94 2.06-2.06.94z\"/><path d=\"M17.41 7.96l-1.37-1.37c-.4-.4-.92-.59-1.43-.59-.52 0-1.04.2-1.43.59L10.3 9.45l-7.72 7.72c-.78.78-.78 2.05 0 2.83L4 21.41c.39.39.9.59 1.41.59.51 0 1.02-.2 1.41-.59l7.78-7.78 2.81-2.81c.8-.78.8-2.07 0-2.86zM5.41 20L4 18.59l7.72-7.72 1.47 1.35L5.41 20z\"/>\n",
              "  </svg>\n",
              "      </button>\n",
              "      \n",
              "  <style>\n",
              "    .colab-df-container {\n",
              "      display:flex;\n",
              "      flex-wrap:wrap;\n",
              "      gap: 12px;\n",
              "    }\n",
              "\n",
              "    .colab-df-convert {\n",
              "      background-color: #E8F0FE;\n",
              "      border: none;\n",
              "      border-radius: 50%;\n",
              "      cursor: pointer;\n",
              "      display: none;\n",
              "      fill: #1967D2;\n",
              "      height: 32px;\n",
              "      padding: 0 0 0 0;\n",
              "      width: 32px;\n",
              "    }\n",
              "\n",
              "    .colab-df-convert:hover {\n",
              "      background-color: #E2EBFA;\n",
              "      box-shadow: 0px 1px 2px rgba(60, 64, 67, 0.3), 0px 1px 3px 1px rgba(60, 64, 67, 0.15);\n",
              "      fill: #174EA6;\n",
              "    }\n",
              "\n",
              "    [theme=dark] .colab-df-convert {\n",
              "      background-color: #3B4455;\n",
              "      fill: #D2E3FC;\n",
              "    }\n",
              "\n",
              "    [theme=dark] .colab-df-convert:hover {\n",
              "      background-color: #434B5C;\n",
              "      box-shadow: 0px 1px 3px 1px rgba(0, 0, 0, 0.15);\n",
              "      filter: drop-shadow(0px 1px 2px rgba(0, 0, 0, 0.3));\n",
              "      fill: #FFFFFF;\n",
              "    }\n",
              "  </style>\n",
              "\n",
              "      <script>\n",
              "        const buttonEl =\n",
              "          document.querySelector('#df-f2e90130-e0a4-477c-9875-1579a6de1cf8 button.colab-df-convert');\n",
              "        buttonEl.style.display =\n",
              "          google.colab.kernel.accessAllowed ? 'block' : 'none';\n",
              "\n",
              "        async function convertToInteractive(key) {\n",
              "          const element = document.querySelector('#df-f2e90130-e0a4-477c-9875-1579a6de1cf8');\n",
              "          const dataTable =\n",
              "            await google.colab.kernel.invokeFunction('convertToInteractive',\n",
              "                                                     [key], {});\n",
              "          if (!dataTable) return;\n",
              "\n",
              "          const docLinkHtml = 'Like what you see? Visit the ' +\n",
              "            '<a target=\"_blank\" href=https://colab.research.google.com/notebooks/data_table.ipynb>data table notebook</a>'\n",
              "            + ' to learn more about interactive tables.';\n",
              "          element.innerHTML = '';\n",
              "          dataTable['output_type'] = 'display_data';\n",
              "          await google.colab.output.renderOutput(dataTable, element);\n",
              "          const docLink = document.createElement('div');\n",
              "          docLink.innerHTML = docLinkHtml;\n",
              "          element.appendChild(docLink);\n",
              "        }\n",
              "      </script>\n",
              "    </div>\n",
              "  </div>\n",
              "  "
            ]
          },
          "metadata": {},
          "execution_count": 56
        }
      ],
      "source": [
        "# 인덱스를 DataFrame의 열로 변환\n",
        "df1_month = df1.reset_index()\n",
        "# 새로 생성된 time 열에 apply\n",
        "df1_month[\"month\"] = df1_month.time.apply(lambda x: x.month)\n",
        "\n",
        "df1_month.head()"
      ]
    },
    {
      "cell_type": "markdown",
      "id": "386f9dd4",
      "metadata": {
        "id": "386f9dd4"
      },
      "source": [
        "- DataFrame 을 새 month 필드로 그룹화하고\n",
        "- 각 그룹 내 평균을 계산하기 위한 mean 함수를 사용"
      ]
    },
    {
      "cell_type": "code",
      "execution_count": 57,
      "id": "27f724e5",
      "metadata": {
        "id": "27f724e5"
      },
      "outputs": [],
      "source": [
        "df1_month = df1_month.groupby(\"month\").aggregate(np.mean)\n",
        "df2_month = df2.reset_index()\n",
        "df2_month[\"month\"] = df2_month.time.apply(lambda x: x.month)\n",
        "df2_month = df2_month.groupby(\"month\").aggregate(np.mean)"
      ]
    },
    {
      "cell_type": "markdown",
      "id": "cc1c1dda",
      "metadata": {
        "id": "cc1c1dda"
      },
      "source": [
        "- join 메서드를 사용해 df1_month와 df2_month를 단일 DataFrame으로 병합"
      ]
    },
    {
      "cell_type": "code",
      "execution_count": 58,
      "id": "5fc2a9cf",
      "metadata": {
        "colab": {
          "base_uri": "https://localhost:8080/",
          "height": 175
        },
        "id": "5fc2a9cf",
        "outputId": "4b83c10d-f342-453a-c7ad-b423b78947e4"
      },
      "outputs": [
        {
          "output_type": "execute_result",
          "data": {
            "text/plain": [
              "        outdoor     indoor\n",
              "month                     \n",
              "1     -1.776646  19.862590\n",
              "2      2.231613  20.231507\n",
              "3      4.615437  19.597748"
            ],
            "text/html": [
              "\n",
              "  <div id=\"df-f5d88110-e0c9-429c-82c5-7386621ce6c5\">\n",
              "    <div class=\"colab-df-container\">\n",
              "      <div>\n",
              "<style scoped>\n",
              "    .dataframe tbody tr th:only-of-type {\n",
              "        vertical-align: middle;\n",
              "    }\n",
              "\n",
              "    .dataframe tbody tr th {\n",
              "        vertical-align: top;\n",
              "    }\n",
              "\n",
              "    .dataframe thead th {\n",
              "        text-align: right;\n",
              "    }\n",
              "</style>\n",
              "<table border=\"1\" class=\"dataframe\">\n",
              "  <thead>\n",
              "    <tr style=\"text-align: right;\">\n",
              "      <th></th>\n",
              "      <th>outdoor</th>\n",
              "      <th>indoor</th>\n",
              "    </tr>\n",
              "    <tr>\n",
              "      <th>month</th>\n",
              "      <th></th>\n",
              "      <th></th>\n",
              "    </tr>\n",
              "  </thead>\n",
              "  <tbody>\n",
              "    <tr>\n",
              "      <th>1</th>\n",
              "      <td>-1.776646</td>\n",
              "      <td>19.862590</td>\n",
              "    </tr>\n",
              "    <tr>\n",
              "      <th>2</th>\n",
              "      <td>2.231613</td>\n",
              "      <td>20.231507</td>\n",
              "    </tr>\n",
              "    <tr>\n",
              "      <th>3</th>\n",
              "      <td>4.615437</td>\n",
              "      <td>19.597748</td>\n",
              "    </tr>\n",
              "  </tbody>\n",
              "</table>\n",
              "</div>\n",
              "      <button class=\"colab-df-convert\" onclick=\"convertToInteractive('df-f5d88110-e0c9-429c-82c5-7386621ce6c5')\"\n",
              "              title=\"Convert this dataframe to an interactive table.\"\n",
              "              style=\"display:none;\">\n",
              "        \n",
              "  <svg xmlns=\"http://www.w3.org/2000/svg\" height=\"24px\"viewBox=\"0 0 24 24\"\n",
              "       width=\"24px\">\n",
              "    <path d=\"M0 0h24v24H0V0z\" fill=\"none\"/>\n",
              "    <path d=\"M18.56 5.44l.94 2.06.94-2.06 2.06-.94-2.06-.94-.94-2.06-.94 2.06-2.06.94zm-11 1L8.5 8.5l.94-2.06 2.06-.94-2.06-.94L8.5 2.5l-.94 2.06-2.06.94zm10 10l.94 2.06.94-2.06 2.06-.94-2.06-.94-.94-2.06-.94 2.06-2.06.94z\"/><path d=\"M17.41 7.96l-1.37-1.37c-.4-.4-.92-.59-1.43-.59-.52 0-1.04.2-1.43.59L10.3 9.45l-7.72 7.72c-.78.78-.78 2.05 0 2.83L4 21.41c.39.39.9.59 1.41.59.51 0 1.02-.2 1.41-.59l7.78-7.78 2.81-2.81c.8-.78.8-2.07 0-2.86zM5.41 20L4 18.59l7.72-7.72 1.47 1.35L5.41 20z\"/>\n",
              "  </svg>\n",
              "      </button>\n",
              "      \n",
              "  <style>\n",
              "    .colab-df-container {\n",
              "      display:flex;\n",
              "      flex-wrap:wrap;\n",
              "      gap: 12px;\n",
              "    }\n",
              "\n",
              "    .colab-df-convert {\n",
              "      background-color: #E8F0FE;\n",
              "      border: none;\n",
              "      border-radius: 50%;\n",
              "      cursor: pointer;\n",
              "      display: none;\n",
              "      fill: #1967D2;\n",
              "      height: 32px;\n",
              "      padding: 0 0 0 0;\n",
              "      width: 32px;\n",
              "    }\n",
              "\n",
              "    .colab-df-convert:hover {\n",
              "      background-color: #E2EBFA;\n",
              "      box-shadow: 0px 1px 2px rgba(60, 64, 67, 0.3), 0px 1px 3px 1px rgba(60, 64, 67, 0.15);\n",
              "      fill: #174EA6;\n",
              "    }\n",
              "\n",
              "    [theme=dark] .colab-df-convert {\n",
              "      background-color: #3B4455;\n",
              "      fill: #D2E3FC;\n",
              "    }\n",
              "\n",
              "    [theme=dark] .colab-df-convert:hover {\n",
              "      background-color: #434B5C;\n",
              "      box-shadow: 0px 1px 3px 1px rgba(0, 0, 0, 0.15);\n",
              "      filter: drop-shadow(0px 1px 2px rgba(0, 0, 0, 0.3));\n",
              "      fill: #FFFFFF;\n",
              "    }\n",
              "  </style>\n",
              "\n",
              "      <script>\n",
              "        const buttonEl =\n",
              "          document.querySelector('#df-f5d88110-e0c9-429c-82c5-7386621ce6c5 button.colab-df-convert');\n",
              "        buttonEl.style.display =\n",
              "          google.colab.kernel.accessAllowed ? 'block' : 'none';\n",
              "\n",
              "        async function convertToInteractive(key) {\n",
              "          const element = document.querySelector('#df-f5d88110-e0c9-429c-82c5-7386621ce6c5');\n",
              "          const dataTable =\n",
              "            await google.colab.kernel.invokeFunction('convertToInteractive',\n",
              "                                                     [key], {});\n",
              "          if (!dataTable) return;\n",
              "\n",
              "          const docLinkHtml = 'Like what you see? Visit the ' +\n",
              "            '<a target=\"_blank\" href=https://colab.research.google.com/notebooks/data_table.ipynb>data table notebook</a>'\n",
              "            + ' to learn more about interactive tables.';\n",
              "          element.innerHTML = '';\n",
              "          dataTable['output_type'] = 'display_data';\n",
              "          await google.colab.output.renderOutput(dataTable, element);\n",
              "          const docLink = document.createElement('div');\n",
              "          docLink.innerHTML = docLinkHtml;\n",
              "          element.appendChild(docLink);\n",
              "        }\n",
              "      </script>\n",
              "    </div>\n",
              "  </div>\n",
              "  "
            ]
          },
          "metadata": {},
          "execution_count": 58
        }
      ],
      "source": [
        "df_month = df1_month.join(df2_month)\n",
        "df_month.head(3)"
      ]
    },
    {
      "cell_type": "markdown",
      "id": "5d68f3a2",
      "metadata": {
        "id": "5d68f3a2"
      },
      "source": [
        "### Simplification"
      ]
    },
    {
      "cell_type": "code",
      "execution_count": 59,
      "id": "91c196d2",
      "metadata": {
        "colab": {
          "base_uri": "https://localhost:8080/",
          "height": 0
        },
        "id": "91c196d2",
        "outputId": "4125f6fd-9c39-4bae-c5cb-83b93746adad"
      },
      "outputs": [
        {
          "output_type": "stream",
          "name": "stderr",
          "text": [
            "/usr/local/lib/python3.7/dist-packages/pandas/core/arrays/datetimes.py:1146: UserWarning: Converting to PeriodArray/Index representation will drop timezone information.\n",
            "  UserWarning,\n"
          ]
        },
        {
          "output_type": "execute_result",
          "data": {
            "text/plain": [
              "          outdoor     indoor\n",
              "time                        \n",
              "2014-01 -1.776646  19.862590\n",
              "2014-02  2.231613  20.231507\n",
              "2014-03  4.615437  19.597748"
            ],
            "text/html": [
              "\n",
              "  <div id=\"df-ba0cdf69-9328-44e6-a2cb-9c9689eceecc\">\n",
              "    <div class=\"colab-df-container\">\n",
              "      <div>\n",
              "<style scoped>\n",
              "    .dataframe tbody tr th:only-of-type {\n",
              "        vertical-align: middle;\n",
              "    }\n",
              "\n",
              "    .dataframe tbody tr th {\n",
              "        vertical-align: top;\n",
              "    }\n",
              "\n",
              "    .dataframe thead th {\n",
              "        text-align: right;\n",
              "    }\n",
              "</style>\n",
              "<table border=\"1\" class=\"dataframe\">\n",
              "  <thead>\n",
              "    <tr style=\"text-align: right;\">\n",
              "      <th></th>\n",
              "      <th>outdoor</th>\n",
              "      <th>indoor</th>\n",
              "    </tr>\n",
              "    <tr>\n",
              "      <th>time</th>\n",
              "      <th></th>\n",
              "      <th></th>\n",
              "    </tr>\n",
              "  </thead>\n",
              "  <tbody>\n",
              "    <tr>\n",
              "      <th>2014-01</th>\n",
              "      <td>-1.776646</td>\n",
              "      <td>19.862590</td>\n",
              "    </tr>\n",
              "    <tr>\n",
              "      <th>2014-02</th>\n",
              "      <td>2.231613</td>\n",
              "      <td>20.231507</td>\n",
              "    </tr>\n",
              "    <tr>\n",
              "      <th>2014-03</th>\n",
              "      <td>4.615437</td>\n",
              "      <td>19.597748</td>\n",
              "    </tr>\n",
              "  </tbody>\n",
              "</table>\n",
              "</div>\n",
              "      <button class=\"colab-df-convert\" onclick=\"convertToInteractive('df-ba0cdf69-9328-44e6-a2cb-9c9689eceecc')\"\n",
              "              title=\"Convert this dataframe to an interactive table.\"\n",
              "              style=\"display:none;\">\n",
              "        \n",
              "  <svg xmlns=\"http://www.w3.org/2000/svg\" height=\"24px\"viewBox=\"0 0 24 24\"\n",
              "       width=\"24px\">\n",
              "    <path d=\"M0 0h24v24H0V0z\" fill=\"none\"/>\n",
              "    <path d=\"M18.56 5.44l.94 2.06.94-2.06 2.06-.94-2.06-.94-.94-2.06-.94 2.06-2.06.94zm-11 1L8.5 8.5l.94-2.06 2.06-.94-2.06-.94L8.5 2.5l-.94 2.06-2.06.94zm10 10l.94 2.06.94-2.06 2.06-.94-2.06-.94-.94-2.06-.94 2.06-2.06.94z\"/><path d=\"M17.41 7.96l-1.37-1.37c-.4-.4-.92-.59-1.43-.59-.52 0-1.04.2-1.43.59L10.3 9.45l-7.72 7.72c-.78.78-.78 2.05 0 2.83L4 21.41c.39.39.9.59 1.41.59.51 0 1.02-.2 1.41-.59l7.78-7.78 2.81-2.81c.8-.78.8-2.07 0-2.86zM5.41 20L4 18.59l7.72-7.72 1.47 1.35L5.41 20z\"/>\n",
              "  </svg>\n",
              "      </button>\n",
              "      \n",
              "  <style>\n",
              "    .colab-df-container {\n",
              "      display:flex;\n",
              "      flex-wrap:wrap;\n",
              "      gap: 12px;\n",
              "    }\n",
              "\n",
              "    .colab-df-convert {\n",
              "      background-color: #E8F0FE;\n",
              "      border: none;\n",
              "      border-radius: 50%;\n",
              "      cursor: pointer;\n",
              "      display: none;\n",
              "      fill: #1967D2;\n",
              "      height: 32px;\n",
              "      padding: 0 0 0 0;\n",
              "      width: 32px;\n",
              "    }\n",
              "\n",
              "    .colab-df-convert:hover {\n",
              "      background-color: #E2EBFA;\n",
              "      box-shadow: 0px 1px 2px rgba(60, 64, 67, 0.3), 0px 1px 3px 1px rgba(60, 64, 67, 0.15);\n",
              "      fill: #174EA6;\n",
              "    }\n",
              "\n",
              "    [theme=dark] .colab-df-convert {\n",
              "      background-color: #3B4455;\n",
              "      fill: #D2E3FC;\n",
              "    }\n",
              "\n",
              "    [theme=dark] .colab-df-convert:hover {\n",
              "      background-color: #434B5C;\n",
              "      box-shadow: 0px 1px 3px 1px rgba(0, 0, 0, 0.15);\n",
              "      filter: drop-shadow(0px 1px 2px rgba(0, 0, 0, 0.3));\n",
              "      fill: #FFFFFF;\n",
              "    }\n",
              "  </style>\n",
              "\n",
              "      <script>\n",
              "        const buttonEl =\n",
              "          document.querySelector('#df-ba0cdf69-9328-44e6-a2cb-9c9689eceecc button.colab-df-convert');\n",
              "        buttonEl.style.display =\n",
              "          google.colab.kernel.accessAllowed ? 'block' : 'none';\n",
              "\n",
              "        async function convertToInteractive(key) {\n",
              "          const element = document.querySelector('#df-ba0cdf69-9328-44e6-a2cb-9c9689eceecc');\n",
              "          const dataTable =\n",
              "            await google.colab.kernel.invokeFunction('convertToInteractive',\n",
              "                                                     [key], {});\n",
              "          if (!dataTable) return;\n",
              "\n",
              "          const docLinkHtml = 'Like what you see? Visit the ' +\n",
              "            '<a target=\"_blank\" href=https://colab.research.google.com/notebooks/data_table.ipynb>data table notebook</a>'\n",
              "            + ' to learn more about interactive tables.';\n",
              "          element.innerHTML = '';\n",
              "          dataTable['output_type'] = 'display_data';\n",
              "          await google.colab.output.renderOutput(dataTable, element);\n",
              "          const docLink = document.createElement('div');\n",
              "          docLink.innerHTML = docLinkHtml;\n",
              "          element.appendChild(docLink);\n",
              "        }\n",
              "      </script>\n",
              "    </div>\n",
              "  </div>\n",
              "  "
            ]
          },
          "metadata": {},
          "execution_count": 59
        }
      ],
      "source": [
        "df_month = pd.concat([df.to_period(\"M\").groupby(level=0).mean() for df in [df1, df2]], axis=1)\n",
        "df_month.head(3)"
      ]
    },
    {
      "cell_type": "code",
      "execution_count": 60,
      "id": "fb4d6fa1",
      "metadata": {
        "colab": {
          "base_uri": "https://localhost:8080/",
          "height": 0
        },
        "id": "fb4d6fa1",
        "outputId": "e0b48d81-52d6-4d54-c8b7-3474bea93956"
      },
      "outputs": [
        {
          "output_type": "execute_result",
          "data": {
            "text/plain": [
              "<matplotlib.axes._subplots.AxesSubplot at 0x7fc7bd5a2750>"
            ]
          },
          "metadata": {},
          "execution_count": 60
        },
        {
          "output_type": "stream",
          "name": "stderr",
          "text": [
            "/usr/local/lib/python3.7/dist-packages/matplotlib/backends/backend_agg.py:214: RuntimeWarning: Glyph 50900 missing from current font.\n",
            "  font.set_text(s, 0.0, flags=flags)\n",
            "/usr/local/lib/python3.7/dist-packages/matplotlib/backends/backend_agg.py:214: RuntimeWarning: Glyph 48324 missing from current font.\n",
            "  font.set_text(s, 0.0, flags=flags)\n",
            "/usr/local/lib/python3.7/dist-packages/matplotlib/backends/backend_agg.py:214: RuntimeWarning: Glyph 54217 missing from current font.\n",
            "  font.set_text(s, 0.0, flags=flags)\n",
            "/usr/local/lib/python3.7/dist-packages/matplotlib/backends/backend_agg.py:214: RuntimeWarning: Glyph 44512 missing from current font.\n",
            "  font.set_text(s, 0.0, flags=flags)\n",
            "/usr/local/lib/python3.7/dist-packages/matplotlib/backends/backend_agg.py:214: RuntimeWarning: Glyph 45236 missing from current font.\n",
            "  font.set_text(s, 0.0, flags=flags)\n",
            "/usr/local/lib/python3.7/dist-packages/matplotlib/backends/backend_agg.py:214: RuntimeWarning: Glyph 50808 missing from current font.\n",
            "  font.set_text(s, 0.0, flags=flags)\n",
            "/usr/local/lib/python3.7/dist-packages/matplotlib/backends/backend_agg.py:214: RuntimeWarning: Glyph 48512 missing from current font.\n",
            "  font.set_text(s, 0.0, flags=flags)\n",
            "/usr/local/lib/python3.7/dist-packages/matplotlib/backends/backend_agg.py:214: RuntimeWarning: Glyph 50728 missing from current font.\n",
            "  font.set_text(s, 0.0, flags=flags)\n",
            "/usr/local/lib/python3.7/dist-packages/matplotlib/backends/backend_agg.py:214: RuntimeWarning: Glyph 46020 missing from current font.\n",
            "  font.set_text(s, 0.0, flags=flags)\n",
            "/usr/local/lib/python3.7/dist-packages/matplotlib/backends/backend_agg.py:183: RuntimeWarning: Glyph 50900 missing from current font.\n",
            "  font.set_text(s, 0, flags=flags)\n",
            "/usr/local/lib/python3.7/dist-packages/matplotlib/backends/backend_agg.py:183: RuntimeWarning: Glyph 48324 missing from current font.\n",
            "  font.set_text(s, 0, flags=flags)\n",
            "/usr/local/lib/python3.7/dist-packages/matplotlib/backends/backend_agg.py:183: RuntimeWarning: Glyph 54217 missing from current font.\n",
            "  font.set_text(s, 0, flags=flags)\n",
            "/usr/local/lib/python3.7/dist-packages/matplotlib/backends/backend_agg.py:183: RuntimeWarning: Glyph 44512 missing from current font.\n",
            "  font.set_text(s, 0, flags=flags)\n",
            "/usr/local/lib/python3.7/dist-packages/matplotlib/backends/backend_agg.py:183: RuntimeWarning: Glyph 45236 missing from current font.\n",
            "  font.set_text(s, 0, flags=flags)\n",
            "/usr/local/lib/python3.7/dist-packages/matplotlib/backends/backend_agg.py:183: RuntimeWarning: Glyph 50808 missing from current font.\n",
            "  font.set_text(s, 0, flags=flags)\n",
            "/usr/local/lib/python3.7/dist-packages/matplotlib/backends/backend_agg.py:183: RuntimeWarning: Glyph 48512 missing from current font.\n",
            "  font.set_text(s, 0, flags=flags)\n",
            "/usr/local/lib/python3.7/dist-packages/matplotlib/backends/backend_agg.py:183: RuntimeWarning: Glyph 50728 missing from current font.\n",
            "  font.set_text(s, 0, flags=flags)\n",
            "/usr/local/lib/python3.7/dist-packages/matplotlib/backends/backend_agg.py:183: RuntimeWarning: Glyph 46020 missing from current font.\n",
            "  font.set_text(s, 0, flags=flags)\n"
          ]
        },
        {
          "output_type": "display_data",
          "data": {
            "text/plain": [
              "<Figure size 864x288 with 2 Axes>"
            ],
            "image/png": "[encoded data removed]"
          },
          "metadata": {
            "needs_background": "light"
          }
        }
      ],
      "source": [
        "fig, axes = plt.subplots(1, 2, figsize=(12, 4))\n",
        "axes[0].set_title(\"월별 평균 내외부 온도\")\n",
        "axes[1].set_title(\"월별 내외부 온도\")\n",
        "\n",
        "df_month.plot(kind='bar', ax=axes[0])\n",
        "df_month.plot(kind='box', ax=axes[1])"
      ]
    },
    {
      "cell_type": "code",
      "execution_count": 60,
      "id": "6bea2ba1",
      "metadata": {
        "id": "6bea2ba1"
      },
      "outputs": [],
      "source": [
        ""
      ]
    },
    {
      "cell_type": "markdown",
      "id": "251fd4dd",
      "metadata": {
        "id": "251fd4dd"
      },
      "source": [
        "### resample\n",
        ": 시계열의 데이터 포인트 수가 변화되는 것\n",
        "- up-sampling  \n",
        ": 누락된 값을 채우는 방법\n",
        "- down-sampling  \n",
        ": 새로운 표본 포인트마다 복수의 표본 포인트를 집계하는 방법"
      ]
    },
    {
      "cell_type": "code",
      "execution_count": 61,
      "id": "458ed599",
      "metadata": {
        "colab": {
          "base_uri": "https://localhost:8080/"
        },
        "id": "458ed599",
        "outputId": "29726ce7-502c-44f8-a886-30844587bdd7"
      },
      "outputs": [
        {
          "output_type": "stream",
          "name": "stderr",
          "text": [
            "/usr/local/lib/python3.7/dist-packages/ipykernel_launcher.py:7: UserWarning: Pandas doesn't allow columns to be created via a new attribute name - see https://pandas.pydata.org/pandas-docs/stable/indexing.html#attribute-access\n",
            "  import sys\n",
            "/usr/local/lib/python3.7/dist-packages/ipykernel_launcher.py:9: UserWarning: Pandas doesn't allow columns to be created via a new attribute name - see https://pandas.pydata.org/pandas-docs/stable/indexing.html#attribute-access\n",
            "  if __name__ == '__main__':\n"
          ]
        }
      ],
      "source": [
        "# 시간별, 일별, 주별, 월별 평균으로 외부 온도를 재표본\n",
        "df1_hour = df1.resample(\"H\").mean()\n",
        "df1_hour.columns = [\"outdoor (hourly avg.)\"]\n",
        "df1_day = df1.resample(\"D\").mean()\n",
        "df1_day.columns = [\"outdoor (daily avg.)\"]\n",
        "df1_week = df1.resample(\"7D\").mean()\n",
        "df1_week.colums = [\"outdoor (weekly avg.)\"]\n",
        "df1_month = df1.resample(\"M\").mean()\n",
        "df1_month.colums = [\"outdoor (monthly avg.)\"]\n",
        "df_diff = (df1.resample(\"D\").mean().outdoor - df2.resample(\"D\").mean().indoor)"
      ]
    },
    {
      "cell_type": "code",
      "execution_count": 62,
      "id": "e53875bb",
      "metadata": {
        "colab": {
          "base_uri": "https://localhost:8080/",
          "height": 0
        },
        "id": "e53875bb",
        "outputId": "d07c2376-fe1a-417f-ba83-c65eefa27575"
      },
      "outputs": [
        {
          "output_type": "display_data",
          "data": {
            "text/plain": [
              "<Figure size 864x432 with 2 Axes>"
            ],
            "image/png": "[encoded data removed]"
          },
          "metadata": {
            "needs_background": "light"
          }
        }
      ],
      "source": [
        "fig, (ax1, ax2) = plt.subplots(2, 1, figsize=(12, 6))\n",
        "df1_hour.plot(ax=ax1, alpha=0.25)\n",
        "df1_day.plot(ax=ax1)\n",
        "df1_week.plot(ax=ax1)\n",
        "df1_month.plot(ax=ax1)\n",
        "df_diff.plot(ax=ax2)\n",
        "ax2.set_title(\"temperature difference between outdoor and indoor\")\n",
        "fig.tight_layout()"
      ]
    },
    {
      "cell_type": "code",
      "execution_count": 62,
      "id": "c50ac97a",
      "metadata": {
        "id": "c50ac97a"
      },
      "outputs": [],
      "source": [
        ""
      ]
    },
    {
      "cell_type": "code",
      "execution_count": 63,
      "id": "944acb01",
      "metadata": {
        "colab": {
          "base_uri": "https://localhost:8080/",
          "height": 0
        },
        "id": "944acb01",
        "outputId": "ac1a0d60-8608-48e3-be1b-27effa739094"
      },
      "outputs": [
        {
          "output_type": "execute_result",
          "data": {
            "text/plain": [
              "                           None  ffill  bfill\n",
              "time                                         \n",
              "2014-01-01 00:00:00+01:00  4.38    NaN   4.38\n",
              "2014-01-01 00:05:00+01:00   NaN   4.38   4.25\n",
              "2014-01-01 00:10:00+01:00  4.25   4.38   4.25\n",
              "2014-01-01 00:15:00+01:00   NaN   4.25   4.19\n",
              "2014-01-01 00:20:00+01:00  4.19   4.25   4.19"
            ],
            "text/html": [
              "\n",
              "  <div id=\"df-9b53dbc0-9952-466f-b944-af537205a32b\">\n",
              "    <div class=\"colab-df-container\">\n",
              "      <div>\n",
              "<style scoped>\n",
              "    .dataframe tbody tr th:only-of-type {\n",
              "        vertical-align: middle;\n",
              "    }\n",
              "\n",
              "    .dataframe tbody tr th {\n",
              "        vertical-align: top;\n",
              "    }\n",
              "\n",
              "    .dataframe thead th {\n",
              "        text-align: right;\n",
              "    }\n",
              "</style>\n",
              "<table border=\"1\" class=\"dataframe\">\n",
              "  <thead>\n",
              "    <tr style=\"text-align: right;\">\n",
              "      <th></th>\n",
              "      <th>None</th>\n",
              "      <th>ffill</th>\n",
              "      <th>bfill</th>\n",
              "    </tr>\n",
              "    <tr>\n",
              "      <th>time</th>\n",
              "      <th></th>\n",
              "      <th></th>\n",
              "      <th></th>\n",
              "    </tr>\n",
              "  </thead>\n",
              "  <tbody>\n",
              "    <tr>\n",
              "      <th>2014-01-01 00:00:00+01:00</th>\n",
              "      <td>4.38</td>\n",
              "      <td>NaN</td>\n",
              "      <td>4.38</td>\n",
              "    </tr>\n",
              "    <tr>\n",
              "      <th>2014-01-01 00:05:00+01:00</th>\n",
              "      <td>NaN</td>\n",
              "      <td>4.38</td>\n",
              "      <td>4.25</td>\n",
              "    </tr>\n",
              "    <tr>\n",
              "      <th>2014-01-01 00:10:00+01:00</th>\n",
              "      <td>4.25</td>\n",
              "      <td>4.38</td>\n",
              "      <td>4.25</td>\n",
              "    </tr>\n",
              "    <tr>\n",
              "      <th>2014-01-01 00:15:00+01:00</th>\n",
              "      <td>NaN</td>\n",
              "      <td>4.25</td>\n",
              "      <td>4.19</td>\n",
              "    </tr>\n",
              "    <tr>\n",
              "      <th>2014-01-01 00:20:00+01:00</th>\n",
              "      <td>4.19</td>\n",
              "      <td>4.25</td>\n",
              "      <td>4.19</td>\n",
              "    </tr>\n",
              "  </tbody>\n",
              "</table>\n",
              "</div>\n",
              "      <button class=\"colab-df-convert\" onclick=\"convertToInteractive('df-9b53dbc0-9952-466f-b944-af537205a32b')\"\n",
              "              title=\"Convert this dataframe to an interactive table.\"\n",
              "              style=\"display:none;\">\n",
              "        \n",
              "  <svg xmlns=\"http://www.w3.org/2000/svg\" height=\"24px\"viewBox=\"0 0 24 24\"\n",
              "       width=\"24px\">\n",
              "    <path d=\"M0 0h24v24H0V0z\" fill=\"none\"/>\n",
              "    <path d=\"M18.56 5.44l.94 2.06.94-2.06 2.06-.94-2.06-.94-.94-2.06-.94 2.06-2.06.94zm-11 1L8.5 8.5l.94-2.06 2.06-.94-2.06-.94L8.5 2.5l-.94 2.06-2.06.94zm10 10l.94 2.06.94-2.06 2.06-.94-2.06-.94-.94-2.06-.94 2.06-2.06.94z\"/><path d=\"M17.41 7.96l-1.37-1.37c-.4-.4-.92-.59-1.43-.59-.52 0-1.04.2-1.43.59L10.3 9.45l-7.72 7.72c-.78.78-.78 2.05 0 2.83L4 21.41c.39.39.9.59 1.41.59.51 0 1.02-.2 1.41-.59l7.78-7.78 2.81-2.81c.8-.78.8-2.07 0-2.86zM5.41 20L4 18.59l7.72-7.72 1.47 1.35L5.41 20z\"/>\n",
              "  </svg>\n",
              "      </button>\n",
              "      \n",
              "  <style>\n",
              "    .colab-df-container {\n",
              "      display:flex;\n",
              "      flex-wrap:wrap;\n",
              "      gap: 12px;\n",
              "    }\n",
              "\n",
              "    .colab-df-convert {\n",
              "      background-color: #E8F0FE;\n",
              "      border: none;\n",
              "      border-radius: 50%;\n",
              "      cursor: pointer;\n",
              "      display: none;\n",
              "      fill: #1967D2;\n",
              "      height: 32px;\n",
              "      padding: 0 0 0 0;\n",
              "      width: 32px;\n",
              "    }\n",
              "\n",
              "    .colab-df-convert:hover {\n",
              "      background-color: #E2EBFA;\n",
              "      box-shadow: 0px 1px 2px rgba(60, 64, 67, 0.3), 0px 1px 3px 1px rgba(60, 64, 67, 0.15);\n",
              "      fill: #174EA6;\n",
              "    }\n",
              "\n",
              "    [theme=dark] .colab-df-convert {\n",
              "      background-color: #3B4455;\n",
              "      fill: #D2E3FC;\n",
              "    }\n",
              "\n",
              "    [theme=dark] .colab-df-convert:hover {\n",
              "      background-color: #434B5C;\n",
              "      box-shadow: 0px 1px 3px 1px rgba(0, 0, 0, 0.15);\n",
              "      filter: drop-shadow(0px 1px 2px rgba(0, 0, 0, 0.3));\n",
              "      fill: #FFFFFF;\n",
              "    }\n",
              "  </style>\n",
              "\n",
              "      <script>\n",
              "        const buttonEl =\n",
              "          document.querySelector('#df-9b53dbc0-9952-466f-b944-af537205a32b button.colab-df-convert');\n",
              "        buttonEl.style.display =\n",
              "          google.colab.kernel.accessAllowed ? 'block' : 'none';\n",
              "\n",
              "        async function convertToInteractive(key) {\n",
              "          const element = document.querySelector('#df-9b53dbc0-9952-466f-b944-af537205a32b');\n",
              "          const dataTable =\n",
              "            await google.colab.kernel.invokeFunction('convertToInteractive',\n",
              "                                                     [key], {});\n",
              "          if (!dataTable) return;\n",
              "\n",
              "          const docLinkHtml = 'Like what you see? Visit the ' +\n",
              "            '<a target=\"_blank\" href=https://colab.research.google.com/notebooks/data_table.ipynb>data table notebook</a>'\n",
              "            + ' to learn more about interactive tables.';\n",
              "          element.innerHTML = '';\n",
              "          dataTable['output_type'] = 'display_data';\n",
              "          await google.colab.output.renderOutput(dataTable, element);\n",
              "          const docLink = document.createElement('div');\n",
              "          docLink.innerHTML = docLinkHtml;\n",
              "          element.appendChild(docLink);\n",
              "        }\n",
              "      </script>\n",
              "    </div>\n",
              "  </div>\n",
              "  "
            ]
          },
          "metadata": {},
          "execution_count": 63
        }
      ],
      "source": [
        "pd.concat([df1.resample(\"5min\").mean().rename(columns={\"outdoor\": 'None'}),\n",
        "          df1.resample(\"5min\").ffill().rename(columns={\"outdoor\": 'ffill'}),\n",
        "          df1.resample(\"5min\").bfill().rename(columns={\"outdoor\": 'bfill'})],\n",
        "         axis=1).head()"
      ]
    },
    {
      "cell_type": "code",
      "execution_count": 63,
      "id": "c049f160",
      "metadata": {
        "id": "c049f160"
      },
      "outputs": [],
      "source": [
        ""
      ]
    },
    {
      "cell_type": "markdown",
      "id": "1c3d5045",
      "metadata": {
        "id": "1c3d5045"
      },
      "source": [
        "## 6. Seaborn 그래픽 라이브러리\n",
        "- 분포도 커널 밀도 도식화, 결합 분포 도식화, 히트맵 등 통계와 데이터 분석 작업에 유용한 그래프 생성을 위한 기능을 제공\n",
        "- 통계 분석 및 데이터 시각화 분야에 세련된 상위 레벨 그래프 기능을 제공"
      ]
    },
    {
      "cell_type": "markdown",
      "id": "b057da33",
      "metadata": {
        "id": "b057da33"
      },
      "source": [
        "#### sns.set 함수"
      ]
    },
    {
      "cell_type": "code",
      "execution_count": 64,
      "id": "8ba30138",
      "metadata": {
        "id": "8ba30138"
      },
      "outputs": [],
      "source": [
        "sns.set(style=\"darkgrid\")  #darkgrid: 회색 배경, whitegrid: 흰 배경"
      ]
    },
    {
      "cell_type": "code",
      "execution_count": 65,
      "id": "36c9bd2f",
      "metadata": {
        "colab": {
          "base_uri": "https://localhost:8080/",
          "height": 0
        },
        "id": "36c9bd2f",
        "outputId": "4c97c892-bca2-46a5-ee46-578c5e1ec8d3"
      },
      "outputs": [
        {
          "output_type": "execute_result",
          "data": {
            "text/plain": [
              "<matplotlib.axes._subplots.AxesSubplot at 0x7fc7ba8a1410>"
            ]
          },
          "metadata": {},
          "execution_count": 65
        },
        {
          "output_type": "display_data",
          "data": {
            "text/plain": [
              "<Figure size 576x288 with 1 Axes>"
            ],
            "image/png": "[encoded data removed]"
          },
          "metadata": {}
        }
      ],
      "source": [
        "df1 = pd.read_csv('temperature_outdoor_2014.tsv', delimiter=\"\\t\",\n",
        "                  names=[\"time\", \"outdoor\"])\n",
        "df1.time = (pd.to_datetime(df1.time.values, unit=\"s\")\n",
        "           .tz_localize('UTC').tz_convert('Europe/Stockholm'))\n",
        "df1 = df1.set_index(\"time\").resample(\"10min\").mean()\n",
        "df2 = pd.read_csv('temperature_indoor_2014.tsv', delimiter=\"\\t\",\n",
        "                  names=[\"time\", \"indoor\"])\n",
        "df2.time = (pd.to_datetime(df2.time.values, unit=\"s\")\n",
        "           .tz_localize('UTC').tz_convert('Europe/Stockholm'))\n",
        "df2 = df2.set_index(\"time\").resample(\"10min\").mean()\n",
        "df_temp = pd.concat([df1, df2], axis=1)\n",
        "fig, ax = plt.subplots(1, 1, figsize=(8, 4))\n",
        "df_temp.resample(\"D\").mean().plot(y=[\"outdoor\", \"indoor\"], ax=ax)"
      ]
    },
    {
      "cell_type": "code",
      "execution_count": 65,
      "id": "e23ffbcd",
      "metadata": {
        "id": "e23ffbcd"
      },
      "outputs": [],
      "source": [
        ""
      ]
    },
    {
      "cell_type": "markdown",
      "id": "7217c990",
      "metadata": {
        "id": "7217c990"
      },
      "source": [
        "#### sns.distplot 함수\n",
        ": KDE 도면을 히스토그램 위에 중첩시켜 각각 도식화"
      ]
    },
    {
      "cell_type": "code",
      "execution_count": 66,
      "id": "103705f2",
      "metadata": {
        "colab": {
          "base_uri": "https://localhost:8080/",
          "height": 0
        },
        "id": "103705f2",
        "outputId": "c712124b-2787-49d7-b6e8-220ee4b2ac0b"
      },
      "outputs": [
        {
          "output_type": "stream",
          "name": "stderr",
          "text": [
            "/usr/local/lib/python3.7/dist-packages/pandas/core/arrays/datetimes.py:1146: UserWarning: Converting to PeriodArray/Index representation will drop timezone information.\n",
            "  UserWarning,\n",
            "/usr/local/lib/python3.7/dist-packages/seaborn/distributions.py:2619: FutureWarning: `distplot` is a deprecated function and will be removed in a future version. Please adapt your code to use either `displot` (a figure-level function with similar flexibility) or `histplot` (an axes-level function for histograms).\n",
            "  warnings.warn(msg, FutureWarning)\n",
            "/usr/local/lib/python3.7/dist-packages/pandas/core/arrays/datetimes.py:1146: UserWarning: Converting to PeriodArray/Index representation will drop timezone information.\n",
            "  UserWarning,\n",
            "/usr/local/lib/python3.7/dist-packages/seaborn/distributions.py:2619: FutureWarning: `distplot` is a deprecated function and will be removed in a future version. Please adapt your code to use either `displot` (a figure-level function with similar flexibility) or `histplot` (an axes-level function for histograms).\n",
            "  warnings.warn(msg, FutureWarning)\n"
          ]
        },
        {
          "output_type": "display_data",
          "data": {
            "text/plain": [
              "<Figure size 432x288 with 1 Axes>"
            ],
            "image/png": "[encoded data removed]"
          },
          "metadata": {}
        }
      ],
      "source": [
        "sns.distplot(df_temp.to_period(\"M\")[\"outdoor\"][\"2014-04\"].\n",
        "            dropna().values, bins=50);\n",
        "sns.distplot(df_temp.to_period(\"M\")[\"indoor\"][\"2014-04\"].\n",
        "            dropna().values, bins=50);"
      ]
    },
    {
      "cell_type": "markdown",
      "id": "23cbedc1",
      "metadata": {
        "id": "23cbedc1"
      },
      "source": [
        "#### sns.kdplot 함수\n",
        ": KDE 도면을 히스토그램 위에 중첩시켜 각각 도식화\n",
        "- 결합 커널-밀도 추정값의 등고선 그래프"
      ]
    },
    {
      "cell_type": "code",
      "execution_count": 67,
      "id": "bf549481",
      "metadata": {
        "colab": {
          "base_uri": "https://localhost:8080/",
          "height": 781
        },
        "id": "bf549481",
        "outputId": "e9065455-154c-4a19-dbaf-697a295cd7bd"
      },
      "outputs": [
        {
          "output_type": "stream",
          "name": "stderr",
          "text": [
            "/usr/local/lib/python3.7/dist-packages/seaborn/_decorators.py:43: FutureWarning: Pass the following variable as a keyword arg: y. From version 0.12, the only valid positional argument will be `data`, and passing other arguments without an explicit keyword will result in an error or misinterpretation.\n",
            "  FutureWarning\n",
            "/usr/local/lib/python3.7/dist-packages/seaborn/_decorators.py:43: FutureWarning: Pass the following variables as keyword args: x, y. From version 0.12, the only valid positional argument will be `data`, and passing other arguments without an explicit keyword will result in an error or misinterpretation.\n",
            "  FutureWarning\n"
          ]
        },
        {
          "output_type": "display_data",
          "data": {
            "text/plain": [
              "<Figure size 432x288 with 1 Axes>"
            ],
            "image/png": "[encoded data removed]"
          },
          "metadata": {}
        },
        {
          "output_type": "display_data",
          "data": {
            "text/plain": [
              "<Figure size 432x432 with 3 Axes>"
            ],
            "image/png": "[encoded data removed]"
          },
          "metadata": {}
        }
      ],
      "source": [
        "sns.kdeplot(df_temp.resample(\"H\").mean()[\"outdoor\"].dropna().values,\n",
        "           df_temp.resample(\"H\").mean()[\"indoor\"].dropna().values, shade=False)\n",
        "with sns.axes_style(\"white\"):\n",
        "    sns.jointplot(df_temp.resample(\"H\").mean()[\"outdoor\"].values,\n",
        "                 df_temp.resample(\"H\").mean()[\"indoor\"].values, kind=\"hex\")"
      ]
    },
    {
      "cell_type": "markdown",
      "id": "62eb1ee5",
      "metadata": {
        "id": "62eb1ee5"
      },
      "source": [
        "#### sns.boxplot 함수\n",
        ": 데이터셋의 기술 통계량을 시각화하기 위한 표준 상자 그림\n",
        "#### sns.violinplot 함수\n",
        ": 표준 상자의 변형으로 KDE 값이 상자 그림의 폭으로 나타나는 그림"
      ]
    },
    {
      "cell_type": "code",
      "execution_count": 68,
      "id": "b91593c3",
      "metadata": {
        "scrolled": false,
        "colab": {
          "base_uri": "https://localhost:8080/",
          "height": 0
        },
        "id": "b91593c3",
        "outputId": "aa2e4188-4085-42ee-8758-55f8f4e5cc74"
      },
      "outputs": [
        {
          "output_type": "execute_result",
          "data": {
            "text/plain": [
              "<matplotlib.axes._subplots.AxesSubplot at 0x7fc7b88ed590>"
            ]
          },
          "metadata": {},
          "execution_count": 68
        },
        {
          "output_type": "display_data",
          "data": {
            "text/plain": [
              "<Figure size 576x288 with 2 Axes>"
            ],
            "image/png": "[encoded data removed]"
          },
          "metadata": {}
        }
      ],
      "source": [
        "fig, (ax1, ax2) = plt.subplots(1, 2, figsize=(8, 4))\n",
        "sns.boxplot(data=df_temp.dropna(), ax=ax1, palette=\"pastel\")\n",
        "sns.violinplot(data=df_temp.dropna(), ax=ax2, palette=\"pastel\")"
      ]
    },
    {
      "cell_type": "code",
      "execution_count": 69,
      "id": "3b416686",
      "metadata": {
        "colab": {
          "base_uri": "https://localhost:8080/",
          "height": 0
        },
        "id": "3b416686",
        "outputId": "038d399d-ef71-4892-a071-b88e46584fe7"
      },
      "outputs": [
        {
          "output_type": "display_data",
          "data": {
            "text/plain": [
              "<Figure size 432x288 with 1 Axes>"
            ],
            "image/png": "[encoded data removed]"
          },
          "metadata": {}
        }
      ],
      "source": [
        "sns.violinplot(x=df_temp.dropna().index.month,\n",
        "              y=df_temp.dropna().outdoor, color=\"skyblue\");"
      ]
    },
    {
      "cell_type": "code",
      "execution_count": 69,
      "id": "afb603f4",
      "metadata": {
        "id": "afb603f4"
      },
      "outputs": [],
      "source": [
        ""
      ]
    },
    {
      "cell_type": "markdown",
      "id": "26da91ae",
      "metadata": {
        "id": "26da91ae"
      },
      "source": [
        "#### sns.heatmap\n",
        ": 범주형 변수, 특히 범주가 많은 변수에 유용한 그래프 "
      ]
    },
    {
      "cell_type": "code",
      "execution_count": 70,
      "id": "36a1b38c",
      "metadata": {
        "id": "36a1b38c"
      },
      "outputs": [],
      "source": [
        "df_temp[\"month\"] = df_temp.index.month\n",
        "df_temp[\"hour\"] = df_temp.index.hour\n",
        "table = pd.pivot_table(df_temp, values='outdoor',\n",
        "                      index=['month'], columns=['hour'], aggfunc=np.mean)"
      ]
    },
    {
      "cell_type": "code",
      "execution_count": 71,
      "id": "596db80c",
      "metadata": {
        "colab": {
          "base_uri": "https://localhost:8080/",
          "height": 303
        },
        "id": "596db80c",
        "outputId": "5d2185f6-43d2-48b7-c216-38cc6553c752"
      },
      "outputs": [
        {
          "output_type": "execute_result",
          "data": {
            "text/plain": [
              "<matplotlib.axes._subplots.AxesSubplot at 0x7fc7b8730310>"
            ]
          },
          "metadata": {},
          "execution_count": 71
        },
        {
          "output_type": "display_data",
          "data": {
            "text/plain": [
              "<Figure size 576x288 with 2 Axes>"
            ],
            "image/png": "[encoded data removed]"
          },
          "metadata": {}
        }
      ],
      "source": [
        "fig, ax = plt.subplots(1, 1, figsize=(8, 4))\n",
        "sns.heatmap(table, ax=ax)"
      ]
    }
  ],
  "metadata": {
    "kernelspec": {
      "display_name": "Python 3 (ipykernel)",
      "language": "python",
      "name": "python3"
    },
    "language_info": {
      "codemirror_mode": {
        "name": "ipython",
        "version": 3
      },
      "file_extension": ".py",
      "mimetype": "text/x-python",
      "name": "python",
      "nbconvert_exporter": "python",
      "pygments_lexer": "ipython3",
      "version": "3.9.7"
    },
    "colab": {
      "name": "Chapter 12.ipynb",
      "provenance": [],
      "collapsed_sections": [
        "13cc2878",
        "b8073526",
        "56dcdf0b",
        "3de9da77",
        "77c5fbf1",
        "6d207d8c",
        "d8f6171d",
        "443584b0",
        "c3125940",
        "bda9b174",
        "a5bb616a",
        "c18cc203",
        "e71806af",
        "e0da32c9",
        "c7918f57",
        "8e84c2e1",
        "2c9310ef",
        "281c7a81",
        "7b6c0f26",
        "c9b70153",
        "606afb05",
        "704949a5",
        "49ee45b3",
        "5aba6af7",
        "5d68f3a2",
        "251fd4dd",
        "b057da33",
        "7217c990",
        "23cbedc1",
        "62eb1ee5",
        "26da91ae"
      ]
    }
  },
  "nbformat": 4,
  "nbformat_minor": 5
}